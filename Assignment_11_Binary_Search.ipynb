{
  "cells": [
    {
      "cell_type": "markdown",
      "metadata": {
        "id": "view-in-github",
        "colab_type": "text"
      },
      "source": [
        "<a href=\"https://colab.research.google.com/github/Pratik94229/DSA-Assignments/blob/main/Assignment_11_Binary_Search.ipynb\" target=\"_parent\"><img src=\"https://colab.research.google.com/assets/colab-badge.svg\" alt=\"Open In Colab\"/></a>"
      ]
    },
    {
      "cell_type": "markdown",
      "source": [
        "**Question 1**\n",
        "\n",
        "Given a non-negative integer x, return the square root of x rounded down to the nearest integer. The returned integer should be non-negative as well.\n",
        "\n",
        "You must not use any built-in exponent function or operator.\n",
        "\n",
        "- For example, do not use pow(x, 0.5) in c++ or x  0.5 in python.\n",
        "\n",
        "```\n",
        "Example 1:\n",
        "\n",
        "Input: x = 4\n",
        "Output: 2\n",
        "Explanation: The square root of 4 is 2, so we return 2.\n",
        "\n",
        "Example 2:\n",
        "\n",
        "Input: x = 8\n",
        "Output: 2\n",
        "Explanation: The square root of 8 is 2.82842..., and since we round it down to the nearest integer, 2 is returned.    \n"
      ],
      "metadata": {
        "id": "BOcmEIFlbFlx"
      },
      "id": "BOcmEIFlbFlx"
    },
    {
      "cell_type": "code",
      "execution_count": 1,
      "id": "90a0ae10",
      "metadata": {
        "colab": {
          "base_uri": "https://localhost:8080/"
        },
        "id": "90a0ae10",
        "outputId": "91300591-f573-4bce-8458-f4b00c519acb"
      },
      "outputs": [
        {
          "output_type": "stream",
          "name": "stdout",
          "text": [
            "3\n"
          ]
        }
      ],
      "source": [
        "# Python3 program to find floor(sqrt(x)\n",
        "\n",
        "# Returns floor of square root of x\n",
        "\n",
        "\n",
        "def floorSqrt(x):\n",
        "\n",
        "    # Base cases\n",
        "    if (x == 0 or x == 1):\n",
        "        return x\n",
        "\n",
        "    # Starting from 1, try all numbers until\n",
        "    # i*i is greater than or equal to x.\n",
        "    i = 1\n",
        "    result = 1\n",
        "    while (result <= x):\n",
        "\n",
        "        i += 1\n",
        "        result = i * i\n",
        "\n",
        "    return i - 1\n",
        "\n",
        "\n",
        "# Driver Code\n",
        "x = 11\n",
        "print(floorSqrt(x))\n",
        "\n"
      ]
    },
    {
      "cell_type": "markdown",
      "source": [
        "**Question 2**\n",
        "\n",
        "A peak element is an element that is strictly greater than its neighbors.\n",
        "\n",
        "Given a 0-indexed integer array nums, find a peak element, and return its index. If the array contains multiple peaks, return the index to any of the peaks.\n",
        "\n",
        "You may imagine that nums[-1] = nums[n] = -∞. In other words, an element is always considered to be strictly greater than a neighbor that is outside the array.\n",
        "\n",
        "You must write an algorithm that runs in O(log n) time.\n",
        "```\n",
        "Example 1:\n",
        "Input: nums = [1,2,3,1]\n",
        "Output: 2\n",
        "Explanation: 3 is a peak element and your function should return the index number 2.\n",
        "\n",
        "\n",
        "Example 2:\n",
        "Input: nums = [1,2,1,3,5,6,4]\n",
        "Output: 5\n",
        "Explanation: Your function can return either index number 1 where the peak element is 2, or index number 5 where the peak element is 6.    \n",
        "    "
      ],
      "metadata": {
        "id": "MZuHRZgCbiea"
      },
      "id": "MZuHRZgCbiea"
    },
    {
      "cell_type": "code",
      "execution_count": 2,
      "id": "4c1fac95",
      "metadata": {
        "colab": {
          "base_uri": "https://localhost:8080/"
        },
        "id": "4c1fac95",
        "outputId": "ce624ac1-d4c9-4c76-e064-a4d1ee102e49"
      },
      "outputs": [
        {
          "output_type": "stream",
          "name": "stdout",
          "text": [
            "Index of a peak point is 2\n"
          ]
        }
      ],
      "source": [
        "# A Python3 program to find a peak element\n",
        "\n",
        "# Find the peak element in the array\n",
        "def findPeak(arr, n) :\n",
        "\n",
        "    # first or last element is peak element\n",
        "    if (n == 1) :\n",
        "      return 0\n",
        "    if (arr[0] >= arr[1]) :\n",
        "        return 0\n",
        "    if (arr[n - 1] >= arr[n - 2]) :\n",
        "        return n - 1\n",
        "\n",
        "    # check for every other element\n",
        "    for i in range(1, n - 1) :\n",
        "\n",
        "        # check if the neighbors are smaller\n",
        "        if (arr[i] >= arr[i - 1] and arr[i] >= arr[i + 1]) :\n",
        "            return i\n",
        "\n",
        "# Driver code.\n",
        "arr = [ 1, 3, 20, 4, 1, 0 ]\n",
        "n = len(arr)\n",
        "print(\"Index of a peak point is\", findPeak(arr, n))\n",
        "\n",
        "# This code is contributed by divyeshrabadiya07\n"
      ]
    },
    {
      "cell_type": "markdown",
      "source": [
        "**Question 3**\n",
        "\n",
        "Given an array nums containing n distinct numbers in the range [0, n], return the only number in the range that is missing from the array.\n",
        "\n",
        "```\n",
        "Example 1:\n",
        "Input: nums = [3,0,1]\n",
        "Output: 2\n",
        "Explanation: n = 3 since there are 3 numbers, so all numbers are in the range [0,3]. 2 is the missing number in the range since it does not appear in nums.\n",
        "\n",
        "Example 2:\n",
        "Input: nums = [0,1]\n",
        "Output: 2\n",
        "Explanation: n = 2 since there are 2 numbers, so all numbers are in the range [0,2]. 2 is the missing number in the range since it does not appear in nums.\n",
        "\n",
        "Example 3:\n",
        " Input: nums = [9,6,4,2,3,5,7,0,1]\n",
        "Output: 8\n",
        "Explanation: n = 9 since there are 9 numbers, so all numbers are in the range [0,9]. 8 is the missing number in the range since it does not appear in nums.   \n",
        "    "
      ],
      "metadata": {
        "id": "A5RYPGEOb8yp"
      },
      "id": "A5RYPGEOb8yp"
    },
    {
      "cell_type": "code",
      "execution_count": 3,
      "id": "70494805",
      "metadata": {
        "colab": {
          "base_uri": "https://localhost:8080/"
        },
        "id": "70494805",
        "outputId": "0a82b20f-e018-4d13-ea8c-f2baa42f3c6c"
      },
      "outputs": [
        {
          "output_type": "stream",
          "name": "stdout",
          "text": [
            "4\n"
          ]
        }
      ],
      "source": [
        "# Find Missing Element\n",
        "def findMissing(arr, N):\n",
        "\n",
        "\t# create a list of zeroes\n",
        "\ttemp = [0] * (N+1)\n",
        "\n",
        "\tfor i in range(0, N):\n",
        "\t\ttemp[arr[i] - 1] = 1\n",
        "\n",
        "\tfor i in range(0, N+1):\n",
        "\t\tif(temp[i] == 0):\n",
        "\t\t\tans = i + 1\n",
        "\n",
        "\tprint(ans)\n",
        "\n",
        "# Driver code\n",
        "if __name__ == '__main__':\n",
        "\tarr = [1, 2, 3, 5]\n",
        "\tN = len(arr)\n",
        "\n",
        "\t# Function call\n",
        "\tfindMissing(arr, N)\n",
        "\n",
        "\n"
      ]
    },
    {
      "cell_type": "markdown",
      "source": [
        "**Question 4**\n",
        "\n",
        "Given an array of integers nums containing n + 1 integers where each integer is in the range [1, n] inclusive.\n",
        "\n",
        "There is only one repeated number in nums, return this repeated number.\n",
        "\n",
        "You must solve the problem without modifying the array nums and uses only constant extra space.\n",
        "```\n",
        "Example 1:\n",
        "Input: nums = [1,3,4,2,2]\n",
        "Output: 2\n",
        "\n",
        "Example 2:\n",
        "Input: nums = [3,1,3,4,2]\n",
        "Output: 3   \n",
        "    "
      ],
      "metadata": {
        "id": "N8gG98UrcHkI"
      },
      "id": "N8gG98UrcHkI"
    },
    {
      "cell_type": "code",
      "execution_count": 4,
      "id": "ea0b601a",
      "metadata": {
        "colab": {
          "base_uri": "https://localhost:8080/"
        },
        "id": "ea0b601a",
        "outputId": "0276a1a7-ef28-457e-f688-fbcac52beaab"
      },
      "outputs": [
        {
          "output_type": "stream",
          "name": "stdout",
          "text": [
            "The repeating elements are : \n",
            "2  \n",
            "3  \n"
          ]
        }
      ],
      "source": [
        "\n",
        "# Python3 code to find duplicates in O(n) time\n",
        "numRay = [0, 4, 3, 2, 7, 8, 2, 3, 1]\n",
        "arr_size = len(numRay)\n",
        "for i in range(arr_size):\n",
        "\n",
        "    x = numRay[i] % arr_size\n",
        "    numRay[x] = numRay[x] + arr_size\n",
        "\n",
        "print(\"The repeating elements are : \")\n",
        "for i in range(arr_size):\n",
        "    if (numRay[i] >= arr_size*2):\n",
        "        print(i, \" \")\n",
        ""
      ]
    },
    {
      "cell_type": "markdown",
      "source": [
        "**Question 5**\n",
        "\n",
        "Given two integer arrays nums1 and nums2, return an array of their intersection. Each element in the result must be unique and you may return the result in any order.\n",
        "\n",
        "```\n",
        "\n",
        "Example 1:\n",
        "Input: nums1 = [1,2,2,1], nums2 = [2,2]\n",
        "Output: [2]\n",
        "\n",
        "Example 2:\n",
        "Input: nums1 = [4,9,5], nums2 = [9,4,9,8,4]\n",
        "Output: [9,4]\n",
        "Explanation: [4,9] is also accepted.\n",
        "```"
      ],
      "metadata": {
        "id": "phTV9XrKcTLe"
      },
      "id": "phTV9XrKcTLe"
    },
    {
      "cell_type": "code",
      "execution_count": 5,
      "id": "26931ab1",
      "metadata": {
        "colab": {
          "base_uri": "https://localhost:8080/"
        },
        "id": "26931ab1",
        "outputId": "f95e8b90-f7e7-4ee7-9f13-57e30d30f655"
      },
      "outputs": [
        {
          "output_type": "stream",
          "name": "stdout",
          "text": [
            "Number of elements after union operation:  9 \n",
            "The union set of both arrays is :\n",
            "{1, 2, 3, 4, 5, 6, 7, 8, 9}"
          ]
        }
      ],
      "source": [
        "# Python program for the union of two arrays using Set\n",
        "def getUnion(a, n, b, m):\n",
        "\n",
        "    # Defining set container s\n",
        "    s = set()\n",
        "\n",
        "    # Inserting array elements in s\n",
        "    for i in range(n):\n",
        "        s.add(a[i])\n",
        "\n",
        "    for i in range(m):\n",
        "        s.add(b[i])\n",
        "    print(\"Number of elements after union operation: \", len(s), \"\")\n",
        "    print(\"The union set of both arrays is :\" + \"\")\n",
        "\n",
        "    print(s, end=\"\")  # s will contain only distinct\n",
        "    # elements from array a and b\n",
        "\n",
        "\n",
        "# Driver Code\n",
        "if __name__ == '__main__':\n",
        "    a = [1, 2, 5, 6, 2, 3, 5, 7, 3]\n",
        "    b = [2, 4, 5, 6, 8, 9, 4, 6, 5, 4]\n",
        "\n",
        "    getUnion(a, 9, b, 10)\n",
        ""
      ]
    },
    {
      "cell_type": "markdown",
      "source": [
        "**Question 6**\n",
        "\n",
        "Suppose an array of length n sorted in ascending order is rotated between 1 and n times. For example, the array nums = [0,1,2,4,5,6,7] might become:\n",
        "\n",
        "- [4,5,6,7,0,1,2] if it was rotated 4 times.\n",
        "- [0,1,2,4,5,6,7] if it was rotated 7 times.\n",
        "\n",
        "Notice that rotating an array [a[0], a[1], a[2], ..., a[n-1]] 1 time results in the array [a[n-1], a[0], a[1], a[2], ..., a[n-2]].\n",
        "\n",
        "Given the sorted rotated array `nums` of unique elements, return the minimum element of this array.\n",
        "\n",
        "You must write an algorithm that runs in O(log n) time.\n",
        "```\n",
        "Example 1:\n",
        "Input: nums = [3,4,5,1,2]\n",
        "Output: 1\n",
        "Explanation: The original array was [1,2,3,4,5] rotated 3 times.\n",
        "\n",
        "Example 2:\n",
        "Input: nums = [4,5,6,7,0,1,2]\n",
        "Output: 0\n",
        "Explanation: The original array was [0,1,2,4,5,6,7] and it was rotated 4 times.\n",
        "\n",
        "Example 3:\n",
        "Input: nums = [11,13,15,17]\n",
        "Output: 11\n",
        "Explanation: The original array was [11,13,15,17] and it was rotated 4 times.\n",
        "```"
      ],
      "metadata": {
        "id": "7b_rKIqfcl7n"
      },
      "id": "7b_rKIqfcl7n"
    },
    {
      "cell_type": "code",
      "execution_count": 6,
      "id": "42b93dd1",
      "metadata": {
        "colab": {
          "base_uri": "https://localhost:8080/"
        },
        "id": "42b93dd1",
        "outputId": "e8738957-4d64-445f-aa09-64355cd6785e"
      },
      "outputs": [
        {
          "output_type": "stream",
          "name": "stdout",
          "text": [
            "1\n"
          ]
        }
      ],
      "source": [
        "# python3 code  to implement the approach\n",
        "\n",
        "def findMin(arr, N):\n",
        "\n",
        "    min_ele = arr[0];\n",
        "\n",
        "    # Traversing over array to\n",
        "    # find minimum element\n",
        "    for i in range(N) :\n",
        "        if arr[i] < min_ele :\n",
        "            min_ele = arr[i]\n",
        "\n",
        "    return min_ele;\n",
        "\n",
        "# Driver program\n",
        "arr = [5, 6, 1, 2, 3, 4]\n",
        "N = len(arr)\n",
        "\n",
        "print(findMin(arr,N))\n",
        "\n"
      ]
    },
    {
      "cell_type": "markdown",
      "source": [
        "**Question 7**\n",
        "\n",
        "Given an array of integers nums sorted in non-decreasing order, find the starting and ending position of a given target value.\n",
        "\n",
        "If target is not found in the array, return [-1, -1].\n",
        "\n",
        "You must write an algorithm with O(log n) runtime complexity.\n",
        "\n",
        "```\n",
        "\n",
        "Example 1:\n",
        "Input: nums = [5,7,7,8,8,10], target = 8\n",
        "Output: [3,4]\n",
        "\n",
        "Example 2:\n",
        "Input: nums = [5,7,7,8,8,10], target = 6\n",
        "Output: [-1,-1]\n",
        "\n",
        "Example 3:\n",
        "Input: nums = [], target = 0\n",
        "Output: [-1,-1]\n",
        "```"
      ],
      "metadata": {
        "id": "pitSVB7nc1Pl"
      },
      "id": "pitSVB7nc1Pl"
    },
    {
      "cell_type": "code",
      "execution_count": 7,
      "id": "eb4d5535",
      "metadata": {
        "colab": {
          "base_uri": "https://localhost:8080/"
        },
        "id": "eb4d5535",
        "outputId": "306b9cd9-b070-4256-9959-1dc0b56609f9"
      },
      "outputs": [
        {
          "output_type": "stream",
          "name": "stdout",
          "text": [
            "First Occurrence =  8  \n",
            "Last Occurrence =  9\n"
          ]
        }
      ],
      "source": [
        "# Python 3 program to find first and\n",
        "# last occurrence of an elements in\n",
        "# given sorted array\n",
        "\n",
        "\n",
        "# Function for finding first and last\n",
        "# occurrence of an elements\n",
        "def findFirstAndLast(arr, n, x):\n",
        "    first = -1\n",
        "    last = -1\n",
        "    for i in range(0, n):\n",
        "        if (x != arr[i]):\n",
        "            continue\n",
        "        if (first == -1):\n",
        "            first = i\n",
        "        last = i\n",
        "\n",
        "    if (first != -1):\n",
        "        print(\"First Occurrence = \", first,\n",
        "              \" \\nLast Occurrence = \", last)\n",
        "    else:\n",
        "        print(\"Not Found\")\n",
        "\n",
        "\n",
        "# Driver code\n",
        "arr = [1, 2, 2, 2, 2, 3, 4, 7, 8, 8]\n",
        "n = len(arr)\n",
        "x = 8\n",
        "findFirstAndLast(arr, n, x)\n"
      ]
    },
    {
      "cell_type": "markdown",
      "source": [
        "**Question 8**\n",
        "\n",
        "Given two integer arrays nums1 and nums2, return an array of their intersection. Each element in the result must appear as many times as it shows in both arrays and you may return the result in any order.\n",
        "\n",
        "```\n",
        "Example 1:\n",
        "Input: nums1 = [1,2,2,1], nums2 = [2,2]\n",
        "Output: [2,2]\n",
        "\n",
        "\n",
        "Example 2:\n",
        "Input: nums1 = [4,9,5], nums2 = [9,4,9,8,4]\n",
        "Output: [4,9]\n",
        "Explanation: [9,4] is also accepted.\n",
        "```"
      ],
      "metadata": {
        "id": "0MDoB3WhdCNw"
      },
      "id": "0MDoB3WhdCNw"
    },
    {
      "cell_type": "code",
      "execution_count": 8,
      "id": "a55a2253",
      "metadata": {
        "colab": {
          "base_uri": "https://localhost:8080/"
        },
        "id": "a55a2253",
        "outputId": "178fb7d2-3ee5-455e-875c-faa70daaa0f3"
      },
      "outputs": [
        {
          "output_type": "stream",
          "name": "stdout",
          "text": [
            "1 2 3 4 5 6 7 "
          ]
        }
      ],
      "source": [
        "# Python program to find union of\n",
        "# two sorted arrays\n",
        "# Function prints union of arr1[] and arr2[]\n",
        "# m is the number of elements in arr1[]\n",
        "# n is the number of elements in arr2[]\n",
        "def printUnion(arr1, arr2, m, n):\n",
        "    i, j = 0, 0\n",
        "    while i < m and j < n:\n",
        "        if arr1[i] < arr2[j]:\n",
        "            print(arr1[i],end=\" \")\n",
        "            i += 1\n",
        "        elif arr2[j] < arr1[i]:\n",
        "            print(arr2[j],end=\" \")\n",
        "            j+= 1\n",
        "        else:\n",
        "            print(arr2[j],end=\" \")\n",
        "            j += 1\n",
        "            i += 1\n",
        "\n",
        "    # Print remaining elements of the larger array\n",
        "    while i < m:\n",
        "        print(arr1[i],end=\" \")\n",
        "        i += 1\n",
        "\n",
        "    while j < n:\n",
        "        print(arr2[j],end=\" \")\n",
        "        j += 1\n",
        "\n",
        "# Driver program to test above function\n",
        "arr1 = [1, 2, 4, 5, 6]\n",
        "arr2 = [2, 3, 5, 7]\n",
        "m = len(arr1)\n",
        "n = len(arr2)\n",
        "printUnion(arr1, arr2, m, n)\n",
        "\n"
      ]
    }
  ],
  "metadata": {
    "kernelspec": {
      "display_name": "Python 3 (ipykernel)",
      "language": "python",
      "name": "python3"
    },
    "language_info": {
      "codemirror_mode": {
        "name": "ipython",
        "version": 3
      },
      "file_extension": ".py",
      "mimetype": "text/x-python",
      "name": "python",
      "nbconvert_exporter": "python",
      "pygments_lexer": "ipython3",
      "version": "3.9.13"
    },
    "colab": {
      "provenance": [],
      "include_colab_link": true
    }
  },
  "nbformat": 4,
  "nbformat_minor": 5
}