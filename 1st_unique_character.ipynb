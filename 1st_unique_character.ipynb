{
  "nbformat": 4,
  "nbformat_minor": 0,
  "metadata": {
    "colab": {
      "provenance": [],
      "authorship_tag": "ABX9TyOAFMO9lFBwZL+xTtPh86ln",
      "include_colab_link": true
    },
    "kernelspec": {
      "name": "python3",
      "display_name": "Python 3"
    },
    "language_info": {
      "name": "python"
    }
  },
  "cells": [
    {
      "cell_type": "markdown",
      "metadata": {
        "id": "view-in-github",
        "colab_type": "text"
      },
      "source": [
        "<a href=\"https://colab.research.google.com/github/Pratik94229/DSA-Assignments/blob/main/1st_unique_character.ipynb\" target=\"_parent\"><img src=\"https://colab.research.google.com/assets/colab-badge.svg\" alt=\"Open In Colab\"/></a>"
      ]
    },
    {
      "cell_type": "markdown",
      "source": [
        "**First Unique Character in a String**\n",
        "\n",
        "Given a string s, find the first non-repeating character in it and return its index. If it does not exist, return -1.\n",
        "\n",
        "Example 1:\n",
        "Input: s = \"leetcode\"\n",
        "Output: 0\n",
        "\n",
        "Example 2:\n",
        "Input: s = \"loveleetcode\"\n",
        "Output: 2\n",
        "\n",
        "Example 3:\n",
        "Input: s = \"aabb\"\n",
        "Output: -1\n",
        "\n",
        "Constraints:\n",
        "a. 1 <= s.length <= 10^5\n",
        "b. s consists of only lowercase English letters."
      ],
      "metadata": {
        "id": "QyFxQg0VitIU"
      }
    },
    {
      "cell_type": "code",
      "execution_count": 1,
      "metadata": {
        "id": "v9Ix-TrRieu8"
      },
      "outputs": [],
      "source": [
        "def firstUniqChar(s):\n",
        "    # Create a frequency dictionary to count occurrences of each character\n",
        "    frequency = {}\n",
        "    for char in s:\n",
        "        if char in frequency:\n",
        "            frequency[char] += 1\n",
        "        else:\n",
        "            frequency[char] = 1\n",
        "\n",
        "    # Iterate through the string and find the first non-repeating character\n",
        "    for i in range(len(s)):\n",
        "        if frequency[s[i]] == 1:\n",
        "            return i\n",
        "\n",
        "    return -1\n"
      ]
    },
    {
      "cell_type": "code",
      "source": [
        "print(firstUniqChar('leetcode'))\n",
        "print(firstUniqChar('loveleetcode'))\n",
        "print(firstUniqChar('aabb'))"
      ],
      "metadata": {
        "colab": {
          "base_uri": "https://localhost:8080/"
        },
        "id": "CuBjaOgyiqG_",
        "outputId": "6779f70e-aed8-43c9-c992-bac5913bfbd8"
      },
      "execution_count": 2,
      "outputs": [
        {
          "output_type": "stream",
          "name": "stdout",
          "text": [
            "0\n",
            "2\n",
            "-1\n"
          ]
        }
      ]
    }
  ]
}