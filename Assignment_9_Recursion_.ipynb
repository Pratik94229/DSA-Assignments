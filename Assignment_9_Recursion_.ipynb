{
  "nbformat": 4,
  "nbformat_minor": 0,
  "metadata": {
    "colab": {
      "provenance": [],
      "authorship_tag": "ABX9TyOXFzNNUVM0ql5dpU+1Yen2",
      "include_colab_link": true
    },
    "kernelspec": {
      "name": "python3",
      "display_name": "Python 3"
    },
    "language_info": {
      "name": "python"
    }
  },
  "cells": [
    {
      "cell_type": "markdown",
      "metadata": {
        "id": "view-in-github",
        "colab_type": "text"
      },
      "source": [
        "<a href=\"https://colab.research.google.com/github/Pratik94229/DSA-Assignments/blob/main/Assignment_9_Recursion_.ipynb\" target=\"_parent\"><img src=\"https://colab.research.google.com/assets/colab-badge.svg\" alt=\"Open In Colab\"/></a>"
      ]
    },
    {
      "cell_type": "markdown",
      "source": [
        "\n",
        "**Question 1**\n",
        "\n",
        "Given an integer `n`, return *`true` if it is a power of two. Otherwise, return `false`*.\n",
        "\n",
        "An integer `n` is a power of two, if there exists an integer `x` such that `n == 2x`.\n",
        "\n",
        "**Example 1:**\n",
        "Input: n = 1\n",
        "\n",
        "Output: true\n",
        "\n",
        "**Example 2:**\n",
        "Input: n = 16\n",
        "\n",
        "Output: true\n",
        "\n",
        "**Example 3:**\n",
        "Input: n = 3\n",
        "\n",
        "Output: false\n",
        "\n",
        "</aside>"
      ],
      "metadata": {
        "id": "bP8f2k0d2Fir"
      }
    },
    {
      "cell_type": "code",
      "execution_count": 2,
      "metadata": {
        "id": "hhd4zB5c2EyJ"
      },
      "outputs": [],
      "source": [
        "class Solution:\n",
        "  def ispower2(self,n:int)->bool:\n",
        "    if(n==1):\n",
        "      return True\n",
        "    elif(n<1 or n%2!=0):\n",
        "      return False\n",
        "    else:\n",
        "      return self.ispower2(n//2)"
      ]
    },
    {
      "cell_type": "code",
      "source": [
        "check=Solution()\n",
        "print(check.ispower2(8))\n",
        "print(check.ispower2(6))"
      ],
      "metadata": {
        "colab": {
          "base_uri": "https://localhost:8080/"
        },
        "id": "0nzx-WQf3X2Z",
        "outputId": "6e292b2a-57f4-47d9-fecd-ad1655286993"
      },
      "execution_count": 3,
      "outputs": [
        {
          "output_type": "stream",
          "name": "stdout",
          "text": [
            "True\n",
            "False\n"
          ]
        }
      ]
    },
    {
      "cell_type": "markdown",
      "source": [
        "**Question 2**\n",
        "\n",
        "Given a number n, find the sum of the first natural numbers.\n",
        "\n",
        "**Example 1:**\n",
        "\n",
        "Input: n = 3\n",
        "\n",
        "Output: 6\n",
        "\n",
        "**Example 2:**\n",
        "\n",
        "Input  : 5\n",
        "\n",
        "Output : 15\n",
        "\n"
      ],
      "metadata": {
        "id": "2jYKcSbj4D7h"
      }
    },
    {
      "cell_type": "code",
      "source": [
        "class Solution:\n",
        "  def sum_n(self,n:int)->int:\n",
        "    if(n==1):\n",
        "      return 1\n",
        "    else:\n",
        "      return n+self.sum_n(n-1)\n"
      ],
      "metadata": {
        "id": "mXkkPUKN4Hpe"
      },
      "execution_count": 4,
      "outputs": []
    },
    {
      "cell_type": "code",
      "source": [
        "check=Solution()\n",
        "print(check.sum_n(10))"
      ],
      "metadata": {
        "colab": {
          "base_uri": "https://localhost:8080/"
        },
        "id": "-pPv6iYR4yW4",
        "outputId": "4d11886b-3558-40f9-f414-72e570880d66"
      },
      "execution_count": 5,
      "outputs": [
        {
          "output_type": "stream",
          "name": "stdout",
          "text": [
            "55\n"
          ]
        }
      ]
    },
    {
      "cell_type": "markdown",
      "source": [
        "\n",
        " **Question 3**\n",
        "\n",
        "Given a positive integer, N. Find the factorial of N.\n",
        "\n",
        "**Example 1:**\n",
        "\n",
        "Input: N = 5\n",
        "\n",
        "Output: 120\n",
        "\n",
        "**Example 2:**\n",
        "\n",
        "Input: N = 4\n",
        "\n",
        "Output: 24\n",
        "\n",
        "</aside>"
      ],
      "metadata": {
        "id": "bW2CUojA5gMM"
      }
    },
    {
      "cell_type": "code",
      "source": [
        "class Solution:\n",
        "  def fact(self,n:int)->int:\n",
        "    if(n==1):\n",
        "      return 1\n",
        "    else:\n",
        "      return n*self.fact(n-1)\n"
      ],
      "metadata": {
        "id": "pootWDa15tuu"
      },
      "execution_count": 6,
      "outputs": []
    },
    {
      "cell_type": "code",
      "source": [
        "check=Solution()\n",
        "print(check.fact(5))"
      ],
      "metadata": {
        "colab": {
          "base_uri": "https://localhost:8080/"
        },
        "id": "cN7HBIm658Wm",
        "outputId": "a20c0493-90d1-4c97-e2a3-b42a646f2d49"
      },
      "execution_count": 7,
      "outputs": [
        {
          "output_type": "stream",
          "name": "stdout",
          "text": [
            "120\n"
          ]
        }
      ]
    },
    {
      "cell_type": "markdown",
      "source": [
        "**Question 4**\n",
        "\n",
        "Given a number N and a power P, the task is to find the exponent of this number raised to the given power, i.e. N^P.\n",
        "\n",
        "**Example 1 :**\n",
        "\n",
        "Input: N = 5, P = 2\n",
        "\n",
        "Output: 25\n",
        "\n",
        "**Example 2 :**\n",
        "Input: N = 2, P = 5\n",
        "\n",
        "Output: 32\n",
        "\n"
      ],
      "metadata": {
        "id": "TiVvVTqN6GaX"
      }
    },
    {
      "cell_type": "code",
      "source": [
        "class Solution:\n",
        "  def power(self,N:int,p:int)->int:\n",
        "    if(p==1):\n",
        "      return N\n",
        "    else:\n",
        "      return N*self.power(N,p-1)\n"
      ],
      "metadata": {
        "id": "xTgwK4h86FiG"
      },
      "execution_count": 8,
      "outputs": []
    },
    {
      "cell_type": "code",
      "source": [
        "check=Solution()\n",
        "print(check.power(5,2))\n",
        "print(check.power(2,5))"
      ],
      "metadata": {
        "colab": {
          "base_uri": "https://localhost:8080/"
        },
        "id": "A2AHtPhI6t97",
        "outputId": "61eee3a0-80b8-42c8-f1bd-80253adcc329"
      },
      "execution_count": 9,
      "outputs": [
        {
          "output_type": "stream",
          "name": "stdout",
          "text": [
            "25\n",
            "32\n"
          ]
        }
      ]
    },
    {
      "cell_type": "markdown",
      "source": [
        "**Question 5**\n",
        "\n",
        "Given an array of integers **arr**, the task is to find maximum element of that array using recursion.\n",
        "\n",
        "**Example 1:**\n",
        "\n",
        "Input: arr = {1, 4, 3, -5, -4, 8, 6};\n",
        "Output: 8\n",
        "\n",
        "**Example 2:**\n",
        "\n",
        "Input: arr = {1, 4, 45, 6, 10, -8};\n",
        "Output: 45\n"
      ],
      "metadata": {
        "id": "FnKCrsQC66rz"
      }
    },
    {
      "cell_type": "code",
      "source": [
        "def findMax(arr, start, end):\n",
        "    if start == end:\n",
        "        return arr[start]\n",
        "\n",
        "    mid = (start + end) // 2\n",
        "\n",
        "    leftMax = findMax(arr, start, mid)\n",
        "    rightMax = findMax(arr, mid + 1, end)\n",
        "\n",
        "    return max(leftMax, rightMax)\n",
        "\n",
        "# Example usage\n",
        "arr = [1, 4, 45, 6, 10, -8]\n",
        "maxElement = findMax(arr, 0, len(arr) - 1)\n",
        "print(maxElement)\n"
      ],
      "metadata": {
        "colab": {
          "base_uri": "https://localhost:8080/"
        },
        "id": "7KVP5GRR70eo",
        "outputId": "95f412d8-c26d-4dd5-cbf1-2e22cdca8853"
      },
      "execution_count": 10,
      "outputs": [
        {
          "output_type": "stream",
          "name": "stdout",
          "text": [
            "45\n"
          ]
        }
      ]
    },
    {
      "cell_type": "markdown",
      "source": [
        " **Question 6**\n",
        "\n",
        "Given first term (a), common difference (d) and a integer N of the Arithmetic Progression series, the task is to find Nth term of the series.\n",
        "\n",
        "**Example 1:**\n",
        "\n",
        "Input : a = 2 d = 1 N = 5\n",
        "Output : 6\n",
        "The 5th term of the series is : 6\n",
        "\n",
        "**Example 2:**\n",
        "\n",
        "Input : a = 5 d = 2 N = 10\n",
        "Output : 23\n",
        "The 10th term of the series is : 23\n",
        "\n"
      ],
      "metadata": {
        "id": "_PEAz1k78NLo"
      }
    },
    {
      "cell_type": "code",
      "source": [
        "class Solution:\n",
        "  def AP_term(self,a:int,d:int,n:int)->int:\n",
        "    if(n==1):\n",
        "      return a\n",
        "    else:\n",
        "      return self.AP_term(a+d,d,n-1)\n"
      ],
      "metadata": {
        "id": "npi8nEpW8dKV"
      },
      "execution_count": 11,
      "outputs": []
    },
    {
      "cell_type": "code",
      "source": [
        "check=Solution()\n",
        "print(check.AP_term(2,1,5))\n",
        "print(check.AP_term(5,2,10))"
      ],
      "metadata": {
        "colab": {
          "base_uri": "https://localhost:8080/"
        },
        "id": "nHMJDYny89lQ",
        "outputId": "edcc2c38-b670-470e-a518-4f721307eb34"
      },
      "execution_count": 12,
      "outputs": [
        {
          "output_type": "stream",
          "name": "stdout",
          "text": [
            "6\n",
            "23\n"
          ]
        }
      ]
    },
    {
      "cell_type": "markdown",
      "source": [
        "**Question 7**\n",
        "\n",
        "Given a string S, the task is to write a program to print all permutations of a given string.\n",
        "\n",
        "**Example 1:**\n",
        "\n",
        "***Input:***\n",
        "\n",
        "*S = “ABC”*\n",
        "\n",
        "***Output:***\n",
        "\n",
        "*“ABC”, “ACB”, “BAC”, “BCA”, “CBA”, “CAB”*\n",
        "\n",
        "**Example 2:**\n",
        "\n",
        "***Input:***\n",
        "\n",
        "*S = “XY”*\n",
        "\n",
        "***Output:***\n",
        "\n",
        "*“XY”, “YX”*"
      ],
      "metadata": {
        "id": "ovcJT8fGYs7p"
      }
    },
    {
      "cell_type": "code",
      "source": [
        "def permuteString(S, prefix, result):\n",
        "    if len(S) == 0:\n",
        "        result.add(prefix)\n",
        "        return\n",
        "\n",
        "    for i in range(len(S)):\n",
        "        c = S[i]\n",
        "        S_remaining = S[:i] + S[i+1:]\n",
        "        permuteString(S_remaining, prefix + c, result)\n",
        "\n",
        "# Example usage\n",
        "S = \"ABC\"\n",
        "result = set()\n",
        "permuteString(S, \"\", result)\n",
        "for permutation in result:\n",
        "    print(permutation)\n"
      ],
      "metadata": {
        "colab": {
          "base_uri": "https://localhost:8080/"
        },
        "id": "VfkRgEeyX1gt",
        "outputId": "7b718f42-636e-48ef-f4d2-c6f3adece38f"
      },
      "execution_count": 13,
      "outputs": [
        {
          "output_type": "stream",
          "name": "stdout",
          "text": [
            "BCA\n",
            "BAC\n",
            "ACB\n",
            "CBA\n",
            "CAB\n",
            "ABC\n"
          ]
        }
      ]
    },
    {
      "cell_type": "markdown",
      "source": [
        "**Question 8**\n",
        "\n",
        "Given an array, find a product of all array elements.\n",
        "\n",
        "**Example 1:**\n",
        "\n",
        "Input  : arr[] = {1, 2, 3, 4, 5}\n",
        "Output : 120\n",
        "\n",
        "**Example 2:**\n",
        "\n",
        "Input  : arr[] = {1, 6, 3}\n",
        "Output : 18\n"
      ],
      "metadata": {
        "id": "zlYGyaVRX14K"
      }
    },
    {
      "cell_type": "code",
      "source": [
        "def arrayProduct(arr, start, end):\n",
        "    if start == end:\n",
        "        return arr[start]\n",
        "\n",
        "    mid = (start + end) // 2\n",
        "\n",
        "    leftProduct = arrayProduct(arr, start, mid)\n",
        "    rightProduct = arrayProduct(arr, mid + 1, end)\n",
        "\n",
        "    return leftProduct * rightProduct\n",
        "\n",
        "# Example usage\n",
        "arr = [1, 2, 3, 4, 5]\n",
        "result = arrayProduct(arr, 0, len(arr) - 1)\n",
        "print(result)\n"
      ],
      "metadata": {
        "colab": {
          "base_uri": "https://localhost:8080/"
        },
        "id": "obe7cwJyX8Cz",
        "outputId": "909931ff-7351-4455-86c2-85647b5a2c53"
      },
      "execution_count": 14,
      "outputs": [
        {
          "output_type": "stream",
          "name": "stdout",
          "text": [
            "120\n"
          ]
        }
      ]
    }
  ]
}