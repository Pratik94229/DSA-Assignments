{
  "nbformat": 4,
  "nbformat_minor": 0,
  "metadata": {
    "colab": {
      "provenance": [],
      "authorship_tag": "ABX9TyOHI+n3luq9RG/KocXXpkM4",
      "include_colab_link": true
    },
    "kernelspec": {
      "name": "python3",
      "display_name": "Python 3"
    },
    "language_info": {
      "name": "python"
    }
  },
  "cells": [
    {
      "cell_type": "markdown",
      "metadata": {
        "id": "view-in-github",
        "colab_type": "text"
      },
      "source": [
        "<a href=\"https://colab.research.google.com/github/Pratik94229/DSA-Assignments/blob/main/Queue.ipynb\" target=\"_parent\"><img src=\"https://colab.research.google.com/assets/colab-badge.svg\" alt=\"Open In Colab\"/></a>"
      ]
    },
    {
      "cell_type": "code",
      "execution_count": 1,
      "metadata": {
        "id": "MI3wt0rFIkII"
      },
      "outputs": [],
      "source": [
        "class Queue:\n",
        "    def __init__(self):\n",
        "        self.queue = []\n",
        "\n",
        "    def enqueue(self, item):\n",
        "        self.queue.append(item)\n",
        "\n",
        "    def dequeue(self):\n",
        "        if self.isEmpty():\n",
        "            return \"Queue is empty.\"\n",
        "        return self.queue.pop(0)\n",
        "\n",
        "    def isEmpty(self):\n",
        "        return len(self.queue) == 0\n"
      ]
    },
    {
      "cell_type": "code",
      "source": [
        "queue = Queue()\n",
        "\n",
        "queue.enqueue(1)\n",
        "queue.enqueue(2)\n",
        "queue.enqueue(3)\n",
        "\n",
        "print(queue.dequeue())  # Output: 1\n",
        "print(queue.dequeue())  # Output: 2\n",
        "\n",
        "print(queue.isEmpty())  # Output: False\n",
        "\n",
        "print(queue.dequeue())  # Output: 3\n",
        "print(queue.dequeue())  # Output: Queue is empty.\n",
        "print(queue.isEmpty())  # Output: True\n"
      ],
      "metadata": {
        "colab": {
          "base_uri": "https://localhost:8080/"
        },
        "id": "227_kE_8I8rw",
        "outputId": "65083858-1cfe-4836-bcfe-6aeef90155e1"
      },
      "execution_count": 2,
      "outputs": [
        {
          "output_type": "stream",
          "name": "stdout",
          "text": [
            "1\n",
            "2\n",
            "False\n",
            "3\n",
            "Queue is empty.\n",
            "True\n"
          ]
        }
      ]
    }
  ]
}