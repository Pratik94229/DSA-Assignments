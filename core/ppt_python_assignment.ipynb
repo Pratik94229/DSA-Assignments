{
  "nbformat": 4,
  "nbformat_minor": 0,
  "metadata": {
    "colab": {
      "provenance": [],
      "authorship_tag": "ABX9TyMvP3+b1zpO3jxm46KjMGWB",
      "include_colab_link": true
    },
    "kernelspec": {
      "name": "python3",
      "display_name": "Python 3"
    },
    "language_info": {
      "name": "python"
    }
  },
  "cells": [
    {
      "cell_type": "markdown",
      "metadata": {
        "id": "view-in-github",
        "colab_type": "text"
      },
      "source": [
        "<a href=\"https://colab.research.google.com/github/Pratik94229/DSA-Assignments/blob/main/core/ppt_python_assignment.ipynb\" target=\"_parent\"><img src=\"https://colab.research.google.com/assets/colab-badge.svg\" alt=\"Open In Colab\"/></a>"
      ]
    },
    {
      "cell_type": "markdown",
      "source": [
        "**1. Write a Python program to reverse a string without using any built-in string reversal functions.**"
      ],
      "metadata": {
        "id": "b6cXAATMWcDS"
      }
    },
    {
      "cell_type": "code",
      "source": [
        "def reverse_string(string):\n",
        "    reversed_string = ''\n",
        "    for i in range(len(string) ):\n",
        "        reversed_string += string[-1-i]\n",
        "    return reversed_string\n"
      ],
      "metadata": {
        "id": "tSmxGyb_JTHH"
      },
      "execution_count": 1,
      "outputs": []
    },
    {
      "cell_type": "code",
      "source": [
        "def reverse_string(string):\n",
        "    char_list = list(string)  # Convert the string to a list of characters\n",
        "    first = 0\n",
        "    last = len(char_list) - 1\n",
        "    while first < last:\n",
        "        char_list[last], char_list[first] = char_list[first], char_list[last]\n",
        "        first += 1\n",
        "        last -= 1\n",
        "    reversed_string = ''.join(char_list)  # Convert the list back to a string\n",
        "    return reversed_string\n"
      ],
      "metadata": {
        "id": "tpemRkTKLVKi"
      },
      "execution_count": 2,
      "outputs": []
    },
    {
      "cell_type": "code",
      "source": [
        "# Example usage\n",
        "original_string = \"Hello, World!\"\n",
        "reversed_string = reverse_string(original_string)\n",
        "print(reversed_string)  # Output: \"!dlroW ,olleH\""
      ],
      "metadata": {
        "colab": {
          "base_uri": "https://localhost:8080/"
        },
        "id": "W5c_Ovs5XJGK",
        "outputId": "2d85d303-6c58-4307-cc83-b58447391e87"
      },
      "execution_count": 3,
      "outputs": [
        {
          "output_type": "stream",
          "name": "stdout",
          "text": [
            "!dlroW ,olleH\n"
          ]
        }
      ]
    },
    {
      "cell_type": "markdown",
      "source": [
        "**2. Implement a function to check if a given string is a palindrome.**"
      ],
      "metadata": {
        "id": "LEn9xnY2ZlTm"
      }
    },
    {
      "cell_type": "code",
      "source": [
        "def if_palindrome(string):\n",
        "  first=0\n",
        "  last=len(string)-1\n",
        "  flag=1\n",
        "  while(first<last):\n",
        "    if(string[first]!=string[last]):\n",
        "      flag=0\n",
        "      return flag\n",
        "    else:\n",
        "      first+=1\n",
        "      last-=1\n",
        "\n",
        "  return flag\n"
      ],
      "metadata": {
        "id": "tqYYbUqtZo15"
      },
      "execution_count": 4,
      "outputs": []
    },
    {
      "cell_type": "code",
      "source": [
        "if_palindrome(\"naman\")"
      ],
      "metadata": {
        "colab": {
          "base_uri": "https://localhost:8080/"
        },
        "id": "WTEGMt7Tax06",
        "outputId": "a5d2624e-9bd1-4d88-d495-2d760d7e51d7"
      },
      "execution_count": 5,
      "outputs": [
        {
          "output_type": "execute_result",
          "data": {
            "text/plain": [
              "1"
            ]
          },
          "metadata": {},
          "execution_count": 5
        }
      ]
    },
    {
      "cell_type": "code",
      "source": [
        "if_palindrome(\"pratik\")"
      ],
      "metadata": {
        "colab": {
          "base_uri": "https://localhost:8080/"
        },
        "id": "0LCfCZiVayAk",
        "outputId": "c7a949c3-4fab-4116-c4f3-134de890a58c"
      },
      "execution_count": 6,
      "outputs": [
        {
          "output_type": "execute_result",
          "data": {
            "text/plain": [
              "0"
            ]
          },
          "metadata": {},
          "execution_count": 6
        }
      ]
    },
    {
      "cell_type": "markdown",
      "source": [
        "**3. Write a program to find the largest element in a given list.**"
      ],
      "metadata": {
        "id": "VcVp-vuZbmDJ"
      }
    },
    {
      "cell_type": "code",
      "source": [
        "def find_largest_element(lst):\n",
        "    largest = lst[0]\n",
        "    for num in lst:\n",
        "        if num > largest:\n",
        "            largest = num\n",
        "    return largest\n"
      ],
      "metadata": {
        "id": "KYUbzFy1bZjW"
      },
      "execution_count": 7,
      "outputs": []
    },
    {
      "cell_type": "code",
      "source": [
        "numbers = [5, 9, 3, 7, 2]\n",
        "largest_number = find_largest_element(numbers)\n",
        "print(f\"The largest number in the list is: {largest_number}\")"
      ],
      "metadata": {
        "colab": {
          "base_uri": "https://localhost:8080/"
        },
        "id": "rNGa6YElbuDH",
        "outputId": "ef701764-0270-41b8-c0f7-ec7c269ca2af"
      },
      "execution_count": 8,
      "outputs": [
        {
          "output_type": "stream",
          "name": "stdout",
          "text": [
            "The largest number in the list is: 9\n"
          ]
        }
      ]
    },
    {
      "cell_type": "markdown",
      "source": [
        "**4. Implement a function to count the occurrence of each element in a list.**"
      ],
      "metadata": {
        "id": "VGKRukcGb2di"
      }
    },
    {
      "cell_type": "code",
      "source": [
        "def count_occurrences(lst):\n",
        "    counts = {}\n",
        "    for item in lst:\n",
        "        if item in counts:\n",
        "            counts[item] += 1\n",
        "        else:\n",
        "            counts[item] = 1\n",
        "    return counts\n"
      ],
      "metadata": {
        "id": "DN9CrkObb3xj"
      },
      "execution_count": 9,
      "outputs": []
    },
    {
      "cell_type": "code",
      "source": [
        "numbers = [1, 2, 3, 2, 1, 3, 4, 5, 2]\n",
        "occurrences = count_occurrences(numbers)\n",
        "print(occurrences)"
      ],
      "metadata": {
        "colab": {
          "base_uri": "https://localhost:8080/"
        },
        "id": "L4a3cnylb0el",
        "outputId": "905b4156-e313-4dd2-cd6c-a32445504c36"
      },
      "execution_count": 10,
      "outputs": [
        {
          "output_type": "stream",
          "name": "stdout",
          "text": [
            "{1: 2, 2: 3, 3: 2, 4: 1, 5: 1}\n"
          ]
        }
      ]
    },
    {
      "cell_type": "markdown",
      "source": [
        "**5. Write a Python program to find the second largest number in a list.**"
      ],
      "metadata": {
        "id": "gZ0Vd5IZci-v"
      }
    },
    {
      "cell_type": "code",
      "source": [
        "def find_second_largest(lst):\n",
        "    largest = float('-inf')\n",
        "    second_largest = float('-inf')\n",
        "    for num in lst:\n",
        "        if num > largest:\n",
        "            second_largest = largest\n",
        "            largest = num\n",
        "        elif num > second_largest and num != largest:\n",
        "            second_largest = num\n",
        "    return second_largest\n"
      ],
      "metadata": {
        "id": "1rlFN8s3c9wi"
      },
      "execution_count": 11,
      "outputs": []
    },
    {
      "cell_type": "code",
      "source": [
        "# Example usage\n",
        "numbers = [5, 9, 3, 7, 2]\n",
        "second_largest_number = find_second_largest(numbers)\n",
        "print(f\"The second largest number in the list is: {second_largest_number}\")  # Output: 7"
      ],
      "metadata": {
        "colab": {
          "base_uri": "https://localhost:8080/"
        },
        "id": "C767c9fkd20P",
        "outputId": "0b8c1b99-85a8-45b1-b195-85743f6a8949"
      },
      "execution_count": 12,
      "outputs": [
        {
          "output_type": "stream",
          "name": "stdout",
          "text": [
            "The second largest number in the list is: 7\n"
          ]
        }
      ]
    },
    {
      "cell_type": "markdown",
      "source": [
        "**6. Implement a function to remove duplicate elements from a list.**"
      ],
      "metadata": {
        "id": "dgk8m46Oep_k"
      }
    },
    {
      "cell_type": "code",
      "source": [
        "def remove_duplicates(lst):\n",
        "    return list(set(lst))\n",
        "\n"
      ],
      "metadata": {
        "id": "p8tCbwuUeqZZ"
      },
      "execution_count": 13,
      "outputs": []
    },
    {
      "cell_type": "code",
      "source": [
        "# Example usage\n",
        "numbers = [1, 2, 3, 2, 4, 5, 1, 3]\n",
        "unique_numbers = remove_duplicates(numbers)\n",
        "print(unique_numbers)"
      ],
      "metadata": {
        "colab": {
          "base_uri": "https://localhost:8080/"
        },
        "id": "ItKFlRNqe7sL",
        "outputId": "d012544f-e581-4184-e7d4-60a00a918799"
      },
      "execution_count": 14,
      "outputs": [
        {
          "output_type": "stream",
          "name": "stdout",
          "text": [
            "[1, 2, 3, 4, 5]\n"
          ]
        }
      ]
    },
    {
      "cell_type": "markdown",
      "source": [
        "**7. Write a program to calculate the factorial of a given number.**"
      ],
      "metadata": {
        "id": "1pJi9OZUfCji"
      }
    },
    {
      "cell_type": "code",
      "source": [
        "def factorial(n):\n",
        "  if n==1:\n",
        "    return 1\n",
        "  else:\n",
        "    return n*factorial(n-1)"
      ],
      "metadata": {
        "id": "isN6SZs5fBRf"
      },
      "execution_count": 15,
      "outputs": []
    },
    {
      "cell_type": "code",
      "source": [
        "factorial(5)"
      ],
      "metadata": {
        "colab": {
          "base_uri": "https://localhost:8080/"
        },
        "id": "lG_kpKGmfB1b",
        "outputId": "83a0a55c-0730-495c-e732-ae480e0582dc"
      },
      "execution_count": 16,
      "outputs": [
        {
          "output_type": "execute_result",
          "data": {
            "text/plain": [
              "120"
            ]
          },
          "metadata": {},
          "execution_count": 16
        }
      ]
    },
    {
      "cell_type": "markdown",
      "source": [
        "**8. Implement a function to check if a given number is prime.**"
      ],
      "metadata": {
        "id": "9JZVeju4fpNC"
      }
    },
    {
      "cell_type": "code",
      "source": [
        "def is_prime(n):\n",
        "    if n <= 1:\n",
        "        return False\n",
        "    for i in range(2, int(n**0.5) + 1):\n",
        "        if n % i == 0:\n",
        "            return False\n",
        "    return True\n"
      ],
      "metadata": {
        "id": "Ydh9rIsOfB4T"
      },
      "execution_count": 17,
      "outputs": []
    },
    {
      "cell_type": "code",
      "source": [
        "# Example usage\n",
        "number = 17\n",
        "if is_prime(number):\n",
        "    print(f\"{number} is a prime number.\")\n",
        "else:\n",
        "    print(f\"{number} is not a prime number.\")\n"
      ],
      "metadata": {
        "colab": {
          "base_uri": "https://localhost:8080/"
        },
        "id": "_E-k3HJYfB7K",
        "outputId": "4b21048b-032f-43c1-9a97-eb76c8a80b9c"
      },
      "execution_count": 18,
      "outputs": [
        {
          "output_type": "stream",
          "name": "stdout",
          "text": [
            "17 is a prime number.\n"
          ]
        }
      ]
    },
    {
      "cell_type": "markdown",
      "source": [
        "**9. Write a Python program to sort a list of integers in ascending order.**"
      ],
      "metadata": {
        "id": "dJKvNV-4gAVn"
      }
    },
    {
      "cell_type": "code",
      "source": [
        "def sort_list(lst):\n",
        "    if len(lst) <= 1:\n",
        "        return lst\n",
        "    else:\n",
        "        pivot = lst[0]\n",
        "        less_than_pivot = []\n",
        "        greater_than_pivot = []\n",
        "        for x in lst[1:]:\n",
        "            if x <= pivot:\n",
        "                less_than_pivot.append(x)\n",
        "            else:\n",
        "                greater_than_pivot.append(x)\n",
        "        return sort_list(less_than_pivot) + [pivot] + sort_list(greater_than_pivot)\n"
      ],
      "metadata": {
        "id": "FjsMYgcof-4T"
      },
      "execution_count": 19,
      "outputs": []
    },
    {
      "cell_type": "code",
      "source": [
        "# Example usage\n",
        "numbers = [5, 2, 8, 1, 7]\n",
        "sorted_numbers = sort_list(numbers)\n",
        "print(sorted_numbers)"
      ],
      "metadata": {
        "colab": {
          "base_uri": "https://localhost:8080/"
        },
        "id": "nIIq7tXffB-t",
        "outputId": "5ff799db-0042-4208-b3df-1d4802bd2f98"
      },
      "execution_count": 20,
      "outputs": [
        {
          "output_type": "stream",
          "name": "stdout",
          "text": [
            "[1, 2, 5, 7, 8]\n"
          ]
        }
      ]
    },
    {
      "cell_type": "markdown",
      "source": [
        "**10. Implement a function to find the sum of all numbers in a list.**"
      ],
      "metadata": {
        "id": "cYfxns1phSX_"
      }
    },
    {
      "cell_type": "code",
      "source": [
        "def sum(list):\n",
        "  sum=0\n",
        "  for i in list:\n",
        "    sum=sum+i\n",
        "  return sum"
      ],
      "metadata": {
        "id": "A7ioQUfhhg6v"
      },
      "execution_count": 21,
      "outputs": []
    },
    {
      "cell_type": "code",
      "source": [
        "# Example usage\n",
        "numbers = [5, 2, 8, 1, 7]\n",
        "sum = sum(numbers)\n",
        "print(sum)"
      ],
      "metadata": {
        "colab": {
          "base_uri": "https://localhost:8080/"
        },
        "id": "nZMn8aaUhVZu",
        "outputId": "179aa35f-fcf2-487d-8443-5376bb9920c7"
      },
      "execution_count": 22,
      "outputs": [
        {
          "output_type": "stream",
          "name": "stdout",
          "text": [
            "23\n"
          ]
        }
      ]
    },
    {
      "cell_type": "markdown",
      "source": [
        "**11. Write a program to find the common elements between two lists.**"
      ],
      "metadata": {
        "id": "2PGNAyOqhxJA"
      }
    },
    {
      "cell_type": "code",
      "source": [
        "def find_common_elements(list1, list2):\n",
        "    return list(set(list1) & set(list2))\n"
      ],
      "metadata": {
        "id": "24WAiBl6h3cH"
      },
      "execution_count": 23,
      "outputs": []
    },
    {
      "cell_type": "code",
      "source": [
        "list1 = [1, 2, 3, 4, 5]\n",
        "list2 = [4, 5, 6, 7, 8]\n",
        "common_elements = find_common_elements(list1, list2)\n",
        "print(common_elements)"
      ],
      "metadata": {
        "colab": {
          "base_uri": "https://localhost:8080/"
        },
        "id": "5Bc0Mz_ViW3J",
        "outputId": "f418147c-2dcc-4043-c4e0-a312c1b7340d"
      },
      "execution_count": 24,
      "outputs": [
        {
          "output_type": "stream",
          "name": "stdout",
          "text": [
            "[4, 5]\n"
          ]
        }
      ]
    },
    {
      "cell_type": "markdown",
      "source": [
        "**12. Implement a function to check if a given string is an anagram of another string.**"
      ],
      "metadata": {
        "id": "SRCdoDuW0-dB"
      }
    },
    {
      "cell_type": "code",
      "source": [
        "def is_anagram(string1, string2):\n",
        "    # Remove spaces and convert both strings to lowercase\n",
        "    string1 = string1.replace(\" \", \"\").lower()\n",
        "    string2 = string2.replace(\" \", \"\").lower()\n",
        "\n",
        "    # Check if the lengths of the strings are equal\n",
        "    if len(string1) != len(string2):\n",
        "        return False\n",
        "\n",
        "    # Create dictionaries to count the characters in each string\n",
        "    char_count1 = {}\n",
        "    char_count2 = {}\n",
        "\n",
        "    # Count the characters in string1\n",
        "    for char in string1:\n",
        "        if char in char_count1:\n",
        "            char_count1[char] += 1\n",
        "        else:\n",
        "            char_count1[char] = 1\n",
        "\n",
        "    # Count the characters in string2\n",
        "    for char in string2:\n",
        "        if char in char_count2:\n",
        "            char_count2[char] += 1\n",
        "        else:\n",
        "            char_count2[char] = 1\n",
        "\n",
        "    # Compare the character counts\n",
        "    return char_count1 == char_count2\n"
      ],
      "metadata": {
        "id": "SN_uQnCj1F7m"
      },
      "execution_count": 25,
      "outputs": []
    },
    {
      "cell_type": "code",
      "source": [
        "string1 = \"listen\"\n",
        "string2 = \"silent\"\n",
        "print(is_anagram(string1, string2))  # Output: True\n",
        "\n",
        "string3 = \"hello\"\n",
        "string4 = \"world\"\n",
        "print(is_anagram(string3, string4))  # Output: False\n"
      ],
      "metadata": {
        "colab": {
          "base_uri": "https://localhost:8080/"
        },
        "id": "qUeknBYe1GAt",
        "outputId": "329cb5e0-d58d-4ff2-ce68-f0265b8b7360"
      },
      "execution_count": 26,
      "outputs": [
        {
          "output_type": "stream",
          "name": "stdout",
          "text": [
            "True\n",
            "False\n"
          ]
        }
      ]
    },
    {
      "cell_type": "markdown",
      "source": [
        "**13. Write a Python program to generate all permutations of a given string.**"
      ],
      "metadata": {
        "id": "F1Xlm403FHxY"
      }
    },
    {
      "cell_type": "code",
      "source": [
        "def generate_permutations(string):\n",
        "    # Base case: If the string has only one character, return it as a single-element list\n",
        "    if len(string) == 1:\n",
        "        return [string]\n",
        "\n",
        "    # Recursive case: Generate permutations for each character in the string\n",
        "    permutations = []\n",
        "    for i in range(len(string)):\n",
        "        # Extract the current character\n",
        "        current_char = string[i]\n",
        "\n",
        "        # Generate permutations for the remaining characters\n",
        "        remaining_chars = string[:i] + string[i+1:]\n",
        "        remaining_permutations = generate_permutations(remaining_chars)\n",
        "\n",
        "        # Append the current character to each permutation of the remaining characters\n",
        "        for permutation in remaining_permutations:\n",
        "            permutations.append(current_char + permutation)\n",
        "\n",
        "    return permutations\n",
        "\n",
        "# Example usage\n",
        "string = \"abc\"\n",
        "permutations = generate_permutations(string)\n",
        "print(permutations)\n"
      ],
      "metadata": {
        "id": "88_vewWO1GEQ",
        "colab": {
          "base_uri": "https://localhost:8080/"
        },
        "outputId": "a70e4ae6-b2dc-46bf-8dec-6dd83ebfba67"
      },
      "execution_count": 27,
      "outputs": [
        {
          "output_type": "stream",
          "name": "stdout",
          "text": [
            "['abc', 'acb', 'bac', 'bca', 'cab', 'cba']\n"
          ]
        }
      ]
    },
    {
      "cell_type": "code",
      "source": [
        "import itertools\n",
        "\n",
        "def get_permutations(string):\n",
        "    permutations = list(itertools.permutations(string))\n",
        "    return [''.join(permutation) for permutation in permutations]\n",
        "\n",
        "# Example usage\n",
        "string = \"abc\"\n",
        "permutations = get_permutations(string)\n",
        "print(permutations)\n"
      ],
      "metadata": {
        "id": "jeWKbs191GH4",
        "colab": {
          "base_uri": "https://localhost:8080/"
        },
        "outputId": "d4f47778-3739-4c83-8e9c-a9fb22c9e912"
      },
      "execution_count": 28,
      "outputs": [
        {
          "output_type": "stream",
          "name": "stdout",
          "text": [
            "['abc', 'acb', 'bac', 'bca', 'cab', 'cba']\n"
          ]
        }
      ]
    },
    {
      "cell_type": "markdown",
      "source": [
        "**14. Implement a function to calculate the Fibonacci sequence up to a given number of terms.**"
      ],
      "metadata": {
        "id": "76a21VBwRHze"
      }
    },
    {
      "cell_type": "code",
      "source": [
        "def fibonacci_sequence(n):\n",
        "    sequence = [0, 1]\n",
        "    while len(sequence) < n:\n",
        "        next_number = sequence[-1] + sequence[-2]\n",
        "        sequence.append(next_number)\n",
        "    return sequence\n",
        "\n",
        "# Example usage\n",
        "n = 10\n",
        "fib_sequence = fibonacci_sequence(n)\n",
        "print(fib_sequence)\n"
      ],
      "metadata": {
        "id": "xx9jwAL71GLR",
        "colab": {
          "base_uri": "https://localhost:8080/"
        },
        "outputId": "53331755-6412-4cae-eca3-fff65c16f2eb"
      },
      "execution_count": 29,
      "outputs": [
        {
          "output_type": "stream",
          "name": "stdout",
          "text": [
            "[0, 1, 1, 2, 3, 5, 8, 13, 21, 34]\n"
          ]
        }
      ]
    },
    {
      "cell_type": "markdown",
      "source": [
        "**15. Write a program to find the median of a list of numbers.**"
      ],
      "metadata": {
        "id": "yVo7ICW0RfiQ"
      }
    },
    {
      "cell_type": "code",
      "source": [
        "def find_median(numbers):\n",
        "    sorted_numbers = sorted(numbers)\n",
        "    n = len(sorted_numbers)\n",
        "    if n % 2 == 0:\n",
        "        median = (sorted_numbers[n // 2 - 1] + sorted_numbers[n // 2]) / 2\n",
        "    else:\n",
        "        median = sorted_numbers[n // 2]\n",
        "    return median\n",
        "\n",
        "# Example usage\n",
        "numbers = [1, 3, 5, 2, 4]\n",
        "median = find_median(numbers)\n",
        "print(median)\n"
      ],
      "metadata": {
        "id": "Lk9tZwW31GOr",
        "colab": {
          "base_uri": "https://localhost:8080/"
        },
        "outputId": "60833e15-46b1-460f-a0e6-37b2f81a2f43"
      },
      "execution_count": 30,
      "outputs": [
        {
          "output_type": "stream",
          "name": "stdout",
          "text": [
            "3\n"
          ]
        }
      ]
    },
    {
      "cell_type": "markdown",
      "source": [
        "**16. Implement a function to check if a given list is sorted in non-decreasing order.**"
      ],
      "metadata": {
        "id": "ikB4JXHLRrNv"
      }
    },
    {
      "cell_type": "code",
      "source": [
        "def is_sorted(numbers):\n",
        "    return all(numbers[i] <= numbers[i+1] for i in range(len(numbers) - 1))\n",
        "\n",
        "# Example usage\n",
        "numbers = [1, 2, 3, 4, 5]\n",
        "print(is_sorted(numbers))  # Output: True\n",
        "\n",
        "numbers = [1, 3, 2, 4, 5]\n",
        "print(is_sorted(numbers))  # Output: False\n"
      ],
      "metadata": {
        "id": "_HTHfrO61GRz",
        "colab": {
          "base_uri": "https://localhost:8080/"
        },
        "outputId": "0e3b9cc3-bc56-4fd1-daa1-b8143031aca8"
      },
      "execution_count": 31,
      "outputs": [
        {
          "output_type": "stream",
          "name": "stdout",
          "text": [
            "True\n",
            "False\n"
          ]
        }
      ]
    },
    {
      "cell_type": "markdown",
      "source": [
        "**17. Write a Python program to find the intersection of two lists.**"
      ],
      "metadata": {
        "id": "MyZlUQr8R_kP"
      }
    },
    {
      "cell_type": "code",
      "source": [
        "def find_intersection(list1, list2):\n",
        "    intersection = list(set(list1) & set(list2))\n",
        "    return intersection\n",
        "\n",
        "# Example usage\n",
        "list1 = [1, 2, 3, 4]\n",
        "list2 = [3, 4, 5, 6]\n",
        "intersection = find_intersection(list1, list2)\n",
        "print(intersection)\n"
      ],
      "metadata": {
        "id": "EHlByS2b1GU_",
        "colab": {
          "base_uri": "https://localhost:8080/"
        },
        "outputId": "723aaef0-4505-40de-b0d9-22bee639848a"
      },
      "execution_count": 32,
      "outputs": [
        {
          "output_type": "stream",
          "name": "stdout",
          "text": [
            "[3, 4]\n"
          ]
        }
      ]
    },
    {
      "cell_type": "markdown",
      "source": [
        "**18. Implement a function to find the maximum subarray sum in a given list.**"
      ],
      "metadata": {
        "id": "9TgpCh7YSN0k"
      }
    },
    {
      "cell_type": "code",
      "source": [
        "def find_max_subarray_sum(numbers):\n",
        "    max_sum = float('-inf')\n",
        "    current_sum = 0\n",
        "\n",
        "    for num in numbers:\n",
        "        current_sum += num\n",
        "        if current_sum > max_sum:\n",
        "            max_sum = current_sum\n",
        "        if current_sum < 0:\n",
        "            current_sum = 0\n",
        "\n",
        "    return max_sum\n",
        "\n",
        "# Example usage\n",
        "numbers = [-2, 1, -3, 4, -1, 2, 1, -5, 4]\n",
        "max_sum = find_max_subarray_sum(numbers)\n",
        "print(max_sum)\n"
      ],
      "metadata": {
        "id": "Ekgs-mMR1GYd",
        "colab": {
          "base_uri": "https://localhost:8080/"
        },
        "outputId": "c57246c4-9b09-4b33-be80-83af0628d363"
      },
      "execution_count": 33,
      "outputs": [
        {
          "output_type": "stream",
          "name": "stdout",
          "text": [
            "6\n"
          ]
        }
      ]
    },
    {
      "cell_type": "markdown",
      "source": [
        "**19. Write a program to remove all vowels from a given string.**"
      ],
      "metadata": {
        "id": "SDUOvUSZXL1C"
      }
    },
    {
      "cell_type": "code",
      "source": [
        "def remove_vowels(string):\n",
        "    vowels = ['a', 'e', 'i', 'o', 'u']\n",
        "    new_string=''\n",
        "    for char in string:\n",
        "      if (char.lower() not in vowels):\n",
        "\n",
        "        new_string=new_string+char\n",
        "\n",
        "    return new_string\n",
        "\n",
        "\n",
        "# Example usage\n",
        "string = \"Hello, World!\"\n",
        "new_string = remove_vowels(string)\n",
        "print(new_string)\n"
      ],
      "metadata": {
        "colab": {
          "base_uri": "https://localhost:8080/"
        },
        "id": "PA-qUc-zXQ4M",
        "outputId": "7312957b-79f8-4a39-befd-b3e84c869ec4"
      },
      "execution_count": 34,
      "outputs": [
        {
          "output_type": "stream",
          "name": "stdout",
          "text": [
            "Hll, Wrld!\n"
          ]
        }
      ]
    },
    {
      "cell_type": "markdown",
      "source": [
        "**20. Implement a function to reverse the order of words in a given sentence.**"
      ],
      "metadata": {
        "id": "cwhaqRasam2z"
      }
    },
    {
      "cell_type": "code",
      "source": [
        "def reverse_words(sentence):\n",
        "    words = sentence.split()\n",
        "    reversed_words = ' '.join(reversed(words))\n",
        "    return reversed_words\n",
        "\n",
        "# Example usage\n",
        "sentence = \"Hello, world! How are you?\"\n",
        "reversed_sentence = reverse_words(sentence)\n",
        "print(reversed_sentence)\n"
      ],
      "metadata": {
        "colab": {
          "base_uri": "https://localhost:8080/"
        },
        "id": "cIZKXKePXQ7R",
        "outputId": "2a5518f0-4d9b-47fc-8ccb-21488f930a29"
      },
      "execution_count": 35,
      "outputs": [
        {
          "output_type": "stream",
          "name": "stdout",
          "text": [
            "you? are How world! Hello,\n"
          ]
        }
      ]
    },
    {
      "cell_type": "markdown",
      "source": [
        "**21. Write a Python program to check if two strings are anagrams of each other.**"
      ],
      "metadata": {
        "id": "dVSI3Rzmblmn"
      }
    },
    {
      "cell_type": "code",
      "source": [
        "def are_anagrams(string1, string2):\n",
        "    # Convert both strings to lowercase and remove whitespace\n",
        "    string1 = string1.lower().replace(\" \", \"\")\n",
        "    string2 = string2.lower().replace(\" \", \"\")\n",
        "\n",
        "    # Check if the lengths of the strings are equal\n",
        "    if len(string1) != len(string2):\n",
        "        return False\n",
        "\n",
        "    # Create dictionaries to count the occurrences of each character in both strings\n",
        "    count1 = {}\n",
        "    count2 = {}\n",
        "\n",
        "    # Count the occurrences of each character in string1\n",
        "    for char in string1:\n",
        "        count1[char] = count1.get(char, 0) + 1\n",
        "\n",
        "    # Count the occurrences of each character in string2\n",
        "    for char in string2:\n",
        "        count2[char] = count2.get(char, 0) + 1\n",
        "\n",
        "    # Check if the dictionaries are equal\n",
        "    if count1 == count2:\n",
        "        return True\n",
        "    else:\n",
        "        return False\n",
        "\n",
        "# Example usage\n",
        "string1 = \"listen\"\n",
        "string2 = \"silent\"\n",
        "if are_anagrams(string1, string2):\n",
        "    print(f\"{string1} and {string2} are anagrams.\")\n",
        "else:\n",
        "    print(f\"{string1} and {string2} are not anagrams.\")\n"
      ],
      "metadata": {
        "colab": {
          "base_uri": "https://localhost:8080/"
        },
        "id": "LCKjdrsbXQ-Y",
        "outputId": "283a45f8-c063-402a-b860-ae0e2ca243c9"
      },
      "execution_count": 36,
      "outputs": [
        {
          "output_type": "stream",
          "name": "stdout",
          "text": [
            "listen and silent are anagrams.\n"
          ]
        }
      ]
    },
    {
      "cell_type": "markdown",
      "source": [
        "**22. Implement a function to find the first non-repeating character in a string.**"
      ],
      "metadata": {
        "id": "ZHOb8e_Ob17u"
      }
    },
    {
      "cell_type": "code",
      "source": [
        "def find_first_non_repeating_char(string):\n",
        "    char_count = {}\n",
        "\n",
        "    # Count the occurrences of each character in the string\n",
        "    for char in string:\n",
        "        char_count[char] = char_count.get(char, 0) + 1\n",
        "\n",
        "    # Find the first character with a count of 1\n",
        "    for char in string:\n",
        "        if char_count[char] == 1:\n",
        "            return char\n",
        "\n",
        "    # If no non-repeating character is found, return None\n",
        "    return None\n",
        "\n",
        "# Example usage\n",
        "string = \"abracadabra\"\n",
        "first_non_repeating_char = find_first_non_repeating_char(string)\n",
        "print(\"First non-repeating character:\", first_non_repeating_char)\n"
      ],
      "metadata": {
        "colab": {
          "base_uri": "https://localhost:8080/"
        },
        "id": "cVrsczj1XRBX",
        "outputId": "3cdcabe6-9b53-48bf-d76b-b75380fb85a7"
      },
      "execution_count": 37,
      "outputs": [
        {
          "output_type": "stream",
          "name": "stdout",
          "text": [
            "First non-repeating character: c\n"
          ]
        }
      ]
    },
    {
      "cell_type": "markdown",
      "source": [
        "**23. Write a program to find the prime factors of a given number.**"
      ],
      "metadata": {
        "id": "Y3uCjj6WdBQR"
      }
    },
    {
      "cell_type": "code",
      "source": [
        "def find_prime_factors(n):\n",
        "    prime_factors = []\n",
        "    i = 2\n",
        "    while i * i <= n:\n",
        "        if n % i:\n",
        "            i += 1\n",
        "        else:\n",
        "            n =n // i\n",
        "            prime_factors.append(i)\n",
        "    if n > 1:\n",
        "        prime_factors.append(n)\n",
        "    return prime_factors\n",
        "\n",
        "# Example usage\n",
        "number = 84\n",
        "factors = find_prime_factors(number)\n",
        "print(\"Prime factors of\", number, \"are:\", factors)"
      ],
      "metadata": {
        "colab": {
          "base_uri": "https://localhost:8080/"
        },
        "id": "saGu7LdrXREi",
        "outputId": "307c0cc1-ecf2-4f31-823c-1a88a0d23206"
      },
      "execution_count": 38,
      "outputs": [
        {
          "output_type": "stream",
          "name": "stdout",
          "text": [
            "Prime factors of 84 are: [2, 2, 3, 7]\n"
          ]
        }
      ]
    },
    {
      "cell_type": "markdown",
      "source": [
        "**24. Implement a function to check if a given number is a power of two.**"
      ],
      "metadata": {
        "id": "ZXFeKw5DgYMN"
      }
    },
    {
      "cell_type": "code",
      "source": [
        "def is_power_of_two(n):\n",
        "    if n <= 0:\n",
        "        return False\n",
        "    return n & (n - 1) == 0\n",
        "\n",
        "# Example usage\n",
        "number = 16\n",
        "if is_power_of_two(number):\n",
        "    print(number, \"is a power of two\")\n",
        "else:\n",
        "    print(number, \"is not a power of two\")\n"
      ],
      "metadata": {
        "colab": {
          "base_uri": "https://localhost:8080/"
        },
        "id": "5WBe0wCRXRHa",
        "outputId": "a7a5e2e7-ba57-46ef-b394-537d9cda75d1"
      },
      "execution_count": 39,
      "outputs": [
        {
          "output_type": "stream",
          "name": "stdout",
          "text": [
            "16 is a power of two\n"
          ]
        }
      ]
    },
    {
      "cell_type": "markdown",
      "source": [
        "**25. Write a Python program to merge two sorted lists into a single sorted list.**"
      ],
      "metadata": {
        "id": "mSLPV2XihZuz"
      }
    },
    {
      "cell_type": "code",
      "source": [
        "def merge_sorted_lists(list1, list2):\n",
        "    if not list1:\n",
        "        return list2\n",
        "    if not list2:\n",
        "        return list1\n",
        "\n",
        "    if list1[0] < list2[0]:\n",
        "        return [list1[0]] + merge_sorted_lists(list1[1:], list2)\n",
        "    else:\n",
        "        return [list2[0]] + merge_sorted_lists(list1, list2[1:])\n",
        "\n",
        "\n",
        "# Example usage\n",
        "list1 = [1, 3, 5, 7]\n",
        "list2 = [2, 4, 6, 8]\n",
        "merged_list = merge_sorted_lists(list1, list2)\n",
        "print(\"Merged list:\", merged_list)\n"
      ],
      "metadata": {
        "colab": {
          "base_uri": "https://localhost:8080/"
        },
        "id": "4QvywoEUXRKP",
        "outputId": "324652b0-ddbe-4eb4-c83d-6f8eedf83a2a"
      },
      "execution_count": 40,
      "outputs": [
        {
          "output_type": "stream",
          "name": "stdout",
          "text": [
            "Merged list: [1, 2, 3, 4, 5, 6, 7, 8]\n"
          ]
        }
      ]
    },
    {
      "cell_type": "markdown",
      "source": [
        "**26. Implement a function to find the mode of a list of numbers.**"
      ],
      "metadata": {
        "id": "bERad9jplOvh"
      }
    },
    {
      "cell_type": "code",
      "source": [
        "from collections import Counter\n",
        "\n",
        "def find_mode(numbers):\n",
        "  unique=set(numbers)\n",
        "  dict={}\n",
        "  for num in numbers:\n",
        "    if num in dict:\n",
        "      dict[num]=dict[num]+1\n",
        "      pass\n",
        "    else:\n",
        "      dict[num]=1\n",
        "  return max(dict, key=dict.get)\n",
        "\n",
        "\n"
      ],
      "metadata": {
        "id": "GgeFO5Y2XRNA"
      },
      "execution_count": 41,
      "outputs": []
    },
    {
      "cell_type": "code",
      "source": [
        "# Example usage\n",
        "numbers = [1, 2, 3, 2, 1, 3, 3, 4, 4,4,4]\n",
        "mode = find_mode(numbers)\n",
        "print(\"Mode:\", mode)"
      ],
      "metadata": {
        "colab": {
          "base_uri": "https://localhost:8080/"
        },
        "id": "pksOzbeQlcHA",
        "outputId": "c0dd0720-39e8-4343-a783-eabd8d756439"
      },
      "execution_count": 42,
      "outputs": [
        {
          "output_type": "stream",
          "name": "stdout",
          "text": [
            "Mode: 4\n"
          ]
        }
      ]
    },
    {
      "cell_type": "markdown",
      "source": [
        "**27. Write a program to find the greatest common divisor (GCD) of two numbers.**"
      ],
      "metadata": {
        "id": "15Rx9o4TnBm0"
      }
    },
    {
      "cell_type": "code",
      "source": [
        "def find_gcd(a, b):\n",
        "    while b != 0:\n",
        "        a, b = b, a % b\n",
        "    return a\n",
        "\n",
        "# Example usage\n",
        "number1 = 24\n",
        "number2 = 36\n",
        "gcd = find_gcd(number1, number2)\n",
        "print(\"GCD of\", number1, \"and\", number2, \"is:\", gcd)\n"
      ],
      "metadata": {
        "colab": {
          "base_uri": "https://localhost:8080/"
        },
        "id": "VYciTFOpXRQs",
        "outputId": "5a67b2e2-a62c-4957-affd-1adc5e10331e"
      },
      "execution_count": 43,
      "outputs": [
        {
          "output_type": "stream",
          "name": "stdout",
          "text": [
            "GCD of 24 and 36 is: 12\n"
          ]
        }
      ]
    },
    {
      "cell_type": "markdown",
      "source": [
        "**28. Implement a function to calculate the square root of a given number.**"
      ],
      "metadata": {
        "id": "Ym-CJfdfqh6u"
      }
    },
    {
      "cell_type": "code",
      "source": [
        "def calculate_square_root(number, precision=0.00001):\n",
        "    if number < 0:\n",
        "        raise ValueError(\"Cannot calculate square root of a negative number\")\n",
        "\n",
        "    # Base cases for 0 and 1\n",
        "    if number == 0 or number == 1:\n",
        "        return number\n",
        "\n",
        "    # Binary search for the square root\n",
        "    start = 0\n",
        "    end = number\n",
        "\n",
        "    while start <= end:\n",
        "        mid = (start + end) / 2\n",
        "        square = mid * mid\n",
        "\n",
        "        # Check if the current value is close enough to the square root\n",
        "        if abs(square - number) < precision:\n",
        "            return mid\n",
        "\n",
        "        if square < number:\n",
        "            start = mid + precision\n",
        "        else:\n",
        "            end = mid - precision\n",
        "\n",
        "    # Return the best approximation found\n",
        "    return round((start + end) / 2)\n"
      ],
      "metadata": {
        "id": "nsbC02D5qlxT"
      },
      "execution_count": 46,
      "outputs": []
    },
    {
      "cell_type": "code",
      "source": [
        "# Example usage\n",
        "number = 25\n",
        "square_root = calculate_square_root(number)\n",
        "print(\"Square root of\", number, \"is:\", square_root)"
      ],
      "metadata": {
        "colab": {
          "base_uri": "https://localhost:8080/"
        },
        "id": "jpTnst72sel2",
        "outputId": "394cff30-5cb3-4bf5-bfb9-3fcfe0e5d72a"
      },
      "execution_count": 47,
      "outputs": [
        {
          "output_type": "stream",
          "name": "stdout",
          "text": [
            "Square root of 25 is: 5\n"
          ]
        }
      ]
    },
    {
      "cell_type": "markdown",
      "source": [
        "**29. Write a Python program to check if a given string is a valid palindrome ignoring non-alphanumeric characters.**"
      ],
      "metadata": {
        "id": "sP_jzev8HPiZ"
      }
    },
    {
      "cell_type": "code",
      "source": [
        "import re\n",
        "\n",
        "def is_valid_palindrome(string):\n",
        "    # Remove non-alphanumeric characters and convert to lowercase\n",
        "    cleaned_string = re.sub('[^a-zA-Z0-9]', '', string.lower())\n",
        "    return cleaned_string == cleaned_string[::-1]\n",
        "\n",
        "# Example usage\n",
        "string = \"A man, a plan, a canal: Panama\"\n",
        "if is_valid_palindrome(string):\n",
        "    print(\"The string is a valid palindrome\")\n",
        "else:\n",
        "    print(\"The string is not a valid palindrome\")\n"
      ],
      "metadata": {
        "colab": {
          "base_uri": "https://localhost:8080/"
        },
        "id": "VInyfm6pHVj3",
        "outputId": "a9957bbd-6ba4-49bc-aa38-b1dc6e0dad1f"
      },
      "execution_count": 48,
      "outputs": [
        {
          "output_type": "stream",
          "name": "stdout",
          "text": [
            "The string is a valid palindrome\n"
          ]
        }
      ]
    },
    {
      "cell_type": "markdown",
      "source": [
        "**30. Implement a function to find the minimum element in a rotated sorted list.**"
      ],
      "metadata": {
        "id": "JLFhN6o2H7gx"
      }
    },
    {
      "cell_type": "code",
      "source": [
        "def find_minimum(nums):\n",
        "    left = 0\n",
        "    right = len(nums) - 1\n",
        "\n",
        "    while left < right:\n",
        "        mid = left + (right - left) // 2\n",
        "\n",
        "        # If the middle element is greater than the right element,\n",
        "        # the minimum element lies to the right of the middle.\n",
        "        if nums[mid] > nums[right]:\n",
        "            left = mid + 1\n",
        "        else:\n",
        "            right = mid\n",
        "\n",
        "    # At this point, left and right will point to the minimum element.\n",
        "    # Return the value at either index.\n",
        "    return nums[left]\n"
      ],
      "metadata": {
        "colab": {
          "base_uri": "https://localhost:8080/"
        },
        "id": "N615_1aVHVnV",
        "outputId": "c914f266-70ad-4d93-cf5c-94fb7e174bf5"
      },
      "execution_count": 49,
      "outputs": [
        {
          "output_type": "stream",
          "name": "stdout",
          "text": [
            "Minimum element: 0\n"
          ]
        }
      ]
    },
    {
      "cell_type": "markdown",
      "source": [
        "**31. Write a program to find the sum of all even numbers in a list.**"
      ],
      "metadata": {
        "id": "anCl6kcCLyW2"
      }
    },
    {
      "cell_type": "code",
      "source": [
        "def sum_of_even_numbers(lst):\n",
        "    sum_even = 0\n",
        "    for num in lst:\n",
        "        if num % 2 == 0:\n",
        "            sum_even += num\n",
        "    return sum_even\n",
        "\n",
        "# Example usage\n",
        "numbers = [1, 2, 3, 4, 5, 6]\n",
        "result = sum_of_even_numbers(numbers)\n",
        "print(\"Sum of even numbers:\", result)\n"
      ],
      "metadata": {
        "colab": {
          "base_uri": "https://localhost:8080/"
        },
        "id": "XCCFPQVVHVqp",
        "outputId": "cd481680-3ca6-4774-d4a4-f57498b26772"
      },
      "execution_count": 50,
      "outputs": [
        {
          "output_type": "stream",
          "name": "stdout",
          "text": [
            "Sum of even numbers: 12\n"
          ]
        }
      ]
    },
    {
      "cell_type": "markdown",
      "source": [
        "**32. Implement a function to calculate the power of a number using recursion.**"
      ],
      "metadata": {
        "id": "Saa3eL-EL7ut"
      }
    },
    {
      "cell_type": "code",
      "source": [
        "def power(base, exponent):\n",
        "    if exponent == 0:\n",
        "        return 1\n",
        "    elif exponent < 0:\n",
        "        return 1 / power(base, -exponent)\n",
        "    else:\n",
        "        return base * power(base, exponent - 1)\n",
        "\n",
        "# Example usage\n",
        "base = 2\n",
        "exponent = 3\n",
        "result = power(base, exponent)\n",
        "print(\"Result:\", result)\n"
      ],
      "metadata": {
        "colab": {
          "base_uri": "https://localhost:8080/"
        },
        "id": "G7xQsGUSHVuA",
        "outputId": "43d2f711-b8e2-420f-b3d8-23832924bb58"
      },
      "execution_count": 51,
      "outputs": [
        {
          "output_type": "stream",
          "name": "stdout",
          "text": [
            "Result: 8\n"
          ]
        }
      ]
    },
    {
      "cell_type": "markdown",
      "source": [
        "**33. Write a Python program to remove duplicates from a list while preserving the order.**"
      ],
      "metadata": {
        "id": "-W9udB-0MXOn"
      }
    },
    {
      "cell_type": "code",
      "source": [
        "def remove_duplicates(lst):\n",
        "    unique_list = []\n",
        "    for item in lst:\n",
        "        if item not in unique_list:\n",
        "            unique_list.append(item)\n",
        "    return unique_list\n",
        "\n",
        "# Example usage\n",
        "numbers = [1, 2, 2, 3, 4, 3, 5]\n",
        "result = remove_duplicates(numbers)\n",
        "print(\"List without duplicates:\", result)\n"
      ],
      "metadata": {
        "colab": {
          "base_uri": "https://localhost:8080/"
        },
        "id": "3g7bNE4bHVxL",
        "outputId": "6f6a6c1f-5560-461a-ff09-6aa605574654"
      },
      "execution_count": 52,
      "outputs": [
        {
          "output_type": "stream",
          "name": "stdout",
          "text": [
            "List without duplicates: [1, 2, 3, 4, 5]\n"
          ]
        }
      ]
    },
    {
      "cell_type": "markdown",
      "source": [
        "**33. Write a Python program to remove duplicates from a list while preserving the order.**"
      ],
      "metadata": {
        "id": "iZSOhORsMd8S"
      }
    },
    {
      "cell_type": "code",
      "source": [
        "def remove_duplicates(lst):\n",
        "    if len(lst) == 0:\n",
        "        return lst\n",
        "\n",
        "\n",
        "\n",
        "    # two pointers to track the current and next unique elements\n",
        "    curr = 0\n",
        "\n",
        "    for num in range(1, len(lst)):\n",
        "        if lst[num] != lst[curr]:\n",
        "            curr += 1\n",
        "            lst[curr] = lst[num]\n",
        "\n",
        "    # Truncate the list after the last unique element\n",
        "    del lst[curr+1:]\n",
        "\n",
        "    return lst\n",
        "\n",
        "# Example usage\n",
        "numbers = [1, 2, 2, 3, 4, 3, 5]\n",
        "result = remove_duplicates(numbers)\n",
        "print(\"List without duplicates:\", result)\n"
      ],
      "metadata": {
        "colab": {
          "base_uri": "https://localhost:8080/"
        },
        "id": "YwFESN3zHV0j",
        "outputId": "c78de9ae-a8fd-4daf-c854-3b407b5ea2d6"
      },
      "execution_count": 54,
      "outputs": [
        {
          "output_type": "stream",
          "name": "stdout",
          "text": [
            "List without duplicates: [1, 2, 3, 4, 3, 5]\n"
          ]
        }
      ]
    },
    {
      "cell_type": "markdown",
      "source": [
        "**34. Implement a function to find the longest common prefix among a list of strings.**"
      ],
      "metadata": {
        "id": "UhinGX5BOBVP"
      }
    },
    {
      "cell_type": "code",
      "source": [
        "def longest_common_prefix(strs):\n",
        "    if not strs:\n",
        "        return \"\"\n",
        "    prefix = strs[0]\n",
        "    for string in strs[1:]:\n",
        "        while string.find(prefix) != 0:\n",
        "            prefix = prefix[:-1]\n",
        "            if not prefix:\n",
        "                return \"\"\n",
        "    return prefix\n",
        "\n",
        "# Example usage\n",
        "strings = [\"flower\", \"flow\", \"flight\"]\n",
        "result = longest_common_prefix(strings)\n",
        "print(\"Longest common prefix:\", result)\n"
      ],
      "metadata": {
        "colab": {
          "base_uri": "https://localhost:8080/"
        },
        "id": "_DfbPywGOGtq",
        "outputId": "cf3fa5bd-63c5-49d8-bb8b-4128a440d823"
      },
      "execution_count": 55,
      "outputs": [
        {
          "output_type": "stream",
          "name": "stdout",
          "text": [
            "Longest common prefix: fl\n"
          ]
        }
      ]
    },
    {
      "cell_type": "markdown",
      "source": [
        "**34. Implement a function to find the longest common prefix among a list of strings.**"
      ],
      "metadata": {
        "id": "Dx5u0YgzOTcz"
      }
    },
    {
      "cell_type": "code",
      "source": [
        "def longest_common_prefix(strs):\n",
        "    if not strs:\n",
        "        return \"\"\n",
        "    prefix = strs[0]\n",
        "    for string in strs[1:]:\n",
        "        while string.find(prefix) != 0:\n",
        "            prefix = prefix[:-1]\n",
        "            if not prefix:\n",
        "                return \"\"\n",
        "    return prefix\n",
        "\n",
        "# Example usage\n",
        "strings = [\"flower\", \"flow\", \"flight\"]\n",
        "result = longest_common_prefix(strings)\n",
        "print(\"Longest common prefix:\", result)\n"
      ],
      "metadata": {
        "colab": {
          "base_uri": "https://localhost:8080/"
        },
        "id": "EY2hdy8EPxyS",
        "outputId": "f4d40e55-e1e6-4d01-addd-2fbdc4b6750c"
      },
      "execution_count": 59,
      "outputs": [
        {
          "output_type": "stream",
          "name": "stdout",
          "text": [
            "Longest common prefix: fl\n"
          ]
        }
      ]
    },
    {
      "cell_type": "markdown",
      "source": [
        "**35. Write a program to check if a given number is a perfect square.**"
      ],
      "metadata": {
        "id": "QzqQ3mr0PmJt"
      }
    },
    {
      "cell_type": "code",
      "source": [
        "def is_perfect_square(number):\n",
        "    if number < 0:\n",
        "        return False\n",
        "\n",
        "    root = 0\n",
        "    while root * root <= number:\n",
        "        if root * root == number:\n",
        "            return True\n",
        "        root += 1\n",
        "\n",
        "    return False\n",
        "\n",
        "# Example usage\n",
        "num = 16\n",
        "if is_perfect_square(num):\n",
        "    print(\"The number is a perfect square\")\n",
        "else:\n",
        "    print(\"The number is not a perfect square\")\n"
      ],
      "metadata": {
        "colab": {
          "base_uri": "https://localhost:8080/"
        },
        "id": "ydWpOvX7OGyB",
        "outputId": "84dcd68f-ada1-4378-d3f9-6fc57f21019d"
      },
      "execution_count": 57,
      "outputs": [
        {
          "output_type": "stream",
          "name": "stdout",
          "text": [
            "The number is a perfect square\n"
          ]
        }
      ]
    },
    {
      "cell_type": "markdown",
      "source": [
        "**36. Implement a function to calculate the product of all elements in a list.**"
      ],
      "metadata": {
        "id": "CzF3XnbgPigZ"
      }
    },
    {
      "cell_type": "code",
      "source": [
        "def product_of_list(lst):\n",
        "    product = 1\n",
        "    for num in lst:\n",
        "        product *= num\n",
        "    return product\n",
        "\n",
        "# Example usage\n",
        "numbers = [1, 2, 3, 4, 5]\n",
        "result = product_of_list(numbers)\n",
        "print(\"Product of list:\", result)\n"
      ],
      "metadata": {
        "colab": {
          "base_uri": "https://localhost:8080/"
        },
        "id": "PgwNzb6uOHAS",
        "outputId": "706b509c-e38c-43d6-9870-cc6cbed99f78"
      },
      "execution_count": 58,
      "outputs": [
        {
          "output_type": "stream",
          "name": "stdout",
          "text": [
            "Product of list: 120\n"
          ]
        }
      ]
    },
    {
      "cell_type": "markdown",
      "source": [
        "**37. Write a Python program to reverse the order of words in a sentence while preserving the word order.**"
      ],
      "metadata": {
        "id": "LEWN7hqmP9RA"
      }
    },
    {
      "cell_type": "code",
      "source": [],
      "metadata": {
        "id": "Tx0Zdg9YOHEc"
      },
      "execution_count": null,
      "outputs": []
    },
    {
      "cell_type": "code",
      "source": [],
      "metadata": {
        "id": "HEqkEES8OHHu"
      },
      "execution_count": null,
      "outputs": []
    },
    {
      "cell_type": "code",
      "source": [],
      "metadata": {
        "id": "pBXzjbS6OHLY"
      },
      "execution_count": null,
      "outputs": []
    },
    {
      "cell_type": "code",
      "source": [],
      "metadata": {
        "id": "BxvKNMZDOHOh"
      },
      "execution_count": null,
      "outputs": []
    },
    {
      "cell_type": "code",
      "source": [],
      "metadata": {
        "id": "ExiF5UkyOHSH"
      },
      "execution_count": null,
      "outputs": []
    }
  ]
}