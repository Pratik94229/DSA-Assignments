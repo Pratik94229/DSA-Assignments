{
  "nbformat": 4,
  "nbformat_minor": 0,
  "metadata": {
    "colab": {
      "provenance": [],
      "authorship_tag": "ABX9TyN/ILTO5D375Md4Z3VOkD5q",
      "include_colab_link": true
    },
    "kernelspec": {
      "name": "python3",
      "display_name": "Python 3"
    },
    "language_info": {
      "name": "python"
    }
  },
  "cells": [
    {
      "cell_type": "markdown",
      "metadata": {
        "id": "view-in-github",
        "colab_type": "text"
      },
      "source": [
        "<a href=\"https://colab.research.google.com/github/Pratik94229/DSA-Assignments/blob/main/core/ppt_python_assignment.ipynb\" target=\"_parent\"><img src=\"https://colab.research.google.com/assets/colab-badge.svg\" alt=\"Open In Colab\"/></a>"
      ]
    },
    {
      "cell_type": "markdown",
      "source": [
        "**1. Write a Python program to reverse a string without using any built-in string reversal functions.**"
      ],
      "metadata": {
        "id": "b6cXAATMWcDS"
      }
    },
    {
      "cell_type": "code",
      "source": [
        "def reverse_string(string):\n",
        "    reversed_string = ''\n",
        "    for i in range(len(string) ):\n",
        "        reversed_string += string[-1-i]\n",
        "    return reversed_string\n"
      ],
      "metadata": {
        "id": "tSmxGyb_JTHH"
      },
      "execution_count": 1,
      "outputs": []
    },
    {
      "cell_type": "code",
      "source": [
        "def reverse_string(string):\n",
        "    char_list = list(string)  # Convert the string to a list of characters\n",
        "    first = 0\n",
        "    last = len(char_list) - 1\n",
        "    while first < last:\n",
        "        char_list[last], char_list[first] = char_list[first], char_list[last]\n",
        "        first += 1\n",
        "        last -= 1\n",
        "    reversed_string = ''.join(char_list)  # Convert the list back to a string\n",
        "    return reversed_string\n"
      ],
      "metadata": {
        "id": "tpemRkTKLVKi"
      },
      "execution_count": 2,
      "outputs": []
    },
    {
      "cell_type": "code",
      "source": [
        "# Example usage\n",
        "original_string = \"Hello, World!\"\n",
        "reversed_string = reverse_string(original_string)\n",
        "print(reversed_string)  # Output: \"!dlroW ,olleH\""
      ],
      "metadata": {
        "colab": {
          "base_uri": "https://localhost:8080/"
        },
        "id": "W5c_Ovs5XJGK",
        "outputId": "ab4d8cad-5491-4782-da0b-edfc114dd8fc"
      },
      "execution_count": 3,
      "outputs": [
        {
          "output_type": "stream",
          "name": "stdout",
          "text": [
            "!dlroW ,olleH\n"
          ]
        }
      ]
    },
    {
      "cell_type": "markdown",
      "source": [
        "**2. Implement a function to check if a given string is a palindrome.**"
      ],
      "metadata": {
        "id": "LEn9xnY2ZlTm"
      }
    },
    {
      "cell_type": "code",
      "source": [
        "def if_palindrome(string):\n",
        "  first=0\n",
        "  last=len(string)-1\n",
        "  flag=1\n",
        "  while(first<last):\n",
        "    if(string[first]!=string[last]):\n",
        "      flag=0\n",
        "      return flag\n",
        "    else:\n",
        "      first+=1\n",
        "      last-=1\n",
        "\n",
        "  return flag\n"
      ],
      "metadata": {
        "id": "tqYYbUqtZo15"
      },
      "execution_count": 4,
      "outputs": []
    },
    {
      "cell_type": "code",
      "source": [
        "if_palindrome(\"naman\")"
      ],
      "metadata": {
        "colab": {
          "base_uri": "https://localhost:8080/"
        },
        "id": "WTEGMt7Tax06",
        "outputId": "9308d89b-4142-423b-e2f1-42742bd2b096"
      },
      "execution_count": 5,
      "outputs": [
        {
          "output_type": "execute_result",
          "data": {
            "text/plain": [
              "1"
            ]
          },
          "metadata": {},
          "execution_count": 5
        }
      ]
    },
    {
      "cell_type": "code",
      "source": [
        "if_palindrome(\"pratik\")"
      ],
      "metadata": {
        "colab": {
          "base_uri": "https://localhost:8080/"
        },
        "id": "0LCfCZiVayAk",
        "outputId": "0b6b439c-3e93-4b9f-ec0c-9a454e1d5eb1"
      },
      "execution_count": 6,
      "outputs": [
        {
          "output_type": "execute_result",
          "data": {
            "text/plain": [
              "0"
            ]
          },
          "metadata": {},
          "execution_count": 6
        }
      ]
    },
    {
      "cell_type": "markdown",
      "source": [
        "**3. Write a program to find the largest element in a given list.**"
      ],
      "metadata": {
        "id": "VcVp-vuZbmDJ"
      }
    },
    {
      "cell_type": "code",
      "source": [
        "def find_largest_element(lst):\n",
        "    largest = lst[0]\n",
        "    for num in lst:\n",
        "        if num > largest:\n",
        "            largest = num\n",
        "    return largest\n"
      ],
      "metadata": {
        "id": "KYUbzFy1bZjW"
      },
      "execution_count": 7,
      "outputs": []
    },
    {
      "cell_type": "code",
      "source": [
        "numbers = [5, 9, 3, 7, 2]\n",
        "largest_number = find_largest_element(numbers)\n",
        "print(f\"The largest number in the list is: {largest_number}\")"
      ],
      "metadata": {
        "colab": {
          "base_uri": "https://localhost:8080/"
        },
        "id": "rNGa6YElbuDH",
        "outputId": "47ba9e88-e47e-43a3-d131-f3b296684850"
      },
      "execution_count": 8,
      "outputs": [
        {
          "output_type": "stream",
          "name": "stdout",
          "text": [
            "The largest number in the list is: 9\n"
          ]
        }
      ]
    },
    {
      "cell_type": "markdown",
      "source": [
        "**4. Implement a function to count the occurrence of each element in a list.**"
      ],
      "metadata": {
        "id": "VGKRukcGb2di"
      }
    },
    {
      "cell_type": "code",
      "source": [
        "def count_occurrences(lst):\n",
        "    counts = {}\n",
        "    for item in lst:\n",
        "        if item in counts:\n",
        "            counts[item] += 1\n",
        "        else:\n",
        "            counts[item] = 1\n",
        "    return counts\n"
      ],
      "metadata": {
        "id": "DN9CrkObb3xj"
      },
      "execution_count": 9,
      "outputs": []
    },
    {
      "cell_type": "code",
      "source": [
        "numbers = [1, 2, 3, 2, 1, 3, 4, 5, 2]\n",
        "occurrences = count_occurrences(numbers)\n",
        "print(occurrences)"
      ],
      "metadata": {
        "colab": {
          "base_uri": "https://localhost:8080/"
        },
        "id": "L4a3cnylb0el",
        "outputId": "1e725518-31eb-4c12-c4d7-aa9e1b3f9b34"
      },
      "execution_count": 10,
      "outputs": [
        {
          "output_type": "stream",
          "name": "stdout",
          "text": [
            "{1: 2, 2: 3, 3: 2, 4: 1, 5: 1}\n"
          ]
        }
      ]
    },
    {
      "cell_type": "markdown",
      "source": [
        "**5. Write a Python program to find the second largest number in a list.**"
      ],
      "metadata": {
        "id": "gZ0Vd5IZci-v"
      }
    },
    {
      "cell_type": "code",
      "source": [
        "def find_second_largest(lst):\n",
        "    largest = float('-inf')\n",
        "    second_largest = float('-inf')\n",
        "    for num in lst:\n",
        "        if num > largest:\n",
        "            second_largest = largest\n",
        "            largest = num\n",
        "        elif num > second_largest and num != largest:\n",
        "            second_largest = num\n",
        "    return second_largest\n"
      ],
      "metadata": {
        "id": "1rlFN8s3c9wi"
      },
      "execution_count": 11,
      "outputs": []
    },
    {
      "cell_type": "code",
      "source": [
        "# Example usage\n",
        "numbers = [5, 9, 3, 7, 2]\n",
        "second_largest_number = find_second_largest(numbers)\n",
        "print(f\"The second largest number in the list is: {second_largest_number}\")  # Output: 7"
      ],
      "metadata": {
        "colab": {
          "base_uri": "https://localhost:8080/"
        },
        "id": "C767c9fkd20P",
        "outputId": "6d19771b-b878-4537-b696-bdcecd489e10"
      },
      "execution_count": 12,
      "outputs": [
        {
          "output_type": "stream",
          "name": "stdout",
          "text": [
            "The second largest number in the list is: 7\n"
          ]
        }
      ]
    },
    {
      "cell_type": "markdown",
      "source": [
        "**6. Implement a function to remove duplicate elements from a list.**"
      ],
      "metadata": {
        "id": "dgk8m46Oep_k"
      }
    },
    {
      "cell_type": "code",
      "source": [
        "def remove_duplicates(lst):\n",
        "    return list(set(lst))\n",
        "\n"
      ],
      "metadata": {
        "id": "p8tCbwuUeqZZ"
      },
      "execution_count": 13,
      "outputs": []
    },
    {
      "cell_type": "code",
      "source": [
        "# Example usage\n",
        "numbers = [1, 2, 3, 2, 4, 5, 1, 3]\n",
        "unique_numbers = remove_duplicates(numbers)\n",
        "print(unique_numbers)"
      ],
      "metadata": {
        "colab": {
          "base_uri": "https://localhost:8080/"
        },
        "id": "ItKFlRNqe7sL",
        "outputId": "014e108b-0ae5-4371-cedd-7d8c625f6bcd"
      },
      "execution_count": 14,
      "outputs": [
        {
          "output_type": "stream",
          "name": "stdout",
          "text": [
            "[1, 2, 3, 4, 5]\n"
          ]
        }
      ]
    },
    {
      "cell_type": "markdown",
      "source": [
        "**7. Write a program to calculate the factorial of a given number.**"
      ],
      "metadata": {
        "id": "1pJi9OZUfCji"
      }
    },
    {
      "cell_type": "code",
      "source": [
        "def factorial(n):\n",
        "  if n==1:\n",
        "    return 1\n",
        "  else:\n",
        "    return n*factorial(n-1)"
      ],
      "metadata": {
        "id": "isN6SZs5fBRf"
      },
      "execution_count": 15,
      "outputs": []
    },
    {
      "cell_type": "code",
      "source": [
        "factorial(5)"
      ],
      "metadata": {
        "colab": {
          "base_uri": "https://localhost:8080/"
        },
        "id": "lG_kpKGmfB1b",
        "outputId": "1dba42fa-3c98-4300-be85-cd7013a6ee5e"
      },
      "execution_count": 16,
      "outputs": [
        {
          "output_type": "execute_result",
          "data": {
            "text/plain": [
              "120"
            ]
          },
          "metadata": {},
          "execution_count": 16
        }
      ]
    },
    {
      "cell_type": "markdown",
      "source": [
        "**8. Implement a function to check if a given number is prime.**"
      ],
      "metadata": {
        "id": "9JZVeju4fpNC"
      }
    },
    {
      "cell_type": "code",
      "source": [
        "def is_prime(n):\n",
        "    if n <= 1:\n",
        "        return False\n",
        "    for i in range(2, int(n**0.5) + 1):\n",
        "        if n % i == 0:\n",
        "            return False\n",
        "    return True\n"
      ],
      "metadata": {
        "id": "Ydh9rIsOfB4T"
      },
      "execution_count": 17,
      "outputs": []
    },
    {
      "cell_type": "code",
      "source": [
        "# Example usage\n",
        "number = 17\n",
        "if is_prime(number):\n",
        "    print(f\"{number} is a prime number.\")\n",
        "else:\n",
        "    print(f\"{number} is not a prime number.\")\n"
      ],
      "metadata": {
        "colab": {
          "base_uri": "https://localhost:8080/"
        },
        "id": "_E-k3HJYfB7K",
        "outputId": "be896eb5-0287-4b2b-cd79-3bfd53cc972e"
      },
      "execution_count": 18,
      "outputs": [
        {
          "output_type": "stream",
          "name": "stdout",
          "text": [
            "17 is a prime number.\n"
          ]
        }
      ]
    },
    {
      "cell_type": "markdown",
      "source": [
        "**9. Write a Python program to sort a list of integers in ascending order.**"
      ],
      "metadata": {
        "id": "dJKvNV-4gAVn"
      }
    },
    {
      "cell_type": "code",
      "source": [
        "def sort_list(lst):\n",
        "    if len(lst) <= 1:\n",
        "        return lst\n",
        "    else:\n",
        "        pivot = lst[0]\n",
        "        less_than_pivot = []\n",
        "        greater_than_pivot = []\n",
        "        for x in lst[1:]:\n",
        "            if x <= pivot:\n",
        "                less_than_pivot.append(x)\n",
        "            else:\n",
        "                greater_than_pivot.append(x)\n",
        "        return sort_list(less_than_pivot) + [pivot] + sort_list(greater_than_pivot)\n"
      ],
      "metadata": {
        "id": "FjsMYgcof-4T"
      },
      "execution_count": 19,
      "outputs": []
    },
    {
      "cell_type": "code",
      "source": [
        "# Example usage\n",
        "numbers = [5, 2, 8, 1, 7]\n",
        "sorted_numbers = sort_list(numbers)\n",
        "print(sorted_numbers)"
      ],
      "metadata": {
        "colab": {
          "base_uri": "https://localhost:8080/"
        },
        "id": "nIIq7tXffB-t",
        "outputId": "7bd4c528-de6d-4310-c1bc-0e4cecf6dc09"
      },
      "execution_count": 20,
      "outputs": [
        {
          "output_type": "stream",
          "name": "stdout",
          "text": [
            "[1, 2, 5, 7, 8]\n"
          ]
        }
      ]
    },
    {
      "cell_type": "markdown",
      "source": [
        "**10. Implement a function to find the sum of all numbers in a list.**"
      ],
      "metadata": {
        "id": "cYfxns1phSX_"
      }
    },
    {
      "cell_type": "code",
      "source": [
        "def sum(list):\n",
        "  sum=0\n",
        "  for i in list:\n",
        "    sum=sum+i\n",
        "  return sum"
      ],
      "metadata": {
        "id": "A7ioQUfhhg6v"
      },
      "execution_count": 21,
      "outputs": []
    },
    {
      "cell_type": "code",
      "source": [
        "# Example usage\n",
        "numbers = [5, 2, 8, 1, 7]\n",
        "sum = sum(numbers)\n",
        "print(sum)"
      ],
      "metadata": {
        "colab": {
          "base_uri": "https://localhost:8080/"
        },
        "id": "nZMn8aaUhVZu",
        "outputId": "4899df78-116e-4f1a-8db7-75538bac03c3"
      },
      "execution_count": 22,
      "outputs": [
        {
          "output_type": "stream",
          "name": "stdout",
          "text": [
            "23\n"
          ]
        }
      ]
    },
    {
      "cell_type": "markdown",
      "source": [
        "**11. Write a program to find the common elements between two lists.**"
      ],
      "metadata": {
        "id": "2PGNAyOqhxJA"
      }
    },
    {
      "cell_type": "code",
      "source": [
        "def find_common_elements(list1, list2):\n",
        "    return list(set(list1) & set(list2))\n"
      ],
      "metadata": {
        "id": "24WAiBl6h3cH"
      },
      "execution_count": 23,
      "outputs": []
    },
    {
      "cell_type": "code",
      "source": [
        "list1 = [1, 2, 3, 4, 5]\n",
        "list2 = [4, 5, 6, 7, 8]\n",
        "common_elements = find_common_elements(list1, list2)\n",
        "print(common_elements)"
      ],
      "metadata": {
        "colab": {
          "base_uri": "https://localhost:8080/"
        },
        "id": "5Bc0Mz_ViW3J",
        "outputId": "7063b55f-71f9-40da-ac03-abdc66ae76c9"
      },
      "execution_count": 24,
      "outputs": [
        {
          "output_type": "stream",
          "name": "stdout",
          "text": [
            "[4, 5]\n"
          ]
        }
      ]
    },
    {
      "cell_type": "markdown",
      "source": [
        "**12. Implement a function to check if a given string is an anagram of another string.**"
      ],
      "metadata": {
        "id": "SRCdoDuW0-dB"
      }
    },
    {
      "cell_type": "code",
      "source": [
        "def is_anagram(string1, string2):\n",
        "    # Remove spaces and convert both strings to lowercase\n",
        "    string1 = string1.replace(\" \", \"\").lower()\n",
        "    string2 = string2.replace(\" \", \"\").lower()\n",
        "\n",
        "    # Check if the lengths of the strings are equal\n",
        "    if len(string1) != len(string2):\n",
        "        return False\n",
        "\n",
        "    # Create dictionaries to count the characters in each string\n",
        "    char_count1 = {}\n",
        "    char_count2 = {}\n",
        "\n",
        "    # Count the characters in string1\n",
        "    for char in string1:\n",
        "        if char in char_count1:\n",
        "            char_count1[char] += 1\n",
        "        else:\n",
        "            char_count1[char] = 1\n",
        "\n",
        "    # Count the characters in string2\n",
        "    for char in string2:\n",
        "        if char in char_count2:\n",
        "            char_count2[char] += 1\n",
        "        else:\n",
        "            char_count2[char] = 1\n",
        "\n",
        "    # Compare the character counts\n",
        "    return char_count1 == char_count2\n"
      ],
      "metadata": {
        "id": "SN_uQnCj1F7m"
      },
      "execution_count": 25,
      "outputs": []
    },
    {
      "cell_type": "code",
      "source": [
        "string1 = \"listen\"\n",
        "string2 = \"silent\"\n",
        "print(is_anagram(string1, string2))  # Output: True\n",
        "\n",
        "string3 = \"hello\"\n",
        "string4 = \"world\"\n",
        "print(is_anagram(string3, string4))  # Output: False\n"
      ],
      "metadata": {
        "colab": {
          "base_uri": "https://localhost:8080/"
        },
        "id": "qUeknBYe1GAt",
        "outputId": "3bea7f77-a4ae-489b-f808-9b8333610cb0"
      },
      "execution_count": 26,
      "outputs": [
        {
          "output_type": "stream",
          "name": "stdout",
          "text": [
            "True\n",
            "False\n"
          ]
        }
      ]
    },
    {
      "cell_type": "markdown",
      "source": [
        "**13. Write a Python program to generate all permutations of a given string.**"
      ],
      "metadata": {
        "id": "F1Xlm403FHxY"
      }
    },
    {
      "cell_type": "code",
      "source": [
        "def generate_permutations(string):\n",
        "    # Base case: If the string has only one character, return it as a single-element list\n",
        "    if len(string) == 1:\n",
        "        return [string]\n",
        "\n",
        "    # Recursive case: Generate permutations for each character in the string\n",
        "    permutations = []\n",
        "    for i in range(len(string)):\n",
        "        # Extract the current character\n",
        "        current_char = string[i]\n",
        "\n",
        "        # Generate permutations for the remaining characters\n",
        "        remaining_chars = string[:i] + string[i+1:]\n",
        "        remaining_permutations = generate_permutations(remaining_chars)\n",
        "\n",
        "        # Append the current character to each permutation of the remaining characters\n",
        "        for permutation in remaining_permutations:\n",
        "            permutations.append(current_char + permutation)\n",
        "\n",
        "    return permutations\n",
        "\n",
        "# Example usage\n",
        "string = \"abc\"\n",
        "permutations = generate_permutations(string)\n",
        "print(permutations)\n"
      ],
      "metadata": {
        "id": "88_vewWO1GEQ",
        "colab": {
          "base_uri": "https://localhost:8080/"
        },
        "outputId": "7b8f803a-b0bc-43a7-e6be-9906667e4208"
      },
      "execution_count": 28,
      "outputs": [
        {
          "output_type": "stream",
          "name": "stdout",
          "text": [
            "['abc', 'acb', 'bac', 'bca', 'cab', 'cba']\n"
          ]
        }
      ]
    },
    {
      "cell_type": "code",
      "source": [
        "import itertools\n",
        "\n",
        "def get_permutations(string):\n",
        "    permutations = list(itertools.permutations(string))\n",
        "    return [''.join(permutation) for permutation in permutations]\n",
        "\n",
        "# Example usage\n",
        "string = \"abc\"\n",
        "permutations = get_permutations(string)\n",
        "print(permutations)\n"
      ],
      "metadata": {
        "id": "jeWKbs191GH4",
        "colab": {
          "base_uri": "https://localhost:8080/"
        },
        "outputId": "c4242df8-e7b3-4b89-d5c9-06efc27fdaa0"
      },
      "execution_count": 29,
      "outputs": [
        {
          "output_type": "stream",
          "name": "stdout",
          "text": [
            "['abc', 'acb', 'bac', 'bca', 'cab', 'cba']\n"
          ]
        }
      ]
    },
    {
      "cell_type": "markdown",
      "source": [
        "**14. Implement a function to calculate the Fibonacci sequence up to a given number of terms.**"
      ],
      "metadata": {
        "id": "76a21VBwRHze"
      }
    },
    {
      "cell_type": "code",
      "source": [
        "def fibonacci_sequence(n):\n",
        "    sequence = [0, 1]\n",
        "    while len(sequence) < n:\n",
        "        next_number = sequence[-1] + sequence[-2]\n",
        "        sequence.append(next_number)\n",
        "    return sequence\n",
        "\n",
        "# Example usage\n",
        "n = 10\n",
        "fib_sequence = fibonacci_sequence(n)\n",
        "print(fib_sequence)\n"
      ],
      "metadata": {
        "id": "xx9jwAL71GLR",
        "colab": {
          "base_uri": "https://localhost:8080/"
        },
        "outputId": "d0fa3eb5-c84a-43e5-bf6e-ec55a1ccfb40"
      },
      "execution_count": 30,
      "outputs": [
        {
          "output_type": "stream",
          "name": "stdout",
          "text": [
            "[0, 1, 1, 2, 3, 5, 8, 13, 21, 34]\n"
          ]
        }
      ]
    },
    {
      "cell_type": "markdown",
      "source": [
        "**15. Write a program to find the median of a list of numbers.**"
      ],
      "metadata": {
        "id": "yVo7ICW0RfiQ"
      }
    },
    {
      "cell_type": "code",
      "source": [
        "def find_median(numbers):\n",
        "    sorted_numbers = sorted(numbers)\n",
        "    n = len(sorted_numbers)\n",
        "    if n % 2 == 0:\n",
        "        median = (sorted_numbers[n // 2 - 1] + sorted_numbers[n // 2]) / 2\n",
        "    else:\n",
        "        median = sorted_numbers[n // 2]\n",
        "    return median\n",
        "\n",
        "# Example usage\n",
        "numbers = [1, 3, 5, 2, 4]\n",
        "median = find_median(numbers)\n",
        "print(median)\n"
      ],
      "metadata": {
        "id": "Lk9tZwW31GOr",
        "colab": {
          "base_uri": "https://localhost:8080/"
        },
        "outputId": "6c7ebb0e-0c59-4ea1-9ef5-477b1c436965"
      },
      "execution_count": 31,
      "outputs": [
        {
          "output_type": "stream",
          "name": "stdout",
          "text": [
            "3\n"
          ]
        }
      ]
    },
    {
      "cell_type": "markdown",
      "source": [
        "**16. Implement a function to check if a given list is sorted in non-decreasing order.**"
      ],
      "metadata": {
        "id": "ikB4JXHLRrNv"
      }
    },
    {
      "cell_type": "code",
      "source": [
        "def is_sorted(numbers):\n",
        "    return all(numbers[i] <= numbers[i+1] for i in range(len(numbers) - 1))\n",
        "\n",
        "# Example usage\n",
        "numbers = [1, 2, 3, 4, 5]\n",
        "print(is_sorted(numbers))  # Output: True\n",
        "\n",
        "numbers = [1, 3, 2, 4, 5]\n",
        "print(is_sorted(numbers))  # Output: False\n"
      ],
      "metadata": {
        "id": "_HTHfrO61GRz",
        "colab": {
          "base_uri": "https://localhost:8080/"
        },
        "outputId": "c865dcb9-7489-41c1-ffd0-33d0536a7aab"
      },
      "execution_count": 32,
      "outputs": [
        {
          "output_type": "stream",
          "name": "stdout",
          "text": [
            "True\n",
            "False\n"
          ]
        }
      ]
    },
    {
      "cell_type": "markdown",
      "source": [
        "**17. Write a Python program to find the intersection of two lists.**"
      ],
      "metadata": {
        "id": "MyZlUQr8R_kP"
      }
    },
    {
      "cell_type": "code",
      "source": [
        "def find_intersection(list1, list2):\n",
        "    intersection = list(set(list1) & set(list2))\n",
        "    return intersection\n",
        "\n",
        "# Example usage\n",
        "list1 = [1, 2, 3, 4]\n",
        "list2 = [3, 4, 5, 6]\n",
        "intersection = find_intersection(list1, list2)\n",
        "print(intersection)\n"
      ],
      "metadata": {
        "id": "EHlByS2b1GU_",
        "colab": {
          "base_uri": "https://localhost:8080/"
        },
        "outputId": "878be914-1a82-4c74-a506-a90126c94e20"
      },
      "execution_count": 33,
      "outputs": [
        {
          "output_type": "stream",
          "name": "stdout",
          "text": [
            "[3, 4]\n"
          ]
        }
      ]
    },
    {
      "cell_type": "markdown",
      "source": [
        "**18. Implement a function to find the maximum subarray sum in a given list.**"
      ],
      "metadata": {
        "id": "9TgpCh7YSN0k"
      }
    },
    {
      "cell_type": "code",
      "source": [
        "def find_max_subarray_sum(numbers):\n",
        "    max_sum = float('-inf')\n",
        "    current_sum = 0\n",
        "\n",
        "    for num in numbers:\n",
        "        current_sum += num\n",
        "        if current_sum > max_sum:\n",
        "            max_sum = current_sum\n",
        "        if current_sum < 0:\n",
        "            current_sum = 0\n",
        "\n",
        "    return max_sum\n",
        "\n",
        "# Example usage\n",
        "numbers = [-2, 1, -3, 4, -1, 2, 1, -5, 4]\n",
        "max_sum = find_max_subarray_sum(numbers)\n",
        "print(max_sum)\n"
      ],
      "metadata": {
        "id": "Ekgs-mMR1GYd",
        "colab": {
          "base_uri": "https://localhost:8080/"
        },
        "outputId": "05c51d03-01ce-485e-959b-c6faa2395386"
      },
      "execution_count": 35,
      "outputs": [
        {
          "output_type": "stream",
          "name": "stdout",
          "text": [
            "6\n"
          ]
        }
      ]
    },
    {
      "cell_type": "markdown",
      "source": [
        "**19. Write a program to remove all vowels from a given string.**"
      ],
      "metadata": {
        "id": "SDUOvUSZXL1C"
      }
    },
    {
      "cell_type": "code",
      "source": [
        "def remove_vowels(string):\n",
        "    vowels = ['a', 'e', 'i', 'o', 'u']\n",
        "    new_string=''\n",
        "    for char in string:\n",
        "      if (char.lower() not in vowels):\n",
        "\n",
        "        new_string=new_string+char\n",
        "\n",
        "    return new_string\n",
        "\n",
        "\n",
        "# Example usage\n",
        "string = \"Hello, World!\"\n",
        "new_string = remove_vowels(string)\n",
        "print(new_string)\n"
      ],
      "metadata": {
        "colab": {
          "base_uri": "https://localhost:8080/"
        },
        "id": "PA-qUc-zXQ4M",
        "outputId": "32aaac11-daf5-41a4-a8bf-0830839604e6"
      },
      "execution_count": 41,
      "outputs": [
        {
          "output_type": "stream",
          "name": "stdout",
          "text": [
            "Hll, Wrld!\n"
          ]
        }
      ]
    },
    {
      "cell_type": "markdown",
      "source": [
        "**20. Implement a function to reverse the order of words in a given sentence.**"
      ],
      "metadata": {
        "id": "cwhaqRasam2z"
      }
    },
    {
      "cell_type": "code",
      "source": [
        "def reverse_words(sentence):\n",
        "    words = sentence.split()\n",
        "    reversed_words = ' '.join(reversed(words))\n",
        "    return reversed_words\n",
        "\n",
        "# Example usage\n",
        "sentence = \"Hello, world! How are you?\"\n",
        "reversed_sentence = reverse_words(sentence)\n",
        "print(reversed_sentence)\n"
      ],
      "metadata": {
        "colab": {
          "base_uri": "https://localhost:8080/"
        },
        "id": "cIZKXKePXQ7R",
        "outputId": "94f8c30b-7d40-4a90-fec4-1ea3441fc112"
      },
      "execution_count": 42,
      "outputs": [
        {
          "output_type": "stream",
          "name": "stdout",
          "text": [
            "you? are How world! Hello,\n"
          ]
        }
      ]
    },
    {
      "cell_type": "markdown",
      "source": [
        "**21. Write a Python program to check if two strings are anagrams of each other.**"
      ],
      "metadata": {
        "id": "dVSI3Rzmblmn"
      }
    },
    {
      "cell_type": "code",
      "source": [
        "def are_anagrams(string1, string2):\n",
        "    # Convert both strings to lowercase and remove whitespace\n",
        "    string1 = string1.lower().replace(\" \", \"\")\n",
        "    string2 = string2.lower().replace(\" \", \"\")\n",
        "\n",
        "    # Check if the lengths of the strings are equal\n",
        "    if len(string1) != len(string2):\n",
        "        return False\n",
        "\n",
        "    # Create dictionaries to count the occurrences of each character in both strings\n",
        "    count1 = {}\n",
        "    count2 = {}\n",
        "\n",
        "    # Count the occurrences of each character in string1\n",
        "    for char in string1:\n",
        "        count1[char] = count1.get(char, 0) + 1\n",
        "\n",
        "    # Count the occurrences of each character in string2\n",
        "    for char in string2:\n",
        "        count2[char] = count2.get(char, 0) + 1\n",
        "\n",
        "    # Check if the dictionaries are equal\n",
        "    if count1 == count2:\n",
        "        return True\n",
        "    else:\n",
        "        return False\n",
        "\n",
        "# Example usage\n",
        "string1 = \"listen\"\n",
        "string2 = \"silent\"\n",
        "if are_anagrams(string1, string2):\n",
        "    print(f\"{string1} and {string2} are anagrams.\")\n",
        "else:\n",
        "    print(f\"{string1} and {string2} are not anagrams.\")\n"
      ],
      "metadata": {
        "colab": {
          "base_uri": "https://localhost:8080/"
        },
        "id": "LCKjdrsbXQ-Y",
        "outputId": "84d2db2e-c2c1-419a-9362-702b1813db7f"
      },
      "execution_count": 43,
      "outputs": [
        {
          "output_type": "stream",
          "name": "stdout",
          "text": [
            "listen and silent are anagrams.\n"
          ]
        }
      ]
    },
    {
      "cell_type": "markdown",
      "source": [
        "**22. Implement a function to find the first non-repeating character in a string.**"
      ],
      "metadata": {
        "id": "ZHOb8e_Ob17u"
      }
    },
    {
      "cell_type": "code",
      "source": [
        "def find_first_non_repeating_char(string):\n",
        "    char_count = {}\n",
        "\n",
        "    # Count the occurrences of each character in the string\n",
        "    for char in string:\n",
        "        char_count[char] = char_count.get(char, 0) + 1\n",
        "\n",
        "    # Find the first character with a count of 1\n",
        "    for char in string:\n",
        "        if char_count[char] == 1:\n",
        "            return char\n",
        "\n",
        "    # If no non-repeating character is found, return None\n",
        "    return None\n",
        "\n",
        "# Example usage\n",
        "string = \"abracadabra\"\n",
        "first_non_repeating_char = find_first_non_repeating_char(string)\n",
        "print(\"First non-repeating character:\", first_non_repeating_char)\n"
      ],
      "metadata": {
        "colab": {
          "base_uri": "https://localhost:8080/"
        },
        "id": "cVrsczj1XRBX",
        "outputId": "29514af2-26fd-4d2a-c6bf-bde35e0b7798"
      },
      "execution_count": 44,
      "outputs": [
        {
          "output_type": "stream",
          "name": "stdout",
          "text": [
            "First non-repeating character: c\n"
          ]
        }
      ]
    },
    {
      "cell_type": "markdown",
      "source": [
        "**23. Write a program to find the prime factors of a given number.**"
      ],
      "metadata": {
        "id": "Y3uCjj6WdBQR"
      }
    },
    {
      "cell_type": "code",
      "source": [
        "def find_prime_factors(n):\n",
        "    prime_factors = []\n",
        "    i = 2\n",
        "    while i * i <= n:\n",
        "        if n % i:\n",
        "            i += 1\n",
        "        else:\n",
        "            n =n // i\n",
        "            prime_factors.append(i)\n",
        "    if n > 1:\n",
        "        prime_factors.append(n)\n",
        "    return prime_factors\n",
        "\n",
        "# Example usage\n",
        "number = 84\n",
        "factors = find_prime_factors(number)\n",
        "print(\"Prime factors of\", number, \"are:\", factors)"
      ],
      "metadata": {
        "colab": {
          "base_uri": "https://localhost:8080/"
        },
        "id": "saGu7LdrXREi",
        "outputId": "8c768e2e-4a13-431c-809c-594422945fae"
      },
      "execution_count": 51,
      "outputs": [
        {
          "output_type": "stream",
          "name": "stdout",
          "text": [
            "Prime factors of 84 are: [2, 2, 3, 7]\n"
          ]
        }
      ]
    },
    {
      "cell_type": "markdown",
      "source": [
        "**24. Implement a function to check if a given number is a power of two.**"
      ],
      "metadata": {
        "id": "ZXFeKw5DgYMN"
      }
    },
    {
      "cell_type": "code",
      "source": [
        "def is_power_of_two(n):\n",
        "    if n <= 0:\n",
        "        return False\n",
        "    return n & (n - 1) == 0\n",
        "\n",
        "# Example usage\n",
        "number = 16\n",
        "if is_power_of_two(number):\n",
        "    print(number, \"is a power of two\")\n",
        "else:\n",
        "    print(number, \"is not a power of two\")\n"
      ],
      "metadata": {
        "colab": {
          "base_uri": "https://localhost:8080/"
        },
        "id": "5WBe0wCRXRHa",
        "outputId": "63607fda-f90e-4bf7-c863-916d4d7c99e3"
      },
      "execution_count": 52,
      "outputs": [
        {
          "output_type": "stream",
          "name": "stdout",
          "text": [
            "16 is a power of two\n"
          ]
        }
      ]
    },
    {
      "cell_type": "markdown",
      "source": [
        "**25. Write a Python program to merge two sorted lists into a single sorted list.**"
      ],
      "metadata": {
        "id": "mSLPV2XihZuz"
      }
    },
    {
      "cell_type": "code",
      "source": [
        "def merge_sorted_lists(list1, list2):\n",
        "    if not list1:\n",
        "        return list2\n",
        "    if not list2:\n",
        "        return list1\n",
        "\n",
        "    if list1[0] < list2[0]:\n",
        "        return [list1[0]] + merge_sorted_lists(list1[1:], list2)\n",
        "    else:\n",
        "        return [list2[0]] + merge_sorted_lists(list1, list2[1:])\n",
        "\n",
        "\n",
        "# Example usage\n",
        "list1 = [1, 3, 5, 7]\n",
        "list2 = [2, 4, 6, 8]\n",
        "merged_list = merge_sorted_lists(list1, list2)\n",
        "print(\"Merged list:\", merged_list)\n"
      ],
      "metadata": {
        "colab": {
          "base_uri": "https://localhost:8080/"
        },
        "id": "4QvywoEUXRKP",
        "outputId": "dc6c0c33-852c-4905-a930-e437343ecc75"
      },
      "execution_count": 54,
      "outputs": [
        {
          "output_type": "stream",
          "name": "stdout",
          "text": [
            "Merged list: [1, 2, 3, 4, 5, 6, 7, 8]\n"
          ]
        }
      ]
    },
    {
      "cell_type": "code",
      "source": [],
      "metadata": {
        "id": "GgeFO5Y2XRNA"
      },
      "execution_count": null,
      "outputs": []
    },
    {
      "cell_type": "code",
      "source": [],
      "metadata": {
        "id": "VYciTFOpXRQs"
      },
      "execution_count": null,
      "outputs": []
    }
  ]
}