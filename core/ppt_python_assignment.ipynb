{
  "nbformat": 4,
  "nbformat_minor": 0,
  "metadata": {
    "colab": {
      "provenance": [],
      "authorship_tag": "ABX9TyNb/abUY5JNbf5DsL3vMwYX",
      "include_colab_link": true
    },
    "kernelspec": {
      "name": "python3",
      "display_name": "Python 3"
    },
    "language_info": {
      "name": "python"
    }
  },
  "cells": [
    {
      "cell_type": "markdown",
      "metadata": {
        "id": "view-in-github",
        "colab_type": "text"
      },
      "source": [
        "<a href=\"https://colab.research.google.com/github/Pratik94229/DSA-Assignments/blob/main/core/ppt_python_assignment.ipynb\" target=\"_parent\"><img src=\"https://colab.research.google.com/assets/colab-badge.svg\" alt=\"Open In Colab\"/></a>"
      ]
    },
    {
      "cell_type": "markdown",
      "source": [
        "**1. Write a Python program to reverse a string without using any built-in string reversal functions.**"
      ],
      "metadata": {
        "id": "b6cXAATMWcDS"
      }
    },
    {
      "cell_type": "code",
      "source": [
        "def reverse_string(string):\n",
        "    reversed_string = ''\n",
        "    for i in range(len(string) ):\n",
        "        reversed_string += string[-1-i]\n",
        "    return reversed_string\n"
      ],
      "metadata": {
        "id": "tSmxGyb_JTHH"
      },
      "execution_count": 1,
      "outputs": []
    },
    {
      "cell_type": "code",
      "source": [
        "def reverse_string(string):\n",
        "    char_list = list(string)  # Convert the string to a list of characters\n",
        "    first = 0\n",
        "    last = len(char_list) - 1\n",
        "    while first < last:\n",
        "        char_list[last], char_list[first] = char_list[first], char_list[last]\n",
        "        first += 1\n",
        "        last -= 1\n",
        "    reversed_string = ''.join(char_list)  # Convert the list back to a string\n",
        "    return reversed_string\n"
      ],
      "metadata": {
        "id": "tpemRkTKLVKi"
      },
      "execution_count": 2,
      "outputs": []
    },
    {
      "cell_type": "code",
      "source": [
        "# Example usage\n",
        "original_string = \"Hello, World!\"\n",
        "reversed_string = reverse_string(original_string)\n",
        "print(reversed_string)  # Output: \"!dlroW ,olleH\""
      ],
      "metadata": {
        "colab": {
          "base_uri": "https://localhost:8080/"
        },
        "id": "W5c_Ovs5XJGK",
        "outputId": "0b3e5ff6-0b93-4323-c495-18e44d070b0c"
      },
      "execution_count": 3,
      "outputs": [
        {
          "output_type": "stream",
          "name": "stdout",
          "text": [
            "!dlroW ,olleH\n"
          ]
        }
      ]
    },
    {
      "cell_type": "markdown",
      "source": [
        "**2. Implement a function to check if a given string is a palindrome.**"
      ],
      "metadata": {
        "id": "LEn9xnY2ZlTm"
      }
    },
    {
      "cell_type": "code",
      "source": [
        "def if_palindrome(string):\n",
        "  first=0\n",
        "  last=len(string)-1\n",
        "  flag=1\n",
        "  while(first<last):\n",
        "    if(string[first]!=string[last]):\n",
        "      flag=0\n",
        "      return flag\n",
        "    else:\n",
        "      first+=1\n",
        "      last-=1\n",
        "\n",
        "  return flag\n"
      ],
      "metadata": {
        "id": "tqYYbUqtZo15"
      },
      "execution_count": 4,
      "outputs": []
    },
    {
      "cell_type": "code",
      "source": [
        "if_palindrome(\"naman\")"
      ],
      "metadata": {
        "colab": {
          "base_uri": "https://localhost:8080/"
        },
        "id": "WTEGMt7Tax06",
        "outputId": "13bb62da-98fc-481d-f44c-71fe7bc6e45c"
      },
      "execution_count": 5,
      "outputs": [
        {
          "output_type": "execute_result",
          "data": {
            "text/plain": [
              "1"
            ]
          },
          "metadata": {},
          "execution_count": 5
        }
      ]
    },
    {
      "cell_type": "code",
      "source": [
        "if_palindrome(\"pratik\")"
      ],
      "metadata": {
        "colab": {
          "base_uri": "https://localhost:8080/"
        },
        "id": "0LCfCZiVayAk",
        "outputId": "6c360462-a4f6-4b06-f358-30cb638edc3c"
      },
      "execution_count": 6,
      "outputs": [
        {
          "output_type": "execute_result",
          "data": {
            "text/plain": [
              "0"
            ]
          },
          "metadata": {},
          "execution_count": 6
        }
      ]
    },
    {
      "cell_type": "markdown",
      "source": [
        "**3. Write a program to find the largest element in a given list.**"
      ],
      "metadata": {
        "id": "VcVp-vuZbmDJ"
      }
    },
    {
      "cell_type": "code",
      "source": [
        "def find_largest_element(lst):\n",
        "    largest = lst[0]\n",
        "    for num in lst:\n",
        "        if num > largest:\n",
        "            largest = num\n",
        "    return largest\n"
      ],
      "metadata": {
        "id": "KYUbzFy1bZjW"
      },
      "execution_count": 7,
      "outputs": []
    },
    {
      "cell_type": "code",
      "source": [
        "numbers = [5, 9, 3, 7, 2]\n",
        "largest_number = find_largest_element(numbers)\n",
        "print(f\"The largest number in the list is: {largest_number}\")"
      ],
      "metadata": {
        "colab": {
          "base_uri": "https://localhost:8080/"
        },
        "id": "rNGa6YElbuDH",
        "outputId": "546bd446-f785-413a-c338-ed01f2bd0f85"
      },
      "execution_count": 8,
      "outputs": [
        {
          "output_type": "stream",
          "name": "stdout",
          "text": [
            "The largest number in the list is: 9\n"
          ]
        }
      ]
    },
    {
      "cell_type": "markdown",
      "source": [
        "**4. Implement a function to count the occurrence of each element in a list.**"
      ],
      "metadata": {
        "id": "VGKRukcGb2di"
      }
    },
    {
      "cell_type": "code",
      "source": [
        "def count_occurrences(lst):\n",
        "    counts = {}\n",
        "    for item in lst:\n",
        "        if item in counts:\n",
        "            counts[item] += 1\n",
        "        else:\n",
        "            counts[item] = 1\n",
        "    return counts\n"
      ],
      "metadata": {
        "id": "DN9CrkObb3xj"
      },
      "execution_count": 9,
      "outputs": []
    },
    {
      "cell_type": "code",
      "source": [
        "numbers = [1, 2, 3, 2, 1, 3, 4, 5, 2]\n",
        "occurrences = count_occurrences(numbers)\n",
        "print(occurrences)"
      ],
      "metadata": {
        "colab": {
          "base_uri": "https://localhost:8080/"
        },
        "id": "L4a3cnylb0el",
        "outputId": "3e74bc4b-84ca-4952-8011-cae3300b8f7b"
      },
      "execution_count": 10,
      "outputs": [
        {
          "output_type": "stream",
          "name": "stdout",
          "text": [
            "{1: 2, 2: 3, 3: 2, 4: 1, 5: 1}\n"
          ]
        }
      ]
    },
    {
      "cell_type": "markdown",
      "source": [
        "**5. Write a Python program to find the second largest number in a list.**"
      ],
      "metadata": {
        "id": "gZ0Vd5IZci-v"
      }
    },
    {
      "cell_type": "code",
      "source": [
        "def find_second_largest(lst):\n",
        "    largest = float('-inf')\n",
        "    second_largest = float('-inf')\n",
        "    for num in lst:\n",
        "        if num > largest:\n",
        "            second_largest = largest\n",
        "            largest = num\n",
        "        elif num > second_largest and num != largest:\n",
        "            second_largest = num\n",
        "    return second_largest\n"
      ],
      "metadata": {
        "id": "1rlFN8s3c9wi"
      },
      "execution_count": 11,
      "outputs": []
    },
    {
      "cell_type": "code",
      "source": [
        "# Example usage\n",
        "numbers = [5, 9, 3, 7, 2]\n",
        "second_largest_number = find_second_largest(numbers)\n",
        "print(f\"The second largest number in the list is: {second_largest_number}\")  # Output: 7"
      ],
      "metadata": {
        "colab": {
          "base_uri": "https://localhost:8080/"
        },
        "id": "C767c9fkd20P",
        "outputId": "ef3896ce-9776-4865-d3c5-062019675a56"
      },
      "execution_count": 12,
      "outputs": [
        {
          "output_type": "stream",
          "name": "stdout",
          "text": [
            "The second largest number in the list is: 7\n"
          ]
        }
      ]
    },
    {
      "cell_type": "markdown",
      "source": [
        "**6. Implement a function to remove duplicate elements from a list.**"
      ],
      "metadata": {
        "id": "dgk8m46Oep_k"
      }
    },
    {
      "cell_type": "code",
      "source": [
        "def remove_duplicates(lst):\n",
        "    return list(set(lst))\n",
        "\n"
      ],
      "metadata": {
        "id": "p8tCbwuUeqZZ"
      },
      "execution_count": 13,
      "outputs": []
    },
    {
      "cell_type": "code",
      "source": [
        "# Example usage\n",
        "numbers = [1, 2, 3, 2, 4, 5, 1, 3]\n",
        "unique_numbers = remove_duplicates(numbers)\n",
        "print(unique_numbers)"
      ],
      "metadata": {
        "colab": {
          "base_uri": "https://localhost:8080/"
        },
        "id": "ItKFlRNqe7sL",
        "outputId": "206d39cb-a565-41f8-dcef-b0f2cc126985"
      },
      "execution_count": 14,
      "outputs": [
        {
          "output_type": "stream",
          "name": "stdout",
          "text": [
            "[1, 2, 3, 4, 5]\n"
          ]
        }
      ]
    },
    {
      "cell_type": "markdown",
      "source": [
        "**7. Write a program to calculate the factorial of a given number.**"
      ],
      "metadata": {
        "id": "1pJi9OZUfCji"
      }
    },
    {
      "cell_type": "code",
      "source": [
        "def factorial(n):\n",
        "  if n==1:\n",
        "    return 1\n",
        "  else:\n",
        "    return n*factorial(n-1)"
      ],
      "metadata": {
        "id": "isN6SZs5fBRf"
      },
      "execution_count": 15,
      "outputs": []
    },
    {
      "cell_type": "code",
      "source": [
        "factorial(5)"
      ],
      "metadata": {
        "colab": {
          "base_uri": "https://localhost:8080/"
        },
        "id": "lG_kpKGmfB1b",
        "outputId": "7caddc2f-fd90-44ec-9375-055bc469cb50"
      },
      "execution_count": 16,
      "outputs": [
        {
          "output_type": "execute_result",
          "data": {
            "text/plain": [
              "120"
            ]
          },
          "metadata": {},
          "execution_count": 16
        }
      ]
    },
    {
      "cell_type": "markdown",
      "source": [
        "**8. Implement a function to check if a given number is prime.**"
      ],
      "metadata": {
        "id": "9JZVeju4fpNC"
      }
    },
    {
      "cell_type": "code",
      "source": [
        "def is_prime(n):\n",
        "    if n <= 1:\n",
        "        return False\n",
        "    for i in range(2, int(n**0.5) + 1):\n",
        "        if n % i == 0:\n",
        "            return False\n",
        "    return True\n"
      ],
      "metadata": {
        "id": "Ydh9rIsOfB4T"
      },
      "execution_count": 17,
      "outputs": []
    },
    {
      "cell_type": "code",
      "source": [
        "# Example usage\n",
        "number = 17\n",
        "if is_prime(number):\n",
        "    print(f\"{number} is a prime number.\")\n",
        "else:\n",
        "    print(f\"{number} is not a prime number.\")\n"
      ],
      "metadata": {
        "colab": {
          "base_uri": "https://localhost:8080/"
        },
        "id": "_E-k3HJYfB7K",
        "outputId": "56381169-570e-46c6-e328-7e4468189168"
      },
      "execution_count": 18,
      "outputs": [
        {
          "output_type": "stream",
          "name": "stdout",
          "text": [
            "17 is a prime number.\n"
          ]
        }
      ]
    },
    {
      "cell_type": "markdown",
      "source": [
        "**9. Write a Python program to sort a list of integers in ascending order.**"
      ],
      "metadata": {
        "id": "dJKvNV-4gAVn"
      }
    },
    {
      "cell_type": "code",
      "source": [
        "def sort_list(lst):\n",
        "    if len(lst) <= 1:\n",
        "        return lst\n",
        "    else:\n",
        "        pivot = lst[0]\n",
        "        less_than_pivot = []\n",
        "        greater_than_pivot = []\n",
        "        for x in lst[1:]:\n",
        "            if x <= pivot:\n",
        "                less_than_pivot.append(x)\n",
        "            else:\n",
        "                greater_than_pivot.append(x)\n",
        "        return sort_list(less_than_pivot) + [pivot] + sort_list(greater_than_pivot)\n"
      ],
      "metadata": {
        "id": "FjsMYgcof-4T"
      },
      "execution_count": 19,
      "outputs": []
    },
    {
      "cell_type": "code",
      "source": [
        "# Example usage\n",
        "numbers = [5, 2, 8, 1, 7]\n",
        "sorted_numbers = sort_list(numbers)\n",
        "print(sorted_numbers)"
      ],
      "metadata": {
        "colab": {
          "base_uri": "https://localhost:8080/"
        },
        "id": "nIIq7tXffB-t",
        "outputId": "30b7f3a6-3477-45ba-f1df-b99ed7ce9b33"
      },
      "execution_count": 20,
      "outputs": [
        {
          "output_type": "stream",
          "name": "stdout",
          "text": [
            "[1, 2, 5, 7, 8]\n"
          ]
        }
      ]
    },
    {
      "cell_type": "markdown",
      "source": [
        "**10. Implement a function to find the sum of all numbers in a list.**"
      ],
      "metadata": {
        "id": "cYfxns1phSX_"
      }
    },
    {
      "cell_type": "code",
      "source": [
        "def sum_no(list):\n",
        "  sum=0\n",
        "  for i in list:\n",
        "    sum=sum+i\n",
        "  return sum"
      ],
      "metadata": {
        "id": "A7ioQUfhhg6v"
      },
      "execution_count": 21,
      "outputs": []
    },
    {
      "cell_type": "code",
      "source": [
        "# Example usage\n",
        "numbers = [5, 2, 8, 1, 7]\n",
        "sum = sum_no(numbers)\n",
        "print(sum)"
      ],
      "metadata": {
        "colab": {
          "base_uri": "https://localhost:8080/"
        },
        "id": "nZMn8aaUhVZu",
        "outputId": "1a249a84-235f-40ef-aa79-04baa16cc8d7"
      },
      "execution_count": 22,
      "outputs": [
        {
          "output_type": "stream",
          "name": "stdout",
          "text": [
            "23\n"
          ]
        }
      ]
    },
    {
      "cell_type": "markdown",
      "source": [
        "**11. Write a program to find the common elements between two lists.**"
      ],
      "metadata": {
        "id": "2PGNAyOqhxJA"
      }
    },
    {
      "cell_type": "code",
      "source": [
        "def find_common_elements(list1, list2):\n",
        "    return list(set(list1) & set(list2))\n"
      ],
      "metadata": {
        "id": "24WAiBl6h3cH"
      },
      "execution_count": 23,
      "outputs": []
    },
    {
      "cell_type": "code",
      "source": [
        "list1 = [1, 2, 3, 4, 5]\n",
        "list2 = [4, 5, 6, 7, 8]\n",
        "common_elements = find_common_elements(list1, list2)\n",
        "print(common_elements)"
      ],
      "metadata": {
        "colab": {
          "base_uri": "https://localhost:8080/"
        },
        "id": "5Bc0Mz_ViW3J",
        "outputId": "fe4a797f-d468-4ac3-884d-5d8b08fb43d8"
      },
      "execution_count": 24,
      "outputs": [
        {
          "output_type": "stream",
          "name": "stdout",
          "text": [
            "[4, 5]\n"
          ]
        }
      ]
    },
    {
      "cell_type": "markdown",
      "source": [
        "**12. Implement a function to check if a given string is an anagram of another string.**"
      ],
      "metadata": {
        "id": "SRCdoDuW0-dB"
      }
    },
    {
      "cell_type": "code",
      "source": [
        "def is_anagram(string1, string2):\n",
        "    # Remove spaces and convert both strings to lowercase\n",
        "    string1 = string1.replace(\" \", \"\").lower()\n",
        "    string2 = string2.replace(\" \", \"\").lower()\n",
        "\n",
        "    # Check if the lengths of the strings are equal\n",
        "    if len(string1) != len(string2):\n",
        "        return False\n",
        "\n",
        "    # Create dictionaries to count the characters in each string\n",
        "    char_count1 = {}\n",
        "    char_count2 = {}\n",
        "\n",
        "    # Count the characters in string1\n",
        "    for char in string1:\n",
        "        if char in char_count1:\n",
        "            char_count1[char] += 1\n",
        "        else:\n",
        "            char_count1[char] = 1\n",
        "\n",
        "    # Count the characters in string2\n",
        "    for char in string2:\n",
        "        if char in char_count2:\n",
        "            char_count2[char] += 1\n",
        "        else:\n",
        "            char_count2[char] = 1\n",
        "\n",
        "    # Compare the character counts\n",
        "    return char_count1 == char_count2\n"
      ],
      "metadata": {
        "id": "SN_uQnCj1F7m"
      },
      "execution_count": 25,
      "outputs": []
    },
    {
      "cell_type": "code",
      "source": [
        "string1 = \"listen\"\n",
        "string2 = \"silent\"\n",
        "print(is_anagram(string1, string2))  # Output: True\n",
        "\n",
        "string3 = \"hello\"\n",
        "string4 = \"world\"\n",
        "print(is_anagram(string3, string4))  # Output: False\n"
      ],
      "metadata": {
        "colab": {
          "base_uri": "https://localhost:8080/"
        },
        "id": "qUeknBYe1GAt",
        "outputId": "c1fc8d01-fe22-47cd-9b02-02f20132c231"
      },
      "execution_count": 26,
      "outputs": [
        {
          "output_type": "stream",
          "name": "stdout",
          "text": [
            "True\n",
            "False\n"
          ]
        }
      ]
    },
    {
      "cell_type": "markdown",
      "source": [
        "**13. Write a Python program to generate all permutations of a given string.**"
      ],
      "metadata": {
        "id": "F1Xlm403FHxY"
      }
    },
    {
      "cell_type": "code",
      "source": [
        "def generate_permutations(string):\n",
        "    # Base case: If the string has only one character, return it as a single-element list\n",
        "    if len(string) == 1:\n",
        "        return [string]\n",
        "\n",
        "    # Recursive case: Generate permutations for each character in the string\n",
        "    permutations = []\n",
        "    for i in range(len(string)):\n",
        "        # Extract the current character\n",
        "        current_char = string[i]\n",
        "\n",
        "        # Generate permutations for the remaining characters\n",
        "        remaining_chars = string[:i] + string[i+1:]\n",
        "        remaining_permutations = generate_permutations(remaining_chars)\n",
        "\n",
        "        # Append the current character to each permutation of the remaining characters\n",
        "        for permutation in remaining_permutations:\n",
        "            permutations.append(current_char + permutation)\n",
        "\n",
        "    return permutations\n",
        "\n",
        "# Example usage\n",
        "string = \"abc\"\n",
        "permutations = generate_permutations(string)\n",
        "print(permutations)\n"
      ],
      "metadata": {
        "id": "88_vewWO1GEQ",
        "colab": {
          "base_uri": "https://localhost:8080/"
        },
        "outputId": "5f3db889-5d1c-478f-fee0-daa363e85fc5"
      },
      "execution_count": 27,
      "outputs": [
        {
          "output_type": "stream",
          "name": "stdout",
          "text": [
            "['abc', 'acb', 'bac', 'bca', 'cab', 'cba']\n"
          ]
        }
      ]
    },
    {
      "cell_type": "code",
      "source": [
        "import itertools\n",
        "\n",
        "def get_permutations(string):\n",
        "    permutations = list(itertools.permutations(string))\n",
        "    return [''.join(permutation) for permutation in permutations]\n",
        "\n",
        "# Example usage\n",
        "string = \"abc\"\n",
        "permutations = get_permutations(string)\n",
        "print(permutations)\n"
      ],
      "metadata": {
        "id": "jeWKbs191GH4",
        "colab": {
          "base_uri": "https://localhost:8080/"
        },
        "outputId": "504798c8-0e69-4216-eaf1-eab359e91835"
      },
      "execution_count": 28,
      "outputs": [
        {
          "output_type": "stream",
          "name": "stdout",
          "text": [
            "['abc', 'acb', 'bac', 'bca', 'cab', 'cba']\n"
          ]
        }
      ]
    },
    {
      "cell_type": "markdown",
      "source": [
        "**14. Implement a function to calculate the Fibonacci sequence up to a given number of terms.**"
      ],
      "metadata": {
        "id": "76a21VBwRHze"
      }
    },
    {
      "cell_type": "code",
      "source": [
        "def fibonacci_sequence(n):\n",
        "    sequence = [0, 1]\n",
        "    while len(sequence) < n:\n",
        "        next_number = sequence[-1] + sequence[-2]\n",
        "        sequence.append(next_number)\n",
        "    return sequence\n",
        "\n",
        "# Example usage\n",
        "n = 10\n",
        "fib_sequence = fibonacci_sequence(n)\n",
        "print(fib_sequence)\n"
      ],
      "metadata": {
        "id": "xx9jwAL71GLR",
        "colab": {
          "base_uri": "https://localhost:8080/"
        },
        "outputId": "deab4372-ce37-48b4-c013-125f1d4ac525"
      },
      "execution_count": 29,
      "outputs": [
        {
          "output_type": "stream",
          "name": "stdout",
          "text": [
            "[0, 1, 1, 2, 3, 5, 8, 13, 21, 34]\n"
          ]
        }
      ]
    },
    {
      "cell_type": "markdown",
      "source": [
        "**15. Write a program to find the median of a list of numbers.**"
      ],
      "metadata": {
        "id": "yVo7ICW0RfiQ"
      }
    },
    {
      "cell_type": "code",
      "source": [
        "def find_median(numbers):\n",
        "    sorted_numbers = sorted(numbers)\n",
        "    n = len(sorted_numbers)\n",
        "    if n % 2 == 0:\n",
        "        median = (sorted_numbers[n // 2 - 1] + sorted_numbers[n // 2]) / 2\n",
        "    else:\n",
        "        median = sorted_numbers[n // 2]\n",
        "    return median\n",
        "\n",
        "# Example usage\n",
        "numbers = [1, 3, 5, 2, 4]\n",
        "median = find_median(numbers)\n",
        "print(median)\n"
      ],
      "metadata": {
        "id": "Lk9tZwW31GOr",
        "colab": {
          "base_uri": "https://localhost:8080/"
        },
        "outputId": "c3329d94-14dc-49e4-9610-a32badf2fdec"
      },
      "execution_count": 30,
      "outputs": [
        {
          "output_type": "stream",
          "name": "stdout",
          "text": [
            "3\n"
          ]
        }
      ]
    },
    {
      "cell_type": "markdown",
      "source": [
        "**16. Implement a function to check if a given list is sorted in non-decreasing order.**"
      ],
      "metadata": {
        "id": "ikB4JXHLRrNv"
      }
    },
    {
      "cell_type": "code",
      "source": [
        "def is_sorted(numbers):\n",
        "    return all(numbers[i] <= numbers[i+1] for i in range(len(numbers) - 1))\n",
        "\n",
        "# Example usage\n",
        "numbers = [1, 2, 3, 4, 5]\n",
        "print(is_sorted(numbers))  # Output: True\n",
        "\n",
        "numbers = [1, 3, 2, 4, 5]\n",
        "print(is_sorted(numbers))  # Output: False\n"
      ],
      "metadata": {
        "id": "_HTHfrO61GRz",
        "colab": {
          "base_uri": "https://localhost:8080/"
        },
        "outputId": "9d92871f-d802-4d7f-9ee3-2b973a6aa505"
      },
      "execution_count": 31,
      "outputs": [
        {
          "output_type": "stream",
          "name": "stdout",
          "text": [
            "True\n",
            "False\n"
          ]
        }
      ]
    },
    {
      "cell_type": "markdown",
      "source": [
        "**17. Write a Python program to find the intersection of two lists.**"
      ],
      "metadata": {
        "id": "MyZlUQr8R_kP"
      }
    },
    {
      "cell_type": "code",
      "source": [
        "def find_intersection(list1, list2):\n",
        "    intersection = list(set(list1) & set(list2))\n",
        "    return intersection\n",
        "\n",
        "# Example usage\n",
        "list1 = [1, 2, 3, 4]\n",
        "list2 = [3, 4, 5, 6]\n",
        "intersection = find_intersection(list1, list2)\n",
        "print(intersection)\n"
      ],
      "metadata": {
        "id": "EHlByS2b1GU_",
        "colab": {
          "base_uri": "https://localhost:8080/"
        },
        "outputId": "2c7bb49c-2333-4a41-acab-4ea8bf1fa7aa"
      },
      "execution_count": 32,
      "outputs": [
        {
          "output_type": "stream",
          "name": "stdout",
          "text": [
            "[3, 4]\n"
          ]
        }
      ]
    },
    {
      "cell_type": "markdown",
      "source": [
        "**18. Implement a function to find the maximum subarray sum in a given list.**"
      ],
      "metadata": {
        "id": "9TgpCh7YSN0k"
      }
    },
    {
      "cell_type": "code",
      "source": [
        "def find_max_subarray_sum(numbers):\n",
        "    max_sum = float('-inf')\n",
        "    current_sum = 0\n",
        "\n",
        "    for num in numbers:\n",
        "        current_sum += num\n",
        "        if current_sum > max_sum:\n",
        "            max_sum = current_sum\n",
        "        if current_sum < 0:\n",
        "            current_sum = 0\n",
        "\n",
        "    return max_sum\n",
        "\n",
        "# Example usage\n",
        "numbers = [-2, 1, -3, 4, -1, 2, 1, -5, 4]\n",
        "max_sum = find_max_subarray_sum(numbers)\n",
        "print(max_sum)\n"
      ],
      "metadata": {
        "id": "Ekgs-mMR1GYd",
        "colab": {
          "base_uri": "https://localhost:8080/"
        },
        "outputId": "54d33b1a-58f8-41fc-eaec-e923c9c628db"
      },
      "execution_count": 33,
      "outputs": [
        {
          "output_type": "stream",
          "name": "stdout",
          "text": [
            "6\n"
          ]
        }
      ]
    },
    {
      "cell_type": "markdown",
      "source": [
        "**19. Write a program to remove all vowels from a given string.**"
      ],
      "metadata": {
        "id": "SDUOvUSZXL1C"
      }
    },
    {
      "cell_type": "code",
      "source": [
        "def remove_vowels(string):\n",
        "    vowels = ['a', 'e', 'i', 'o', 'u']\n",
        "    new_string=''\n",
        "    for char in string:\n",
        "      if (char.lower() not in vowels):\n",
        "\n",
        "        new_string=new_string+char\n",
        "\n",
        "    return new_string\n",
        "\n",
        "\n",
        "# Example usage\n",
        "string = \"Hello, World!\"\n",
        "new_string = remove_vowels(string)\n",
        "print(new_string)\n"
      ],
      "metadata": {
        "colab": {
          "base_uri": "https://localhost:8080/"
        },
        "id": "PA-qUc-zXQ4M",
        "outputId": "9de95cde-eaf6-4395-ff2e-3d3743177184"
      },
      "execution_count": 34,
      "outputs": [
        {
          "output_type": "stream",
          "name": "stdout",
          "text": [
            "Hll, Wrld!\n"
          ]
        }
      ]
    },
    {
      "cell_type": "markdown",
      "source": [
        "**20. Implement a function to reverse the order of words in a given sentence.**"
      ],
      "metadata": {
        "id": "cwhaqRasam2z"
      }
    },
    {
      "cell_type": "code",
      "source": [
        "def reverse_words(sentence):\n",
        "    words = sentence.split()\n",
        "    reversed_words = ' '.join(reversed(words))\n",
        "    return reversed_words\n",
        "\n",
        "# Example usage\n",
        "sentence = \"Hello, world! How are you?\"\n",
        "reversed_sentence = reverse_words(sentence)\n",
        "print(reversed_sentence)\n"
      ],
      "metadata": {
        "colab": {
          "base_uri": "https://localhost:8080/"
        },
        "id": "cIZKXKePXQ7R",
        "outputId": "059cc98b-2a2a-4d8f-c754-8f0a46194626"
      },
      "execution_count": 35,
      "outputs": [
        {
          "output_type": "stream",
          "name": "stdout",
          "text": [
            "you? are How world! Hello,\n"
          ]
        }
      ]
    },
    {
      "cell_type": "markdown",
      "source": [
        "**21. Write a Python program to check if two strings are anagrams of each other.**"
      ],
      "metadata": {
        "id": "dVSI3Rzmblmn"
      }
    },
    {
      "cell_type": "code",
      "source": [
        "def are_anagrams(string1, string2):\n",
        "    # Convert both strings to lowercase and remove whitespace\n",
        "    string1 = string1.lower().replace(\" \", \"\")\n",
        "    string2 = string2.lower().replace(\" \", \"\")\n",
        "\n",
        "    # Check if the lengths of the strings are equal\n",
        "    if len(string1) != len(string2):\n",
        "        return False\n",
        "\n",
        "    # Create dictionaries to count the occurrences of each character in both strings\n",
        "    count1 = {}\n",
        "    count2 = {}\n",
        "\n",
        "    # Count the occurrences of each character in string1\n",
        "    for char in string1:\n",
        "        count1[char] = count1.get(char, 0) + 1\n",
        "\n",
        "    # Count the occurrences of each character in string2\n",
        "    for char in string2:\n",
        "        count2[char] = count2.get(char, 0) + 1\n",
        "\n",
        "    # Check if the dictionaries are equal\n",
        "    if count1 == count2:\n",
        "        return True\n",
        "    else:\n",
        "        return False\n",
        "\n",
        "# Example usage\n",
        "string1 = \"listen\"\n",
        "string2 = \"silent\"\n",
        "if are_anagrams(string1, string2):\n",
        "    print(f\"{string1} and {string2} are anagrams.\")\n",
        "else:\n",
        "    print(f\"{string1} and {string2} are not anagrams.\")\n"
      ],
      "metadata": {
        "colab": {
          "base_uri": "https://localhost:8080/"
        },
        "id": "LCKjdrsbXQ-Y",
        "outputId": "c9a53b91-b81f-4e06-ea2a-befe088061d4"
      },
      "execution_count": 36,
      "outputs": [
        {
          "output_type": "stream",
          "name": "stdout",
          "text": [
            "listen and silent are anagrams.\n"
          ]
        }
      ]
    },
    {
      "cell_type": "markdown",
      "source": [
        "**22. Implement a function to find the first non-repeating character in a string.**"
      ],
      "metadata": {
        "id": "ZHOb8e_Ob17u"
      }
    },
    {
      "cell_type": "code",
      "source": [
        "def find_first_non_repeating_char(string):\n",
        "    char_count = {}\n",
        "\n",
        "    # Count the occurrences of each character in the string\n",
        "    for char in string:\n",
        "        char_count[char] = char_count.get(char, 0) + 1\n",
        "\n",
        "    # Find the first character with a count of 1\n",
        "    for char in string:\n",
        "        if char_count[char] == 1:\n",
        "            return char\n",
        "\n",
        "    # If no non-repeating character is found, return None\n",
        "    return None\n",
        "\n",
        "# Example usage\n",
        "string = \"abracadabra\"\n",
        "first_non_repeating_char = find_first_non_repeating_char(string)\n",
        "print(\"First non-repeating character:\", first_non_repeating_char)\n"
      ],
      "metadata": {
        "colab": {
          "base_uri": "https://localhost:8080/"
        },
        "id": "cVrsczj1XRBX",
        "outputId": "70108d3e-1826-4bf1-d92b-9a678db4e33a"
      },
      "execution_count": 37,
      "outputs": [
        {
          "output_type": "stream",
          "name": "stdout",
          "text": [
            "First non-repeating character: c\n"
          ]
        }
      ]
    },
    {
      "cell_type": "markdown",
      "source": [
        "**23. Write a program to find the prime factors of a given number.**"
      ],
      "metadata": {
        "id": "Y3uCjj6WdBQR"
      }
    },
    {
      "cell_type": "code",
      "source": [
        "def find_prime_factors(n):\n",
        "    prime_factors = []\n",
        "    i = 2\n",
        "    while i * i <= n:\n",
        "        if n % i:\n",
        "            i += 1\n",
        "        else:\n",
        "            n =n // i\n",
        "            prime_factors.append(i)\n",
        "    if n > 1:\n",
        "        prime_factors.append(n)\n",
        "    return prime_factors\n",
        "\n",
        "# Example usage\n",
        "number = 84\n",
        "factors = find_prime_factors(number)\n",
        "print(\"Prime factors of\", number, \"are:\", factors)"
      ],
      "metadata": {
        "colab": {
          "base_uri": "https://localhost:8080/"
        },
        "id": "saGu7LdrXREi",
        "outputId": "a196446f-548b-4bab-a6ab-73c90b3176fb"
      },
      "execution_count": 38,
      "outputs": [
        {
          "output_type": "stream",
          "name": "stdout",
          "text": [
            "Prime factors of 84 are: [2, 2, 3, 7]\n"
          ]
        }
      ]
    },
    {
      "cell_type": "markdown",
      "source": [
        "**24. Implement a function to check if a given number is a power of two.**"
      ],
      "metadata": {
        "id": "ZXFeKw5DgYMN"
      }
    },
    {
      "cell_type": "code",
      "source": [
        "def is_power_of_two(n):\n",
        "    if n <= 0:\n",
        "        return False\n",
        "    return n & (n - 1) == 0\n",
        "\n",
        "# Example usage\n",
        "number = 16\n",
        "if is_power_of_two(number):\n",
        "    print(number, \"is a power of two\")\n",
        "else:\n",
        "    print(number, \"is not a power of two\")\n"
      ],
      "metadata": {
        "colab": {
          "base_uri": "https://localhost:8080/"
        },
        "id": "5WBe0wCRXRHa",
        "outputId": "1e484cd2-9a34-49d3-fb3b-04355f6515e6"
      },
      "execution_count": 39,
      "outputs": [
        {
          "output_type": "stream",
          "name": "stdout",
          "text": [
            "16 is a power of two\n"
          ]
        }
      ]
    },
    {
      "cell_type": "markdown",
      "source": [
        "**25. Write a Python program to merge two sorted lists into a single sorted list.**"
      ],
      "metadata": {
        "id": "mSLPV2XihZuz"
      }
    },
    {
      "cell_type": "code",
      "source": [
        "def merge_sorted_lists(list1, list2):\n",
        "    if not list1:\n",
        "        return list2\n",
        "    if not list2:\n",
        "        return list1\n",
        "\n",
        "    if list1[0] < list2[0]:\n",
        "        return [list1[0]] + merge_sorted_lists(list1[1:], list2)\n",
        "    else:\n",
        "        return [list2[0]] + merge_sorted_lists(list1, list2[1:])\n",
        "\n",
        "\n",
        "# Example usage\n",
        "list1 = [1, 3, 5, 7]\n",
        "list2 = [2, 4, 6, 8]\n",
        "merged_list = merge_sorted_lists(list1, list2)\n",
        "print(\"Merged list:\", merged_list)\n"
      ],
      "metadata": {
        "colab": {
          "base_uri": "https://localhost:8080/"
        },
        "id": "4QvywoEUXRKP",
        "outputId": "af7585ee-0541-4585-99a8-3dd23d3ed2c6"
      },
      "execution_count": 40,
      "outputs": [
        {
          "output_type": "stream",
          "name": "stdout",
          "text": [
            "Merged list: [1, 2, 3, 4, 5, 6, 7, 8]\n"
          ]
        }
      ]
    },
    {
      "cell_type": "markdown",
      "source": [
        "**26. Implement a function to find the mode of a list of numbers.**"
      ],
      "metadata": {
        "id": "bERad9jplOvh"
      }
    },
    {
      "cell_type": "code",
      "source": [
        "from collections import Counter\n",
        "\n",
        "def find_mode(numbers):\n",
        "  unique=set(numbers)\n",
        "  dict={}\n",
        "  for num in numbers:\n",
        "    if num in dict:\n",
        "      dict[num]=dict[num]+1\n",
        "      pass\n",
        "    else:\n",
        "      dict[num]=1\n",
        "  return max(dict, key=dict.get)\n",
        "\n",
        "\n"
      ],
      "metadata": {
        "id": "GgeFO5Y2XRNA"
      },
      "execution_count": 41,
      "outputs": []
    },
    {
      "cell_type": "code",
      "source": [
        "# Example usage\n",
        "numbers = [1, 2, 3, 2, 1, 3, 3, 4, 4,4,4]\n",
        "mode = find_mode(numbers)\n",
        "print(\"Mode:\", mode)"
      ],
      "metadata": {
        "colab": {
          "base_uri": "https://localhost:8080/"
        },
        "id": "pksOzbeQlcHA",
        "outputId": "82cd1780-c65d-4191-99df-c02aa427cdcf"
      },
      "execution_count": 42,
      "outputs": [
        {
          "output_type": "stream",
          "name": "stdout",
          "text": [
            "Mode: 4\n"
          ]
        }
      ]
    },
    {
      "cell_type": "markdown",
      "source": [
        "**27. Write a program to find the greatest common divisor (GCD) of two numbers.**"
      ],
      "metadata": {
        "id": "15Rx9o4TnBm0"
      }
    },
    {
      "cell_type": "code",
      "source": [
        "def find_gcd(a, b):\n",
        "    while b != 0:\n",
        "        a, b = b, a % b\n",
        "    return a\n",
        "\n",
        "# Example usage\n",
        "number1 = 24\n",
        "number2 = 36\n",
        "gcd = find_gcd(number1, number2)\n",
        "print(\"GCD of\", number1, \"and\", number2, \"is:\", gcd)\n"
      ],
      "metadata": {
        "colab": {
          "base_uri": "https://localhost:8080/"
        },
        "id": "VYciTFOpXRQs",
        "outputId": "05d731a8-2d9c-4424-bb68-91f3e42c9c60"
      },
      "execution_count": 43,
      "outputs": [
        {
          "output_type": "stream",
          "name": "stdout",
          "text": [
            "GCD of 24 and 36 is: 12\n"
          ]
        }
      ]
    },
    {
      "cell_type": "markdown",
      "source": [
        "**28. Implement a function to calculate the square root of a given number.**"
      ],
      "metadata": {
        "id": "Ym-CJfdfqh6u"
      }
    },
    {
      "cell_type": "code",
      "source": [
        "def calculate_square_root(number, precision=0.00001):\n",
        "    if number < 0:\n",
        "        raise ValueError(\"Cannot calculate square root of a negative number\")\n",
        "\n",
        "    # Base cases for 0 and 1\n",
        "    if number == 0 or number == 1:\n",
        "        return number\n",
        "\n",
        "    # Binary search for the square root\n",
        "    start = 0\n",
        "    end = number\n",
        "\n",
        "    while start <= end:\n",
        "        mid = (start + end) / 2\n",
        "        square = mid * mid\n",
        "\n",
        "        # Check if the current value is close enough to the square root\n",
        "        if abs(square - number) < precision:\n",
        "            return mid\n",
        "\n",
        "        if square < number:\n",
        "            start = mid + precision\n",
        "        else:\n",
        "            end = mid - precision\n",
        "\n",
        "    # Return the best approximation found\n",
        "    return round((start + end) / 2)\n"
      ],
      "metadata": {
        "id": "nsbC02D5qlxT"
      },
      "execution_count": 44,
      "outputs": []
    },
    {
      "cell_type": "code",
      "source": [
        "# Example usage\n",
        "number = 25\n",
        "square_root = calculate_square_root(number)\n",
        "print(\"Square root of\", number, \"is:\", square_root)"
      ],
      "metadata": {
        "colab": {
          "base_uri": "https://localhost:8080/"
        },
        "id": "jpTnst72sel2",
        "outputId": "f4a9793e-41fb-433e-ffa6-61ef06c18eb2"
      },
      "execution_count": 45,
      "outputs": [
        {
          "output_type": "stream",
          "name": "stdout",
          "text": [
            "Square root of 25 is: 5\n"
          ]
        }
      ]
    },
    {
      "cell_type": "markdown",
      "source": [
        "**29. Write a Python program to check if a given string is a valid palindrome ignoring non-alphanumeric characters.**"
      ],
      "metadata": {
        "id": "sP_jzev8HPiZ"
      }
    },
    {
      "cell_type": "code",
      "source": [
        "import re\n",
        "\n",
        "def is_valid_palindrome(string):\n",
        "    # Remove non-alphanumeric characters and convert to lowercase\n",
        "    cleaned_string = re.sub('[^a-zA-Z0-9]', '', string.lower())\n",
        "    return cleaned_string == cleaned_string[::-1]\n",
        "\n",
        "# Example usage\n",
        "string = \"A man, a plan, a canal: Panama\"\n",
        "if is_valid_palindrome(string):\n",
        "    print(\"The string is a valid palindrome\")\n",
        "else:\n",
        "    print(\"The string is not a valid palindrome\")\n"
      ],
      "metadata": {
        "colab": {
          "base_uri": "https://localhost:8080/"
        },
        "id": "VInyfm6pHVj3",
        "outputId": "fe3849ff-30d6-4c3f-a580-ea30db4b0812"
      },
      "execution_count": 46,
      "outputs": [
        {
          "output_type": "stream",
          "name": "stdout",
          "text": [
            "The string is a valid palindrome\n"
          ]
        }
      ]
    },
    {
      "cell_type": "markdown",
      "source": [
        "**30. Implement a function to find the minimum element in a rotated sorted list.**"
      ],
      "metadata": {
        "id": "JLFhN6o2H7gx"
      }
    },
    {
      "cell_type": "code",
      "source": [
        "def find_minimum(nums):\n",
        "    left = 0\n",
        "    right = len(nums) - 1\n",
        "\n",
        "    while left < right:\n",
        "        mid = left + (right - left) // 2\n",
        "\n",
        "        # If the middle element is greater than the right element,\n",
        "        # the minimum element lies to the right of the middle.\n",
        "        if nums[mid] > nums[right]:\n",
        "            left = mid + 1\n",
        "        else:\n",
        "            right = mid\n",
        "\n",
        "    # At this point, left and right will point to the minimum element.\n",
        "    # Return the value at either index.\n",
        "    return nums[left]\n"
      ],
      "metadata": {
        "id": "N615_1aVHVnV"
      },
      "execution_count": 47,
      "outputs": []
    },
    {
      "cell_type": "markdown",
      "source": [
        "**31. Write a program to find the sum of all even numbers in a list.**"
      ],
      "metadata": {
        "id": "anCl6kcCLyW2"
      }
    },
    {
      "cell_type": "code",
      "source": [
        "def sum_of_even_numbers(lst):\n",
        "    sum_even = 0\n",
        "    for num in lst:\n",
        "        if num % 2 == 0:\n",
        "            sum_even += num\n",
        "    return sum_even\n",
        "\n",
        "# Example usage\n",
        "numbers = [1, 2, 3, 4, 5, 6]\n",
        "result = sum_of_even_numbers(numbers)\n",
        "print(\"Sum of even numbers:\", result)\n"
      ],
      "metadata": {
        "colab": {
          "base_uri": "https://localhost:8080/"
        },
        "id": "XCCFPQVVHVqp",
        "outputId": "f550c998-9e13-44dd-d1e4-1985dd60b168"
      },
      "execution_count": 48,
      "outputs": [
        {
          "output_type": "stream",
          "name": "stdout",
          "text": [
            "Sum of even numbers: 12\n"
          ]
        }
      ]
    },
    {
      "cell_type": "markdown",
      "source": [
        "**32. Implement a function to calculate the power of a number using recursion.**"
      ],
      "metadata": {
        "id": "Saa3eL-EL7ut"
      }
    },
    {
      "cell_type": "code",
      "source": [
        "def power(base, exponent):\n",
        "    if exponent == 0:\n",
        "        return 1\n",
        "    elif exponent < 0:\n",
        "        return 1 / power(base, -exponent)\n",
        "    else:\n",
        "        return base * power(base, exponent - 1)\n",
        "\n",
        "# Example usage\n",
        "base = 2\n",
        "exponent = 3\n",
        "result = power(base, exponent)\n",
        "print(\"Result:\", result)\n"
      ],
      "metadata": {
        "colab": {
          "base_uri": "https://localhost:8080/"
        },
        "id": "G7xQsGUSHVuA",
        "outputId": "d5901a15-5c17-4fba-a155-eaf8ff9edb2a"
      },
      "execution_count": 49,
      "outputs": [
        {
          "output_type": "stream",
          "name": "stdout",
          "text": [
            "Result: 8\n"
          ]
        }
      ]
    },
    {
      "cell_type": "markdown",
      "source": [
        "**33. Write a Python program to remove duplicates from a list while preserving the order.**"
      ],
      "metadata": {
        "id": "-W9udB-0MXOn"
      }
    },
    {
      "cell_type": "code",
      "source": [
        "def remove_duplicates(lst):\n",
        "    unique_list = []\n",
        "    for item in lst:\n",
        "        if item not in unique_list:\n",
        "            unique_list.append(item)\n",
        "    return unique_list\n",
        "\n",
        "# Example usage\n",
        "numbers = [1, 2, 2, 3, 4, 3, 5]\n",
        "result = remove_duplicates(numbers)\n",
        "print(\"List without duplicates:\", result)\n"
      ],
      "metadata": {
        "colab": {
          "base_uri": "https://localhost:8080/"
        },
        "id": "3g7bNE4bHVxL",
        "outputId": "07a50a0f-d7e7-4260-d034-23b98737597c"
      },
      "execution_count": 50,
      "outputs": [
        {
          "output_type": "stream",
          "name": "stdout",
          "text": [
            "List without duplicates: [1, 2, 3, 4, 5]\n"
          ]
        }
      ]
    },
    {
      "cell_type": "markdown",
      "source": [
        "**33. Write a Python program to remove duplicates from a list while preserving the order.**"
      ],
      "metadata": {
        "id": "iZSOhORsMd8S"
      }
    },
    {
      "cell_type": "code",
      "source": [
        "def remove_duplicates(lst):\n",
        "    if len(lst) == 0:\n",
        "        return lst\n",
        "\n",
        "\n",
        "\n",
        "    # two pointers to track the current and next unique elements\n",
        "    curr = 0\n",
        "\n",
        "    for num in range(1, len(lst)):\n",
        "        if lst[num] != lst[curr]:\n",
        "            curr += 1\n",
        "            lst[curr] = lst[num]\n",
        "\n",
        "    # Truncate the list after the last unique element\n",
        "    del lst[curr+1:]\n",
        "\n",
        "    return lst\n",
        "\n",
        "# Example usage\n",
        "numbers = [1, 2, 2, 3, 4, 3, 5]\n",
        "result = remove_duplicates(numbers)\n",
        "print(\"List without duplicates:\", result)\n"
      ],
      "metadata": {
        "colab": {
          "base_uri": "https://localhost:8080/"
        },
        "id": "YwFESN3zHV0j",
        "outputId": "2ca40381-df22-4abb-9d4b-71601fd21a9e"
      },
      "execution_count": 51,
      "outputs": [
        {
          "output_type": "stream",
          "name": "stdout",
          "text": [
            "List without duplicates: [1, 2, 3, 4, 3, 5]\n"
          ]
        }
      ]
    },
    {
      "cell_type": "markdown",
      "source": [
        "**34. Implement a function to find the longest common prefix among a list of strings.**"
      ],
      "metadata": {
        "id": "UhinGX5BOBVP"
      }
    },
    {
      "cell_type": "code",
      "source": [
        "def longest_common_prefix(strs):\n",
        "    if not strs:\n",
        "        return \"\"\n",
        "    prefix = strs[0]\n",
        "    for string in strs[1:]:\n",
        "        while string.find(prefix) != 0:\n",
        "            prefix = prefix[:-1]\n",
        "            if not prefix:\n",
        "                return \"\"\n",
        "    return prefix\n",
        "\n",
        "# Example usage\n",
        "strings = [\"flower\", \"flow\", \"flight\"]\n",
        "result = longest_common_prefix(strings)\n",
        "print(\"Longest common prefix:\", result)\n"
      ],
      "metadata": {
        "colab": {
          "base_uri": "https://localhost:8080/"
        },
        "id": "_DfbPywGOGtq",
        "outputId": "16d8fb6c-861d-476b-ac4c-4ec0074ec25c"
      },
      "execution_count": 52,
      "outputs": [
        {
          "output_type": "stream",
          "name": "stdout",
          "text": [
            "Longest common prefix: fl\n"
          ]
        }
      ]
    },
    {
      "cell_type": "markdown",
      "source": [
        "**34. Implement a function to find the longest common prefix among a list of strings.**"
      ],
      "metadata": {
        "id": "Dx5u0YgzOTcz"
      }
    },
    {
      "cell_type": "code",
      "source": [
        "def longest_common_prefix(strs):\n",
        "    if not strs:\n",
        "        return \"\"\n",
        "    prefix = strs[0]\n",
        "    for string in strs[1:]:\n",
        "        while string.find(prefix) != 0:\n",
        "            prefix = prefix[:-1]\n",
        "            if not prefix:\n",
        "                return \"\"\n",
        "    return prefix\n",
        "\n",
        "# Example usage\n",
        "strings = [\"flower\", \"flow\", \"flight\"]\n",
        "result = longest_common_prefix(strings)\n",
        "print(\"Longest common prefix:\", result)\n"
      ],
      "metadata": {
        "colab": {
          "base_uri": "https://localhost:8080/"
        },
        "id": "EY2hdy8EPxyS",
        "outputId": "33a052f3-1a6f-4616-ddfd-2c8dfb819bc2"
      },
      "execution_count": 53,
      "outputs": [
        {
          "output_type": "stream",
          "name": "stdout",
          "text": [
            "Longest common prefix: fl\n"
          ]
        }
      ]
    },
    {
      "cell_type": "markdown",
      "source": [
        "**35. Write a program to check if a given number is a perfect square.**"
      ],
      "metadata": {
        "id": "QzqQ3mr0PmJt"
      }
    },
    {
      "cell_type": "code",
      "source": [
        "def is_perfect_square(number):\n",
        "    if number < 0:\n",
        "        return False\n",
        "\n",
        "    root = 0\n",
        "    while root * root <= number:\n",
        "        if root * root == number:\n",
        "            return True\n",
        "        root += 1\n",
        "\n",
        "    return False\n",
        "\n",
        "# Example usage\n",
        "num = 16\n",
        "if is_perfect_square(num):\n",
        "    print(\"The number is a perfect square\")\n",
        "else:\n",
        "    print(\"The number is not a perfect square\")\n"
      ],
      "metadata": {
        "colab": {
          "base_uri": "https://localhost:8080/"
        },
        "id": "ydWpOvX7OGyB",
        "outputId": "847feeb9-359d-427f-a9db-2bba6fa0b5c5"
      },
      "execution_count": 54,
      "outputs": [
        {
          "output_type": "stream",
          "name": "stdout",
          "text": [
            "The number is a perfect square\n"
          ]
        }
      ]
    },
    {
      "cell_type": "markdown",
      "source": [
        "**36. Implement a function to calculate the product of all elements in a list.**"
      ],
      "metadata": {
        "id": "CzF3XnbgPigZ"
      }
    },
    {
      "cell_type": "code",
      "source": [
        "def product_of_list(lst):\n",
        "    product = 1\n",
        "    for num in lst:\n",
        "        product *= num\n",
        "    return product\n",
        "\n",
        "# Example usage\n",
        "numbers = [1, 2, 3, 4, 5]\n",
        "result = product_of_list(numbers)\n",
        "print(\"Product of list:\", result)\n"
      ],
      "metadata": {
        "colab": {
          "base_uri": "https://localhost:8080/"
        },
        "id": "PgwNzb6uOHAS",
        "outputId": "a470e8e3-43ef-4979-b51e-2dbe382494d2"
      },
      "execution_count": 55,
      "outputs": [
        {
          "output_type": "stream",
          "name": "stdout",
          "text": [
            "Product of list: 120\n"
          ]
        }
      ]
    },
    {
      "cell_type": "markdown",
      "source": [
        "**37. Write a Python program to reverse the order of words in a sentence while preserving the word order.**"
      ],
      "metadata": {
        "id": "LEWN7hqmP9RA"
      }
    },
    {
      "cell_type": "code",
      "source": [
        "def reverse_sentence(sentence):\n",
        "    words = sentence.split()\n",
        "    reversed_sentence = \" \".join(reversed(words))\n",
        "    return reversed_sentence\n",
        "\n",
        "# Example usage\n",
        "text = \"Hello, world! This is a sentence.\"\n",
        "result = reverse_sentence(text)\n",
        "print(\"Reversed sentence:\", result)\n"
      ],
      "metadata": {
        "colab": {
          "base_uri": "https://localhost:8080/"
        },
        "id": "Tx0Zdg9YOHEc",
        "outputId": "2ab0349e-72c4-44d4-e76c-a6ef195f5cd6"
      },
      "execution_count": 56,
      "outputs": [
        {
          "output_type": "stream",
          "name": "stdout",
          "text": [
            "Reversed sentence: sentence. a is This world! Hello,\n"
          ]
        }
      ]
    },
    {
      "cell_type": "markdown",
      "source": [
        "**38. Implement a function to find the missing number in a given list of consecutive numbers.**"
      ],
      "metadata": {
        "id": "1hNXRs8sQ1DY"
      }
    },
    {
      "cell_type": "code",
      "source": [
        "def find_missing_number(lst):\n",
        "    n = len(lst) + 1\n",
        "    expected_sum = n * (n + 1) // 2\n",
        "    actual_sum = sum(lst)\n",
        "    return expected_sum - actual_sum\n",
        "\n",
        "# Example usage\n",
        "numbers = [1, 2, 3, 5, 6]\n",
        "result = find_missing_number(numbers)\n",
        "print(\"Missing number:\", result )\n"
      ],
      "metadata": {
        "colab": {
          "base_uri": "https://localhost:8080/"
        },
        "id": "HEqkEES8OHHu",
        "outputId": "f96de0f9-3b79-423c-c8f0-08a6c5a46d74"
      },
      "execution_count": 68,
      "outputs": [
        {
          "output_type": "stream",
          "name": "stdout",
          "text": [
            "Missing number: 5\n"
          ]
        }
      ]
    },
    {
      "cell_type": "markdown",
      "source": [
        "**39. Write a program to find the sum of digits of a given number.**"
      ],
      "metadata": {
        "id": "We73Uow3SwZ8"
      }
    },
    {
      "cell_type": "code",
      "source": [
        "def sum_of_digits(number):\n",
        "    digit_sum = 0\n",
        "    while number > 0:\n",
        "        digit_sum += number % 10\n",
        "        number //= 10\n",
        "    return digit_sum\n",
        "\n",
        "# Example usage\n",
        "num = 12345\n",
        "result = sum_of_digits(num)\n",
        "print(\"Sum of digits:\", result)\n"
      ],
      "metadata": {
        "colab": {
          "base_uri": "https://localhost:8080/"
        },
        "id": "pBXzjbS6OHLY",
        "outputId": "5a9809a3-239d-4d0d-8c5c-3fb80ff037df"
      },
      "execution_count": 59,
      "outputs": [
        {
          "output_type": "stream",
          "name": "stdout",
          "text": [
            "Sum of digits: 15\n"
          ]
        }
      ]
    },
    {
      "cell_type": "markdown",
      "source": [
        "**40. Implement a function to check if a given string is a valid palindrome considering case sensitivity**"
      ],
      "metadata": {
        "id": "T8pxXRJ1TB8B"
      }
    },
    {
      "cell_type": "code",
      "source": [
        "def if_palindrome(string):\n",
        "  first=0\n",
        "  last=len(string)-1\n",
        "  flag=1\n",
        "  while(first<last):\n",
        "    if(string[first].lower()!=string[last].lower()):\n",
        "      flag=0\n",
        "      return flag\n",
        "    else:\n",
        "      first+=1\n",
        "      last-=1\n",
        "\n",
        "  return flag\n"
      ],
      "metadata": {
        "id": "BxvKNMZDOHOh"
      },
      "execution_count": 60,
      "outputs": []
    },
    {
      "cell_type": "code",
      "source": [
        "string = \"A man, a plan, a canal: Panama\"\n",
        "if is_valid_palindrome(string):\n",
        "    print(\"The string is a valid palindrome\")\n",
        "else:\n",
        "    print(\"The string is not a valid palindrome\")\n"
      ],
      "metadata": {
        "colab": {
          "base_uri": "https://localhost:8080/"
        },
        "id": "ExiF5UkyOHSH",
        "outputId": "77f6b476-02f1-4cbc-cb11-e542c9db195d"
      },
      "execution_count": 61,
      "outputs": [
        {
          "output_type": "stream",
          "name": "stdout",
          "text": [
            "The string is a valid palindrome\n"
          ]
        }
      ]
    },
    {
      "cell_type": "markdown",
      "source": [
        "**41. Write a Python program to find the smallest missing positive integer in a list.**"
      ],
      "metadata": {
        "id": "A7Q3YeDBVSKW"
      }
    },
    {
      "cell_type": "code",
      "source": [
        "def find_smallest_missing_positive(nums):\n",
        "    n = len(nums)\n",
        "    for i in range(n):\n",
        "        # Move the number to its correct position if it is a positive integer within the range\n",
        "        while 0 < nums[i] <= n and nums[nums[i]-1] != nums[i]:\n",
        "            nums[nums[i]-1], nums[i] = nums[i], nums[nums[i]-1]\n",
        "\n",
        "    # Find the first missing positive number\n",
        "    for i in range(n):\n",
        "        if nums[i] != i+1:\n",
        "            return i+1\n",
        "\n",
        "    # If all positive integers are present, return the next positive integer\n",
        "    return n+1\n",
        "\n",
        "# Example usage\n",
        "numbers = [3, 4, -1, 1]\n",
        "result = find_smallest_missing_positive(numbers)\n",
        "print(\"Smallest missing positive integer:\", result)\n"
      ],
      "metadata": {
        "colab": {
          "base_uri": "https://localhost:8080/"
        },
        "id": "m4E6-qnnVB0M",
        "outputId": "4702fe6f-46bd-46f9-b6e3-b60f96d43338"
      },
      "execution_count": 62,
      "outputs": [
        {
          "output_type": "stream",
          "name": "stdout",
          "text": [
            "Smallest missing positive integer: 2\n"
          ]
        }
      ]
    },
    {
      "cell_type": "markdown",
      "source": [
        "**42. Implement a function to find the longest palindrome substring in a given string.**"
      ],
      "metadata": {
        "id": "1bNrl6njVXx3"
      }
    },
    {
      "cell_type": "code",
      "source": [
        "def longest_palindrome_substring(s):\n",
        "    if not s:\n",
        "        return \"\"\n",
        "\n",
        "    n = len(s)\n",
        "    start = 0\n",
        "    max_len = 1\n",
        "\n",
        "    # Create a 2D table to store the states of substrings\n",
        "    dp = [[False] * n for _ in range(n)]\n",
        "\n",
        "    # Single characters are palindromes\n",
        "    for i in range(n):\n",
        "        dp[i][i] = True\n",
        "\n",
        "    # Check for palindromic substrings of length 2\n",
        "    for i in range(n - 1):\n",
        "        if s[i] == s[i + 1]:\n",
        "            dp[i][i + 1] = True\n",
        "            start = i\n",
        "            max_len = 2\n",
        "\n",
        "    # Check for palindromic substrings of length greater than 2\n",
        "    for length in range(3, n + 1):\n",
        "        for i in range(n - length + 1):\n",
        "            j = i + length - 1\n",
        "            if s[i] == s[j] and dp[i + 1][j - 1]:\n",
        "                dp[i][j] = True\n",
        "                start = i\n",
        "                max_len = length\n",
        "\n",
        "    return s[start:start + max_len]\n",
        "\n",
        "# Example usage\n",
        "string = \"babad\"\n",
        "result = longest_palindrome_substring(string)\n",
        "print(\"Longest palindrome substring:\", result)\n"
      ],
      "metadata": {
        "colab": {
          "base_uri": "https://localhost:8080/"
        },
        "id": "uY4Qq25mVB7R",
        "outputId": "6366ad73-efda-4992-f080-f8f007bbba4a"
      },
      "execution_count": 63,
      "outputs": [
        {
          "output_type": "stream",
          "name": "stdout",
          "text": [
            "Longest palindrome substring: aba\n"
          ]
        }
      ]
    },
    {
      "cell_type": "markdown",
      "source": [
        "**43. Write a program to find the number of occurrences of a given element in a list.**"
      ],
      "metadata": {
        "id": "AVh1CsDIVlX9"
      }
    },
    {
      "cell_type": "code",
      "source": [
        "def count_occurrences(lst, element):\n",
        "    count = 0\n",
        "    for item in lst:\n",
        "        if item == element:\n",
        "            count += 1\n",
        "    return count\n",
        "\n",
        "# Example usage\n",
        "numbers = [1, 2, 3, 2, 4, 2, 5]\n",
        "element = 2\n",
        "result = count_occurrences(numbers, element)\n",
        "print(\"Occurrences of\", element, \"in the list:\", result)\n"
      ],
      "metadata": {
        "colab": {
          "base_uri": "https://localhost:8080/"
        },
        "id": "1TmS8RjbVB-a",
        "outputId": "d4257160-59ce-4d21-93cc-702c51de7383"
      },
      "execution_count": 64,
      "outputs": [
        {
          "output_type": "stream",
          "name": "stdout",
          "text": [
            "Occurrences of 2 in the list: 3\n"
          ]
        }
      ]
    },
    {
      "cell_type": "markdown",
      "source": [
        "**44. Implement a function to check if a given number is a perfect number.**"
      ],
      "metadata": {
        "id": "aqDblKY-V2WS"
      }
    },
    {
      "cell_type": "code",
      "source": [
        "def is_perfect_number(num):\n",
        "    if num <= 0:\n",
        "        return False\n",
        "\n",
        "    divisors_sum = 0\n",
        "    for i in range(1, num):\n",
        "        if num % i == 0:\n",
        "            divisors_sum += i\n",
        "\n",
        "    return divisors_sum == num\n",
        "\n",
        "# Example usage\n",
        "number = 28\n",
        "result = is_perfect_number(number)\n",
        "if result:\n",
        "    print(number, \"is a perfect number.\")\n",
        "else:\n",
        "    print(number, \"is not a perfect number.\")\n"
      ],
      "metadata": {
        "colab": {
          "base_uri": "https://localhost:8080/"
        },
        "id": "nSXz0BeKVCB3",
        "outputId": "a7c87b4f-0e90-4ce9-cc9a-9aa6ccf9cecc"
      },
      "execution_count": 65,
      "outputs": [
        {
          "output_type": "stream",
          "name": "stdout",
          "text": [
            "28 is a perfect number.\n"
          ]
        }
      ]
    },
    {
      "cell_type": "markdown",
      "source": [
        "**45. Write a Python program to remove all duplicates from a string.**"
      ],
      "metadata": {
        "id": "vQtdfgCZWCmC"
      }
    },
    {
      "cell_type": "code",
      "source": [
        "def remove_duplicates(string):\n",
        "    # Create an empty set to store unique characters\n",
        "    unique_chars = set()\n",
        "\n",
        "    # Iterate over the characters in the string\n",
        "    # and add them to the set (duplicates will be automatically discarded)\n",
        "    for char in string:\n",
        "        unique_chars.add(char)\n",
        "\n",
        "    # Join the unique characters and return the result as a string\n",
        "    return ''.join(unique_chars)\n",
        "\n",
        "# Example usage\n",
        "text = \"Hello World\"\n",
        "result = remove_duplicates(text)\n",
        "print(\"String after removing duplicates:\", result)\n"
      ],
      "metadata": {
        "colab": {
          "base_uri": "https://localhost:8080/"
        },
        "id": "oMTUisdwVCNX",
        "outputId": "19de9e2b-8392-48ae-e9cf-973bedb2168d"
      },
      "execution_count": 66,
      "outputs": [
        {
          "output_type": "stream",
          "name": "stdout",
          "text": [
            "String after removing duplicates: HeldoWr \n"
          ]
        }
      ]
    },
    {
      "cell_type": "markdown",
      "source": [
        "**46. Implement a function to find the first missing positive**"
      ],
      "metadata": {
        "id": "2uWHoGa0WNYe"
      }
    },
    {
      "cell_type": "code",
      "source": [
        "def find_first_missing_positive(nums):\n",
        "    n = len(nums)\n",
        "\n",
        "    # Move positive integers to their correct positions\n",
        "    for i in range(n):\n",
        "        while 1 <= nums[i] <= n and nums[nums[i] - 1] != nums[i]:\n",
        "            nums[nums[i] - 1], nums[i] = nums[i], nums[nums[i] - 1]\n",
        "\n",
        "    # Find the first missing positive integer\n",
        "    for i in range(n):\n",
        "        if nums[i] != i + 1:\n",
        "            return i + 1\n",
        "\n",
        "    # If all positive integers are present, return the next positive integer\n",
        "    return n + 1\n"
      ],
      "metadata": {
        "id": "iqBNZiTJVCZu"
      },
      "execution_count": 67,
      "outputs": []
    }
  ]
}