{
  "nbformat": 4,
  "nbformat_minor": 0,
  "metadata": {
    "colab": {
      "provenance": [],
      "authorship_tag": "ABX9TyNa5zMEysC+jx9ET3TG8/kH",
      "include_colab_link": true
    },
    "kernelspec": {
      "name": "python3",
      "display_name": "Python 3"
    },
    "language_info": {
      "name": "python"
    }
  },
  "cells": [
    {
      "cell_type": "markdown",
      "metadata": {
        "id": "view-in-github",
        "colab_type": "text"
      },
      "source": [
        "<a href=\"https://colab.research.google.com/github/Pratik94229/PPT-Assignments/blob/main/Assignment_Questions_2.ipynb\" target=\"_parent\"><img src=\"https://colab.research.google.com/assets/colab-badge.svg\" alt=\"Open In Colab\"/></a>"
      ]
    },
    {
      "cell_type": "markdown",
      "source": [
        "\n",
        "💡 **Question 1**\n",
        "Given an integer array nums of 2n integers, group these integers into n pairs (a1, b1), (a2, b2),..., (an, bn) such that the sum of min(ai, bi) for all i is maximized. Return the maximized sum.\n",
        "\n",
        "**Example 1:**\n",
        "Input: nums = [1,4,3,2]\n",
        "Output: 4\n",
        "\n",
        "**Explanation:** All possible pairings (ignoring the ordering of elements) are:\n",
        "\n",
        "1. (1, 4), (2, 3) -> min(1, 4) + min(2, 3) = 1 + 2 = 3\n",
        "2. (1, 3), (2, 4) -> min(1, 3) + min(2, 4) = 1 + 2 = 3\n",
        "3. (1, 2), (3, 4) -> min(1, 2) + min(3, 4) = 1 + 3 = 4\n",
        "So the maximum possible sum is 4\n"
      ],
      "metadata": {
        "id": "OfO9DXPItLO1"
      }
    },
    {
      "cell_type": "code",
      "source": [
        "def max_sum(nums):\n",
        "    nums.sort()  # Step 1: Sort the array\n",
        "    \n",
        "    total_sum = 0\n",
        "    for i in range(0, len(nums), 2):  # Step 2: Iterate over sorted array in steps of 2\n",
        "        total_sum += nums[i]  # Step 3: Sum the minimum element of each pair\n",
        "    \n",
        "    return total_sum  # Step 4: Return the maximized sum\n",
        "\n"
      ],
      "metadata": {
        "id": "kAxWl58Wtn_v"
      },
      "execution_count": 1,
      "outputs": []
    },
    {
      "cell_type": "code",
      "execution_count": 3,
      "metadata": {
        "colab": {
          "base_uri": "https://localhost:8080/"
        },
        "id": "nvjDFO-mtFct",
        "outputId": "d3bd936e-ab96-4844-a1f7-941bc77c3c5a"
      },
      "outputs": [
        {
          "output_type": "stream",
          "name": "stdout",
          "text": [
            "4\n"
          ]
        }
      ],
      "source": [
        "nums = [1,4,3,2]\n",
        "sum=max_sum(nums)\n",
        "print(sum) #Expected output 4"
      ]
    },
    {
      "cell_type": "markdown",
      "source": [
        "**Question 2 :**\n",
        "Alice has n candies, where the ith candy is of type candyType[i]. Alice noticed that she started to gain weight, so she visited a doctor. \n",
        "\n",
        "The doctor advised Alice to only eat n / 2 of the candies she has (n is always even). Alice likes her candies very much, and she wants to eat the maximum number of different types of candies while still following the doctor's advice. \n",
        "\n",
        "Given the integer array candyType of length n, return the maximum number of different types of candies she can eat if she only eats n / 2 of them.\n",
        "\n",
        "Example 1:\n",
        "Input: candyType = [1,1,2,2,3,3]\n",
        "Output: 3\n",
        "\n",
        "Explanation: Alice can only eat 6 / 2 = 3 candies. Since there are only 3 types, she can eat one of each type."
      ],
      "metadata": {
        "id": "5fWb-rRvwbMD"
      }
    },
    {
      "cell_type": "code",
      "source": [
        "def maxCandies(candyType):\n",
        "    num_unique = len(set(candyType))\n",
        "    max_candies = len(candyType) // 2\n",
        "    return min(num_unique, max_candies)\n"
      ],
      "metadata": {
        "id": "hsStisbKwidC"
      },
      "execution_count": 6,
      "outputs": []
    },
    {
      "cell_type": "code",
      "source": [
        "candyType = [1, 1, 2, 2, 3, 3]\n",
        "max_num = maxCandies(candyType)\n",
        "print(max_num)  # Output: 3\n"
      ],
      "metadata": {
        "colab": {
          "base_uri": "https://localhost:8080/"
        },
        "id": "Xr8X3p7xxpaN",
        "outputId": "408a800c-de8a-4f1a-c2d0-d1eecae35210"
      },
      "execution_count": 7,
      "outputs": [
        {
          "output_type": "stream",
          "name": "stdout",
          "text": [
            "3\n"
          ]
        }
      ]
    },
    {
      "cell_type": "markdown",
      "source": [
        "**Question 3**\n",
        "\n",
        "We define a harmonious array as an array where the difference between its maximum value\n",
        "and its minimum value is exactly 1.\n",
        "\n",
        "Given an integer array nums, return the length of its longest harmonious subsequence\n",
        "among all its possible subsequences.\n",
        "\n",
        "A subsequence of an array is a sequence that can be derived from the array by deleting some or no elements without changing the order of the remaining elements.\n",
        "\n",
        "Example 1:\n",
        "Input: nums = [1,3,2,2,5,2,3,7]\n",
        "Output: 5\n",
        "\n",
        "Explanation: The longest harmonious subsequence is [3,2,2,2,3]."
      ],
      "metadata": {
        "id": "2J5iZpsGyvTx"
      }
    },
    {
      "cell_type": "code",
      "source": [
        "def findLHS(nums):\n",
        "    counter = {}\n",
        "    for num in nums:\n",
        "        counter[num] = counter.get(num, 0) + 1\n",
        "\n",
        "    max_length = 0\n",
        "    for key in counter.keys():\n",
        "        if key + 1 in counter:\n",
        "            max_length = max(max_length, counter[key] + counter[key + 1])\n",
        "\n",
        "    return max_length\n"
      ],
      "metadata": {
        "id": "J_TTWuHqy6WJ"
      },
      "execution_count": 9,
      "outputs": []
    },
    {
      "cell_type": "code",
      "source": [
        "nums = [1, 3, 2, 2, 5, 2, 3, 7]\n",
        "max_length = findLHS(nums)\n",
        "print(max_length)  # Output: 5\n"
      ],
      "metadata": {
        "colab": {
          "base_uri": "https://localhost:8080/"
        },
        "id": "2iNg9myY2HMu",
        "outputId": "c9a71d58-a87a-482e-8caf-6edbbbd93d81"
      },
      "execution_count": 10,
      "outputs": [
        {
          "output_type": "stream",
          "name": "stdout",
          "text": [
            "5\n"
          ]
        }
      ]
    },
    {
      "cell_type": "markdown",
      "source": [
        "**Question 4**\n",
        "\n",
        "You have a long flowerbed in which some of the plots are planted, and some are not.\n",
        "However, flowers cannot be planted in adjacent plots.\n",
        "Given an integer array flowerbed containing 0's and 1's, where 0 means empty and 1 means not empty, and an integer n, return true if n new flowers can be planted in the flowerbed without violating the no-adjacent-flowers rule and false otherwise.\n",
        "\n",
        "Example 1:\n",
        "Input: flowerbed = [1,0,0,0,1], n = 1\n",
        "Output: true"
      ],
      "metadata": {
        "id": "Eu3SX4WR2Liw"
      }
    },
    {
      "cell_type": "code",
      "source": [
        "def canPlaceFlowers(flowerbed, n):\n",
        "    count = 0\n",
        "    for i in range(len(flowerbed)):\n",
        "        if (\n",
        "            flowerbed[i] == 0\n",
        "            and (i == 0 or flowerbed[i - 1] == 0)\n",
        "            and (i == len(flowerbed) - 1 or flowerbed[i + 1] == 0)\n",
        "        ):\n",
        "            count += 1\n",
        "            flowerbed[i] = 1\n",
        "    return count >= n\n"
      ],
      "metadata": {
        "id": "_vdfacw12kyk"
      },
      "execution_count": 11,
      "outputs": []
    },
    {
      "cell_type": "code",
      "source": [
        "flowerbed = [1, 0, 0, 0, 1]\n",
        "n = 1\n",
        "can_plant = canPlaceFlowers(flowerbed, n)\n",
        "print(can_plant)  # Output: True\n"
      ],
      "metadata": {
        "colab": {
          "base_uri": "https://localhost:8080/"
        },
        "id": "aaUywiQS4M2H",
        "outputId": "8c028a43-b357-4517-d610-14047d913c1a"
      },
      "execution_count": 12,
      "outputs": [
        {
          "output_type": "stream",
          "name": "stdout",
          "text": [
            "True\n"
          ]
        }
      ]
    },
    {
      "cell_type": "markdown",
      "source": [
        "**Question 5**\n",
        "\n",
        "Given an integer array nums, find three numbers whose product is maximum and return the maximum product.\n",
        "\n",
        "Example 1:\n",
        "Input: nums = [1,2,3]\n",
        "Output: 6"
      ],
      "metadata": {
        "id": "hYk2UbHk5MHg"
      }
    },
    {
      "cell_type": "code",
      "source": [
        "def maximumProduct(nums):\n",
        "    nums.sort()\n",
        "    max_product = nums[-1] * nums[-2] * nums[-3]\n",
        "    alt_product = nums[0] * nums[1] * nums[-1]\n",
        "    return max(max_product, alt_product)\n"
      ],
      "metadata": {
        "id": "L-uQ8hwq5P9-"
      },
      "execution_count": 13,
      "outputs": []
    },
    {
      "cell_type": "code",
      "source": [
        "nums = [-6,-3,-1, 1, 2, 3]\n",
        "max_prod = maximumProduct(nums)\n",
        "print(max_prod)  # Output: 54\n"
      ],
      "metadata": {
        "colab": {
          "base_uri": "https://localhost:8080/"
        },
        "id": "8kBCwZgq63TD",
        "outputId": "8157351e-673e-4aed-cfd0-7eec00dbaf0b"
      },
      "execution_count": 14,
      "outputs": [
        {
          "output_type": "stream",
          "name": "stdout",
          "text": [
            "54\n"
          ]
        }
      ]
    },
    {
      "cell_type": "markdown",
      "source": [
        "**Question 6**\n",
        "\n",
        "Given an array of integers nums which is sorted in ascending order, and an integer target,\n",
        "write a function to search target in nums. If target exists, then return its index. Otherwise,\n",
        "return -1.\n",
        "\n",
        "You must write an algorithm with O(log n) runtime complexity.\n",
        "\n",
        "Input: nums = [-1,0,3,5,9,12], target = 9\n",
        "Output: 4\n",
        "\n",
        "Explanation: 9 exists in nums and its index is 4"
      ],
      "metadata": {
        "id": "He05w_vI7F2V"
      }
    },
    {
      "cell_type": "code",
      "source": [
        "def if_exist(nums,target):\n",
        "  first=0\n",
        "  last=len(nums)-1\n",
        "  while(last>=first):\n",
        "    target_index=round((first+last)/2)\n",
        "    if(target==nums[target_index]):\n",
        "      return target_index\n",
        "    elif(target<nums[target_index]):\n",
        "      last=target_index-1\n",
        "    else:\n",
        "      first=target_index+1\n",
        "\n",
        "  return -1     "
      ],
      "metadata": {
        "id": "_3xDf4YH7NHH"
      },
      "execution_count": 20,
      "outputs": []
    },
    {
      "cell_type": "code",
      "source": [
        "nums = [-1,0,3,5,9,12] # target = 9 Output: 4\n",
        "target=-1\n",
        "print(if_exist(nums,target))"
      ],
      "metadata": {
        "colab": {
          "base_uri": "https://localhost:8080/"
        },
        "id": "Ey9c1Snk83mR",
        "outputId": "02e4d6e2-bc3e-4f83-fc76-31ac4f719476"
      },
      "execution_count": 22,
      "outputs": [
        {
          "output_type": "stream",
          "name": "stdout",
          "text": [
            "0\n"
          ]
        }
      ]
    },
    {
      "cell_type": "markdown",
      "source": [
        "**Question 7**\n",
        "\n",
        "An array is monotonic if it is either monotone increasing or monotone decreasing.\n",
        "\n",
        "An array nums is monotone increasing if for all i <= j, nums[i] <= nums[j]. An array nums is\n",
        "monotone decreasing if for all i <= j, nums[i] >= nums[j].\n",
        "\n",
        "Given an integer array nums, return true if the given array is monotonic, or false otherwise.\n",
        "\n",
        "Example 1:\n",
        "Input: nums = [1,2,2,3]\n",
        "Output: true"
      ],
      "metadata": {
        "id": "zkcjbZGA-NqR"
      }
    },
    {
      "cell_type": "code",
      "source": [
        "def isMonotonic(nums):\n",
        "    isIncreasing = True\n",
        "    isDecreasing = True\n",
        "\n",
        "    for i in range(1, len(nums)):\n",
        "        if nums[i] > nums[i - 1]:\n",
        "            isDecreasing = False\n",
        "        if nums[i] < nums[i - 1]:\n",
        "            isIncreasing = False\n",
        "\n",
        "    return isIncreasing or isDecreasing\n"
      ],
      "metadata": {
        "id": "7NfZUpBF-Si6"
      },
      "execution_count": 23,
      "outputs": []
    },
    {
      "cell_type": "code",
      "source": [
        "nums = [1, 2, 2, 3]\n",
        "is_monotonic = isMonotonic(nums)\n",
        "print(is_monotonic)  # Output: True\n"
      ],
      "metadata": {
        "colab": {
          "base_uri": "https://localhost:8080/"
        },
        "id": "wD-3yz3x-uY1",
        "outputId": "b859d6c0-1c76-4c00-d315-3c148be7af7a"
      },
      "execution_count": 24,
      "outputs": [
        {
          "output_type": "stream",
          "name": "stdout",
          "text": [
            "True\n"
          ]
        }
      ]
    },
    {
      "cell_type": "markdown",
      "source": [
        "**Question 8**\n",
        "\n",
        "You are given an integer array nums and an integer k.\n",
        "\n",
        "In one operation, you can choose any index i where 0 <= i < nums.length and change nums[i] to nums[i] + x where x is an integer from the range [-k, k]. You can apply this operation at most once for each index i.\n",
        "\n",
        "The score of nums is the difference between the maximum and minimum elements in nums.\n",
        "\n",
        "Return the minimum score of nums after applying the mentioned operation at most once for each index in it.\n",
        "\n",
        "Example 1:\n",
        "Input: nums = [1], k = 0\n",
        "Output: 0\n",
        "\n",
        "Explanation: The score is max(nums) - min(nums) = 1 - 1 = 0."
      ],
      "metadata": {
        "id": "a1J1ucC7_BNz"
      }
    },
    {
      "cell_type": "code",
      "source": [
        "def minimumScore(nums, k):\n",
        "    min_val = float('inf')\n",
        "    max_val = float('-inf')\n",
        "\n",
        "    for num in nums:\n",
        "        min_val = min(min_val, num)\n",
        "        max_val = max(max_val, num)\n",
        "\n",
        "    if max_val - min_val <= 2 * k:\n",
        "        return 0\n",
        "    else:\n",
        "        return max_val - min_val - 2 * k\n"
      ],
      "metadata": {
        "id": "SfxAHP9S-_gu"
      },
      "execution_count": 25,
      "outputs": []
    },
    {
      "cell_type": "code",
      "source": [
        "nums = [1]\n",
        "k = 0\n",
        "minimum_score = minimumScore(nums, k)\n",
        "print(minimum_score)  # Output: 0\n",
        "\n"
      ],
      "metadata": {
        "colab": {
          "base_uri": "https://localhost:8080/"
        },
        "id": "RUStpidVAQ-4",
        "outputId": "d6c1f7b0-8d4b-4600-c537-826ddf3f5f5b"
      },
      "execution_count": 26,
      "outputs": [
        {
          "output_type": "stream",
          "name": "stdout",
          "text": [
            "0\n"
          ]
        }
      ]
    }
  ]
}