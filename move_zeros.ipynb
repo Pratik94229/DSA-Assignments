{
  "nbformat": 4,
  "nbformat_minor": 0,
  "metadata": {
    "colab": {
      "provenance": [],
      "authorship_tag": "ABX9TyN19ccclWIl9prFjsBq4UTa",
      "include_colab_link": true
    },
    "kernelspec": {
      "name": "python3",
      "display_name": "Python 3"
    },
    "language_info": {
      "name": "python"
    }
  },
  "cells": [
    {
      "cell_type": "markdown",
      "metadata": {
        "id": "view-in-github",
        "colab_type": "text"
      },
      "source": [
        "<a href=\"https://colab.research.google.com/github/Pratik94229/DSA-Assignments/blob/main/move_zeros.ipynb\" target=\"_parent\"><img src=\"https://colab.research.google.com/assets/colab-badge.svg\" alt=\"Open In Colab\"/></a>"
      ]
    },
    {
      "cell_type": "markdown",
      "source": [
        "**Question**:**Move Zeroes**\n",
        "\n",
        "Given an integer array nums, move all 0's to the end of it while maintaining the relative order of the non-zero elements.\n",
        "\n",
        "Note that you must do this in-place without making a copy of the array.\n",
        "\n",
        "Example 1:\n",
        "Input: nums = [0,1,0,3,12]\n",
        "Output: [1,3,12,0,0]\n",
        "\n",
        "Example 2:\n",
        "Input: nums = [0]\n",
        "Output: [0]\n",
        "\n",
        "Constraints:\n",
        "a. 1 <= nums.length <= 10^4\n",
        "b. -2^31 <= nums[i] <= 2^31 - 1"
      ],
      "metadata": {
        "id": "jW16G76KiIfE"
      }
    },
    {
      "cell_type": "code",
      "execution_count": 1,
      "metadata": {
        "id": "SGsyLmskiHaq"
      },
      "outputs": [],
      "source": [
        "def moveZeroes(nums):\n",
        "    n = len(nums)\n",
        "    left = 0  # Pointer for the left-most non-zero element\n",
        "\n",
        "    # Move non-zero elements to the left side of the array\n",
        "    for i in range(n):\n",
        "        if nums[i] != 0:\n",
        "            nums[left] = nums[i]\n",
        "            left += 1\n",
        "\n",
        "    # Fill the remaining elements with zeroes\n",
        "    for i in range(left, n):\n",
        "        nums[i] = 0\n",
        "\n",
        "    return nums\n"
      ]
    },
    {
      "cell_type": "code",
      "source": [
        "nums = [0,1,0,3,12]\n",
        "print(moveZeroes(nums))"
      ],
      "metadata": {
        "colab": {
          "base_uri": "https://localhost:8080/"
        },
        "id": "dncYMUzhh2CJ",
        "outputId": "e1a657cf-36ea-4389-bdab-ac47078c5138"
      },
      "execution_count": 2,
      "outputs": [
        {
          "output_type": "stream",
          "name": "stdout",
          "text": [
            "[1, 3, 12, 0, 0]\n"
          ]
        }
      ]
    }
  ]
}